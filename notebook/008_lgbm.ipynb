{
 "cells": [
  {
   "cell_type": "code",
   "execution_count": 1,
   "id": "fa8c15f9",
   "metadata": {},
   "outputs": [],
   "source": [
    "import json\n",
    "import pickle\n",
    "import re\n",
    "from glob import glob\n",
    "from tqdm import tqdm\n",
    "from pdb import set_trace as trace\n",
    "\n",
    "import regex\n",
    "import pandas as pd\n",
    "import numpy as np\n",
    "import matplotlib.pyplot as plt\n",
    "import lightgbm as lgbm\n",
    "from sklearn.metrics import log_loss"
   ]
  },
  {
   "cell_type": "code",
   "execution_count": 2,
   "id": "6d321285",
   "metadata": {},
   "outputs": [],
   "source": [
    "def removeZenkakuSpace(df, cols):\n",
    "    for col in cols:\n",
    "        df[col] = df[col].str.replace('　', ' ')\n",
    "    return df\n",
    "\n",
    "def histEachFavs(df, col, height=3, aspect=4, title=''):\n",
    "    for fav in sorted(df[FAV].unique()):\n",
    "        sns.catplot(x=col,data=df.query(f\"{FAV} == @fav\"),kind='count',height=height, aspect=aspect)\n",
    "        plt.title(f'{title} fav group:{fav}')\n",
    "        \n",
    "def getQueries(df, cols):\n",
    "    assert type(cols) == str or type(cols) == list, 'cols is str or list'\n",
    "    queries = []\n",
    "    if type(cols) == str:\n",
    "        queries = [f'{cols} == {flag}' for flag in sorted(df[cols].unique())]\n",
    "    elif type(cols) == list:\n",
    "        for col in cols:\n",
    "            col_queries = [f'{col} == {flag}' for flag in sorted(df[col].unique())]\n",
    "            if len(queries) == 0:\n",
    "                queries = col_queries\n",
    "            else:\n",
    "                queries = [f\"{q} & {col_queries[0]}\" for q in queries] + [f'{q} & {col_queries[1]}' for q in queries]\n",
    "            \n",
    "    return queries\n",
    "\n",
    "def columnUnique(df, col):\n",
    "    return sorted(df[col].unique())\n",
    "\n",
    "def histColumnsFavs(df, cols:list, height=3, aspect=6, title=''):\n",
    "    queries = getQueries(df, cols)\n",
    "    for query in queries:\n",
    "        data = df.query(query)\n",
    "        if len(data) == 0:\n",
    "            continue\n",
    "        sns.catplot(x=FAV,data=data,kind='count',height=height, aspect=aspect)\n",
    "        plt.title(f'{title} {query}')\n",
    "        \n",
    "def histEachFavsByCategory(df, df_target, col):\n",
    "    cats = sorted(df[col].unique())\n",
    "    for cat in cats:\n",
    "        fig, axes = plt.subplots(figsize=(30,10), ncols=3, nrows=2)\n",
    "        for ax, fav in zip(axes.ravel(), favs):\n",
    "            target_mask = (df[FAV] == fav) & (df[col] == cat)\n",
    "            ax.hist(df_target.loc[target_mask], bins=100)\n",
    "            ax.set_xlim(-1,df_target.max())\n",
    "            ax.set_title(f'bgenre:{cat}, fav:{fav}, num={target_mask.sum()}')"
   ]
  },
  {
   "cell_type": "code",
   "execution_count": 3,
   "id": "785d0acb",
   "metadata": {},
   "outputs": [],
   "source": [
    "def featureNumKeywords(df):\n",
    "    num_keywords = np.vectorize(lambda x: len(x.split()))(df.keyword)\n",
    "    return pd.DataFrame(data=num_keywords, columns=['num_keywords'])"
   ]
  },
  {
   "cell_type": "code",
   "execution_count": 4,
   "id": "15948e32",
   "metadata": {},
   "outputs": [],
   "source": [
    "out_dir = '../output'\n",
    "train_df = pd.read_csv('../dataset/train.csv')\n",
    "test_df = pd.read_csv('../dataset/test.csv')\n",
    "sub_df = pd.read_csv('../dataset/sample_submission.csv')\n",
    "ID = 'ncode'\n",
    "TARGET = 'fav_novel_cnt_bin'\n",
    "favs = sorted(train_df[TARGET].unique())\n",
    "\n",
    "# # train_df.userid = train_df.userid.astype('str')\n",
    "# train_df.genre = train_df.genre.astype('str')\n",
    "# test_df.userid = test_df.userid.astype('str')\n",
    "# test_df.genre = test_df.genre.astype('str')\n",
    "str_cols = ['title', 'story', 'keyword', 'writer']\n",
    "train_df = removeZenkakuSpace(train_df, str_cols)\n",
    "test_df = removeZenkakuSpace(test_df, str_cols)"
   ]
  },
  {
   "cell_type": "code",
   "execution_count": 5,
   "id": "ebd1f010",
   "metadata": {},
   "outputs": [],
   "source": [
    "all_df = pd.concat([train_df,test_df])\n",
    "train_idx = len(train_df)"
   ]
  },
  {
   "cell_type": "code",
   "execution_count": 6,
   "id": "f77bf911",
   "metadata": {},
   "outputs": [
    {
     "data": {
      "text/plain": [
       "Index(['ncode', 'general_firstup', 'title', 'story', 'keyword', 'userid',\n",
       "       'writer', 'biggenre', 'genre', 'novel_type', 'end', 'isstop', 'isr15',\n",
       "       'isbl', 'isgl', 'iszankoku', 'istensei', 'istenni', 'pc_or_k',\n",
       "       'fav_novel_cnt_bin'],\n",
       "      dtype='object')"
      ]
     },
     "execution_count": 6,
     "metadata": {},
     "output_type": "execute_result"
    }
   ],
   "source": [
    "train_df.columns"
   ]
  },
  {
   "cell_type": "code",
   "execution_count": 7,
   "id": "62dd629c",
   "metadata": {},
   "outputs": [],
   "source": [
    "all_df.keyword = all_df.keyword.fillna('')"
   ]
  },
  {
   "cell_type": "code",
   "execution_count": 8,
   "id": "a01c1fad",
   "metadata": {},
   "outputs": [],
   "source": [
    "import datetime\n",
    "\n",
    "dt_now = datetime.datetime.now()\n",
    "all_df['past_days'] = all_df['general_firstup'].apply(lambda x: (dt_now - datetime.datetime.strptime(x, '%Y-%m-%d %H:%M:%S')).days)"
   ]
  },
  {
   "cell_type": "code",
   "execution_count": 9,
   "id": "1886eeea",
   "metadata": {},
   "outputs": [],
   "source": [
    "num_keyword_df = featureNumKeywords(all_df)"
   ]
  },
  {
   "cell_type": "code",
   "execution_count": 10,
   "id": "728d4f95",
   "metadata": {},
   "outputs": [
    {
     "data": {
      "text/plain": [
       "48522"
      ]
     },
     "execution_count": 10,
     "metadata": {},
     "output_type": "execute_result"
    }
   ],
   "source": [
    "len(all_df)"
   ]
  },
  {
   "cell_type": "code",
   "execution_count": 11,
   "id": "184c23b5",
   "metadata": {},
   "outputs": [],
   "source": [
    "cat_cols = ['userid', 'biggenre', 'genre', 'novel_type', 'end', 'isstop', 'isr15', 'isbl', 'isgl', 'iszankoku', 'istensei', 'istenni']"
   ]
  },
  {
   "cell_type": "code",
   "execution_count": 12,
   "id": "86667806",
   "metadata": {},
   "outputs": [],
   "source": [
    "num_cols = ['past_days'] + list(num_keyword_df.columns)"
   ]
  },
  {
   "cell_type": "code",
   "execution_count": 13,
   "id": "aea4132f",
   "metadata": {},
   "outputs": [],
   "source": [
    "feat_cols = cat_cols + num_cols"
   ]
  },
  {
   "cell_type": "code",
   "execution_count": 14,
   "id": "eecd901c",
   "metadata": {},
   "outputs": [],
   "source": [
    "def concatDfs(dfs:list):\n",
    "    concat_df = pd.DataFrame()\n",
    "#     trace()\n",
    "    for df in dfs:\n",
    "        df.reset_index(drop=True, inplace=True)\n",
    "        concat_df = pd.concat([concat_df, df], axis=1)\n",
    "        \n",
    "    return concat_df "
   ]
  },
  {
   "cell_type": "code",
   "execution_count": 15,
   "id": "b5368952",
   "metadata": {},
   "outputs": [
    {
     "data": {
      "text/plain": [
       "(48522, 22)"
      ]
     },
     "metadata": {},
     "output_type": "display_data"
    }
   ],
   "source": [
    "concat_df = concatDfs([all_df, num_keyword_df])\n",
    "display(concat_df.shape)"
   ]
  },
  {
   "cell_type": "code",
   "execution_count": 16,
   "id": "8e4e07b2",
   "metadata": {},
   "outputs": [
    {
     "name": "stdout",
     "output_type": "stream",
     "text": [
      "(35000, 22) (5000, 22) (8522, 22)\n"
     ]
    }
   ],
   "source": [
    "train = concat_df.iloc[:35000, :]\n",
    "val = concat_df.iloc[35000:train_idx, :]\n",
    "test = concat_df.iloc[train_idx:, :]\n",
    "print(train.shape, val.shape, test.shape)"
   ]
  },
  {
   "cell_type": "code",
   "execution_count": 17,
   "id": "b686ee70",
   "metadata": {},
   "outputs": [
    {
     "data": {
      "text/plain": [
       "(35000, 14)"
      ]
     },
     "execution_count": 17,
     "metadata": {},
     "output_type": "execute_result"
    }
   ],
   "source": [
    "train_x = train[feat_cols]\n",
    "train_y = train[TARGET]\n",
    "val_x = val[feat_cols]\n",
    "val_y = val[TARGET]\n",
    "test_x = test[feat_cols]\n",
    "test_y = test[TARGET]\n",
    "train_x.shape"
   ]
  },
  {
   "cell_type": "code",
   "execution_count": 58,
   "id": "62cf71ae",
   "metadata": {},
   "outputs": [
    {
     "name": "stderr",
     "output_type": "stream",
     "text": [
      "/home/wsato/work/venv/lib/python3.8/site-packages/lightgbm/engine.py:177: UserWarning: Found `num_boost_round` in params. Will use it instead of argument\n",
      "  _log_warning(f\"Found `{alias}` in params. Will use it instead of argument\")\n",
      "/home/wsato/work/venv/lib/python3.8/site-packages/lightgbm/basic.py:2068: UserWarning: categorical_feature in Dataset is overridden.\n",
      "New categorical_feature is ['biggenre', 'end', 'genre', 'isbl', 'isgl', 'isr15', 'isstop', 'istenni', 'istensei', 'iszankoku', 'novel_type', 'userid']\n",
      "  _log_warning('categorical_feature in Dataset is overridden.\\n'\n",
      "/home/wsato/work/venv/lib/python3.8/site-packages/lightgbm/engine.py:240: UserWarning: 'verbose_eval' argument is deprecated and will be removed in a future release of LightGBM. Pass 'log_evaluation()' callback via 'callbacks' argument instead.\n",
      "  _log_warning(\"'verbose_eval' argument is deprecated and will be removed in a future release of LightGBM. \"\n",
      "/home/wsato/work/venv/lib/python3.8/site-packages/lightgbm/basic.py:1780: UserWarning: Overriding the parameters from Reference Dataset.\n",
      "  _log_warning('Overriding the parameters from Reference Dataset.')\n",
      "/home/wsato/work/venv/lib/python3.8/site-packages/lightgbm/basic.py:1513: UserWarning: categorical_column in param dict is overridden.\n",
      "  _log_warning(f'{cat_alias} in param dict is overridden.')\n"
     ]
    },
    {
     "name": "stdout",
     "output_type": "stream",
     "text": [
      "Training until validation scores don't improve for 100 rounds\n",
      "[100]\ttrain's multi_logloss: 0.929571\tvalid's multi_logloss: 0.914807\n",
      "[200]\ttrain's multi_logloss: 0.854514\tvalid's multi_logloss: 0.856209\n",
      "[300]\ttrain's multi_logloss: 0.819639\tvalid's multi_logloss: 0.834726\n",
      "[400]\ttrain's multi_logloss: 0.799134\tvalid's multi_logloss: 0.823722\n",
      "[500]\ttrain's multi_logloss: 0.784835\tvalid's multi_logloss: 0.818159\n",
      "[600]\ttrain's multi_logloss: 0.774043\tvalid's multi_logloss: 0.814739\n",
      "[700]\ttrain's multi_logloss: 0.765011\tvalid's multi_logloss: 0.812394\n",
      "[800]\ttrain's multi_logloss: 0.756964\tvalid's multi_logloss: 0.810895\n",
      "[900]\ttrain's multi_logloss: 0.749814\tvalid's multi_logloss: 0.80985\n",
      "[1000]\ttrain's multi_logloss: 0.743253\tvalid's multi_logloss: 0.808942\n",
      "[1100]\ttrain's multi_logloss: 0.737068\tvalid's multi_logloss: 0.808255\n",
      "[1200]\ttrain's multi_logloss: 0.73138\tvalid's multi_logloss: 0.807809\n",
      "[1300]\ttrain's multi_logloss: 0.726318\tvalid's multi_logloss: 0.807589\n",
      "[1400]\ttrain's multi_logloss: 0.72139\tvalid's multi_logloss: 0.807365\n",
      "[1500]\ttrain's multi_logloss: 0.716558\tvalid's multi_logloss: 0.80736\n",
      "Early stopping, best iteration is:\n",
      "[1406]\ttrain's multi_logloss: 0.7211\tvalid's multi_logloss: 0.807317\n"
     ]
    }
   ],
   "source": [
    "\n",
    "SEED = 0\n",
    "\n",
    "params = {\n",
    "    'objective': 'multiclass',\n",
    "    'num_classes': 5,\n",
    "    'metric': 'multi_logloss',\n",
    "    'num_leaves': 42,\n",
    "    'max_depth': 7,\n",
    "    \"feature_fraction\": 0.8,\n",
    "    'subsample_freq': 1,\n",
    "    \"bagging_fraction\": 0.95,\n",
    "    'min_data_in_leaf': 2,\n",
    "    'learning_rate': 0.01,\n",
    "    \"boosting\": \"gbdt\",\n",
    "    \"lambda_l1\": 0.1,\n",
    "    \"lambda_l2\": 10,\n",
    "    \"verbosity\": -1,\n",
    "    \"random_state\": 42,\n",
    "    \"num_boost_round\": 50000,\n",
    "    \"early_stopping_rounds\": 100\n",
    "}\n",
    "\n",
    "train_data = lgbm.Dataset(train_x, label=train_y)\n",
    "val_data = lgbm.Dataset(val_x, label=val_y)\n",
    "\n",
    "model = lgbm.train(\n",
    "    params,\n",
    "    train_data, \n",
    "    categorical_feature = cat_cols,\n",
    "    valid_names = ['train', 'valid'],\n",
    "    valid_sets =[train_data, val_data], \n",
    "    verbose_eval = 100,\n",
    ")\n",
    "\n",
    "val_pred = model.predict(val_x, num_iteration=model.best_iteration)\n",
    "\n",
    "pred_df = pd.DataFrame(sorted(zip(val_x.index, val_pred, val_y)), columns=['index', 'predict', 'actual'])\n",
    "\n",
    "feature_imp = pd.DataFrame(sorted(zip(model.feature_importance(), train_x.columns)), columns=['importance', 'feature'])"
   ]
  },
  {
   "cell_type": "code",
   "execution_count": 59,
   "id": "e3557079",
   "metadata": {},
   "outputs": [
    {
     "name": "stdout",
     "output_type": "stream",
     "text": [
      "0.6378\n"
     ]
    }
   ],
   "source": [
    "val_pred = model.predict(val_x, num_iteration=model.best_iteration)\n",
    "val_pred_max = np.argmax(val_pred, axis=1)  # 最尤と判断したクラスの値にする\n",
    "accuracy = sum(val_y == val_pred_max) / len(val_y)\n",
    "print(accuracy)"
   ]
  },
  {
   "cell_type": "code",
   "execution_count": 61,
   "id": "c8f2d3d9",
   "metadata": {},
   "outputs": [
    {
     "data": {
      "image/png": "[encoded data removed]",
      "text/plain": [
       "<Figure size 864x576 with 1 Axes>"
      ]
     },
     "metadata": {
      "needs_background": "light"
     },
     "output_type": "display_data"
    }
   ],
   "source": [
    "lgbm.plot_importance(model, figsize=(12,8), max_num_features=50, importance_type='gain')\n",
    "plt.tight_layout()\n",
    "plt.show()"
   ]
  },
  {
   "cell_type": "code",
   "execution_count": 57,
   "id": "eef0edcf",
   "metadata": {},
   "outputs": [],
   "source": [
    "test_pred = model.predict(test_x, num_iteration=model.best_iteration)\n",
    "sub_df.iloc[:, 1:] = test_pred\n",
    "sub_df.to_csv('../output/test_submission.csv', index=False)"
   ]
  },
  {
   "cell_type": "code",
   "execution_count": 49,
   "id": "284a5ff0",
   "metadata": {},
   "outputs": [
    {
     "data": {
      "text/html": [
       "<div>\n",
       "<style scoped>\n",
       "    .dataframe tbody tr th:only-of-type {\n",
       "        vertical-align: middle;\n",
       "    }\n",
       "\n",
       "    .dataframe tbody tr th {\n",
       "        vertical-align: top;\n",
       "    }\n",
       "\n",
       "    .dataframe thead th {\n",
       "        text-align: right;\n",
       "    }\n",
       "</style>\n",
       "<table border=\"1\" class=\"dataframe\">\n",
       "  <thead>\n",
       "    <tr style=\"text-align: right;\">\n",
       "      <th></th>\n",
       "      <th>proba_0</th>\n",
       "      <th>proba_1</th>\n",
       "      <th>proba_2</th>\n",
       "      <th>proba_3</th>\n",
       "      <th>proba_4</th>\n",
       "    </tr>\n",
       "  </thead>\n",
       "  <tbody>\n",
       "    <tr>\n",
       "      <th>0</th>\n",
       "      <td>0.475381</td>\n",
       "      <td>0.468971</td>\n",
       "      <td>0.048948</td>\n",
       "      <td>0.006068</td>\n",
       "      <td>0.000631</td>\n",
       "    </tr>\n",
       "    <tr>\n",
       "      <th>1</th>\n",
       "      <td>0.055693</td>\n",
       "      <td>0.224150</td>\n",
       "      <td>0.531516</td>\n",
       "      <td>0.154298</td>\n",
       "      <td>0.034343</td>\n",
       "    </tr>\n",
       "    <tr>\n",
       "      <th>2</th>\n",
       "      <td>0.852964</td>\n",
       "      <td>0.131028</td>\n",
       "      <td>0.011438</td>\n",
       "      <td>0.003921</td>\n",
       "      <td>0.000648</td>\n",
       "    </tr>\n",
       "    <tr>\n",
       "      <th>3</th>\n",
       "      <td>0.179715</td>\n",
       "      <td>0.281346</td>\n",
       "      <td>0.211108</td>\n",
       "      <td>0.132911</td>\n",
       "      <td>0.194920</td>\n",
       "    </tr>\n",
       "    <tr>\n",
       "      <th>4</th>\n",
       "      <td>0.633833</td>\n",
       "      <td>0.349612</td>\n",
       "      <td>0.015312</td>\n",
       "      <td>0.000886</td>\n",
       "      <td>0.000356</td>\n",
       "    </tr>\n",
       "    <tr>\n",
       "      <th>...</th>\n",
       "      <td>...</td>\n",
       "      <td>...</td>\n",
       "      <td>...</td>\n",
       "      <td>...</td>\n",
       "      <td>...</td>\n",
       "    </tr>\n",
       "    <tr>\n",
       "      <th>8517</th>\n",
       "      <td>0.525084</td>\n",
       "      <td>0.432783</td>\n",
       "      <td>0.036741</td>\n",
       "      <td>0.005003</td>\n",
       "      <td>0.000389</td>\n",
       "    </tr>\n",
       "    <tr>\n",
       "      <th>8518</th>\n",
       "      <td>0.509680</td>\n",
       "      <td>0.457779</td>\n",
       "      <td>0.027716</td>\n",
       "      <td>0.004319</td>\n",
       "      <td>0.000506</td>\n",
       "    </tr>\n",
       "    <tr>\n",
       "      <th>8519</th>\n",
       "      <td>0.852964</td>\n",
       "      <td>0.131028</td>\n",
       "      <td>0.011438</td>\n",
       "      <td>0.003921</td>\n",
       "      <td>0.000648</td>\n",
       "    </tr>\n",
       "    <tr>\n",
       "      <th>8520</th>\n",
       "      <td>0.850722</td>\n",
       "      <td>0.141046</td>\n",
       "      <td>0.006581</td>\n",
       "      <td>0.001149</td>\n",
       "      <td>0.000502</td>\n",
       "    </tr>\n",
       "    <tr>\n",
       "      <th>8521</th>\n",
       "      <td>0.632984</td>\n",
       "      <td>0.347913</td>\n",
       "      <td>0.016533</td>\n",
       "      <td>0.002230</td>\n",
       "      <td>0.000340</td>\n",
       "    </tr>\n",
       "  </tbody>\n",
       "</table>\n",
       "<p>8522 rows × 5 columns</p>\n",
       "</div>"
      ],
      "text/plain": [
       "       proba_0   proba_1   proba_2   proba_3   proba_4\n",
       "0     0.475381  0.468971  0.048948  0.006068  0.000631\n",
       "1     0.055693  0.224150  0.531516  0.154298  0.034343\n",
       "2     0.852964  0.131028  0.011438  0.003921  0.000648\n",
       "3     0.179715  0.281346  0.211108  0.132911  0.194920\n",
       "4     0.633833  0.349612  0.015312  0.000886  0.000356\n",
       "...        ...       ...       ...       ...       ...\n",
       "8517  0.525084  0.432783  0.036741  0.005003  0.000389\n",
       "8518  0.509680  0.457779  0.027716  0.004319  0.000506\n",
       "8519  0.852964  0.131028  0.011438  0.003921  0.000648\n",
       "8520  0.850722  0.141046  0.006581  0.001149  0.000502\n",
       "8521  0.632984  0.347913  0.016533  0.002230  0.000340\n",
       "\n",
       "[8522 rows x 5 columns]"
      ]
     },
     "execution_count": 49,
     "metadata": {},
     "output_type": "execute_result"
    }
   ],
   "source": [
    "sub_df[sub_df.drop('ncode',axis=1).columns]"
   ]
  },
  {
   "cell_type": "code",
   "execution_count": 42,
   "id": "63528437",
   "metadata": {},
   "outputs": [
    {
     "data": {
      "text/html": [
       "<div>\n",
       "<style scoped>\n",
       "    .dataframe tbody tr th:only-of-type {\n",
       "        vertical-align: middle;\n",
       "    }\n",
       "\n",
       "    .dataframe tbody tr th {\n",
       "        vertical-align: top;\n",
       "    }\n",
       "\n",
       "    .dataframe thead th {\n",
       "        text-align: right;\n",
       "    }\n",
       "</style>\n",
       "<table border=\"1\" class=\"dataframe\">\n",
       "  <thead>\n",
       "    <tr style=\"text-align: right;\">\n",
       "      <th></th>\n",
       "      <th>ncode</th>\n",
       "      <th>proba_0</th>\n",
       "      <th>proba_1</th>\n",
       "      <th>proba_2</th>\n",
       "      <th>proba_3</th>\n",
       "      <th>proba_4</th>\n",
       "    </tr>\n",
       "  </thead>\n",
       "  <tbody>\n",
       "    <tr>\n",
       "      <th>0</th>\n",
       "      <td>N4541HD</td>\n",
       "      <td>0.475381</td>\n",
       "      <td>0.468971</td>\n",
       "      <td>0.048948</td>\n",
       "      <td>0.006068</td>\n",
       "      <td>0.000631</td>\n",
       "    </tr>\n",
       "    <tr>\n",
       "      <th>1</th>\n",
       "      <td>N4397HD</td>\n",
       "      <td>0.055693</td>\n",
       "      <td>0.224150</td>\n",
       "      <td>0.531516</td>\n",
       "      <td>0.154298</td>\n",
       "      <td>0.034343</td>\n",
       "    </tr>\n",
       "    <tr>\n",
       "      <th>2</th>\n",
       "      <td>N4544HD</td>\n",
       "      <td>0.852964</td>\n",
       "      <td>0.131028</td>\n",
       "      <td>0.011438</td>\n",
       "      <td>0.003921</td>\n",
       "      <td>0.000648</td>\n",
       "    </tr>\n",
       "    <tr>\n",
       "      <th>3</th>\n",
       "      <td>N4545HD</td>\n",
       "      <td>0.179715</td>\n",
       "      <td>0.281346</td>\n",
       "      <td>0.211108</td>\n",
       "      <td>0.132911</td>\n",
       "      <td>0.194920</td>\n",
       "    </tr>\n",
       "    <tr>\n",
       "      <th>4</th>\n",
       "      <td>N4546HD</td>\n",
       "      <td>0.633833</td>\n",
       "      <td>0.349612</td>\n",
       "      <td>0.015312</td>\n",
       "      <td>0.000886</td>\n",
       "      <td>0.000356</td>\n",
       "    </tr>\n",
       "    <tr>\n",
       "      <th>...</th>\n",
       "      <td>...</td>\n",
       "      <td>...</td>\n",
       "      <td>...</td>\n",
       "      <td>...</td>\n",
       "      <td>...</td>\n",
       "      <td>...</td>\n",
       "    </tr>\n",
       "    <tr>\n",
       "      <th>8517</th>\n",
       "      <td>N5983HF</td>\n",
       "      <td>0.525084</td>\n",
       "      <td>0.432783</td>\n",
       "      <td>0.036741</td>\n",
       "      <td>0.005003</td>\n",
       "      <td>0.000389</td>\n",
       "    </tr>\n",
       "    <tr>\n",
       "      <th>8518</th>\n",
       "      <td>N5990HF</td>\n",
       "      <td>0.509680</td>\n",
       "      <td>0.457779</td>\n",
       "      <td>0.027716</td>\n",
       "      <td>0.004319</td>\n",
       "      <td>0.000506</td>\n",
       "    </tr>\n",
       "    <tr>\n",
       "      <th>8519</th>\n",
       "      <td>N5993HF</td>\n",
       "      <td>0.852964</td>\n",
       "      <td>0.131028</td>\n",
       "      <td>0.011438</td>\n",
       "      <td>0.003921</td>\n",
       "      <td>0.000648</td>\n",
       "    </tr>\n",
       "    <tr>\n",
       "      <th>8520</th>\n",
       "      <td>N5996HF</td>\n",
       "      <td>0.850722</td>\n",
       "      <td>0.141046</td>\n",
       "      <td>0.006581</td>\n",
       "      <td>0.001149</td>\n",
       "      <td>0.000502</td>\n",
       "    </tr>\n",
       "    <tr>\n",
       "      <th>8521</th>\n",
       "      <td>N5997HF</td>\n",
       "      <td>0.632984</td>\n",
       "      <td>0.347913</td>\n",
       "      <td>0.016533</td>\n",
       "      <td>0.002230</td>\n",
       "      <td>0.000340</td>\n",
       "    </tr>\n",
       "  </tbody>\n",
       "</table>\n",
       "<p>8522 rows × 6 columns</p>\n",
       "</div>"
      ],
      "text/plain": [
       "        ncode   proba_0   proba_1   proba_2   proba_3   proba_4\n",
       "0     N4541HD  0.475381  0.468971  0.048948  0.006068  0.000631\n",
       "1     N4397HD  0.055693  0.224150  0.531516  0.154298  0.034343\n",
       "2     N4544HD  0.852964  0.131028  0.011438  0.003921  0.000648\n",
       "3     N4545HD  0.179715  0.281346  0.211108  0.132911  0.194920\n",
       "4     N4546HD  0.633833  0.349612  0.015312  0.000886  0.000356\n",
       "...       ...       ...       ...       ...       ...       ...\n",
       "8517  N5983HF  0.525084  0.432783  0.036741  0.005003  0.000389\n",
       "8518  N5990HF  0.509680  0.457779  0.027716  0.004319  0.000506\n",
       "8519  N5993HF  0.852964  0.131028  0.011438  0.003921  0.000648\n",
       "8520  N5996HF  0.850722  0.141046  0.006581  0.001149  0.000502\n",
       "8521  N5997HF  0.632984  0.347913  0.016533  0.002230  0.000340\n",
       "\n",
       "[8522 rows x 6 columns]"
      ]
     },
     "execution_count": 42,
     "metadata": {},
     "output_type": "execute_result"
    }
   ],
   "source": [
    "sub_df"
   ]
  }
 ],
 "metadata": {
  "kernelspec": {
   "display_name": "venv",
   "language": "python",
   "name": "venv"
  },
  "language_info": {
   "codemirror_mode": {
    "name": "ipython",
    "version": 3
   },
   "file_extension": ".py",
   "mimetype": "text/x-python",
   "name": "python",
   "nbconvert_exporter": "python",
   "pygments_lexer": "ipython3",
   "version": "3.8.10"
  }
 },
 "nbformat": 4,
 "nbformat_minor": 5
}

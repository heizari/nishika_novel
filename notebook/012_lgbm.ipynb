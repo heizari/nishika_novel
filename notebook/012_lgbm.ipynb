{
 "cells": [
  {
   "cell_type": "markdown",
   "id": "a6a5b966",
   "metadata": {},
   "source": [
    "## discussionのbaseline lgbmを参考"
   ]
  },
  {
   "cell_type": "code",
   "execution_count": 1,
   "id": "8ecbdb0e",
   "metadata": {},
   "outputs": [],
   "source": [
    "file_num = '012'"
   ]
  },
  {
   "cell_type": "code",
   "execution_count": 2,
   "id": "c37abdf4",
   "metadata": {},
   "outputs": [],
   "source": [
    "import json\n",
    "import pickle\n",
    "import re\n",
    "from glob import glob\n",
    "from tqdm import tqdm\n",
    "from pdb import set_trace as trace\n",
    "from xfeat import Pipeline, SelectCategorical, LabelEncoder\n",
    "import seaborn as sns\n",
    "import regex\n",
    "import pandas as pd\n",
    "import numpy as np\n",
    "import matplotlib.pyplot as plt\n",
    "import lightgbm as lgb\n",
    "from sklearn.model_selection import StratifiedKFold, KFold\n",
    "from sklearn.metrics import log_loss"
   ]
  },
  {
   "cell_type": "code",
   "execution_count": 3,
   "id": "7c637dba",
   "metadata": {},
   "outputs": [],
   "source": [
    "def removeZenkakuSpace(df, cols):\n",
    "    for col in cols:\n",
    "        df[col] = df[col].str.replace('　', ' ')\n",
    "    return df\n",
    "\n",
    "def histEachFavs(df, col, height=3, aspect=4, title=''):\n",
    "    for fav in sorted(df[FAV].unique()):\n",
    "        sns.catplot(x=col,data=df.query(f\"{FAV} == @fav\"),kind='count',height=height, aspect=aspect)\n",
    "        plt.title(f'{title} fav group:{fav}')\n",
    "        \n",
    "def getQueries(df, cols):\n",
    "    assert type(cols) == str or type(cols) == list, 'cols is str or list'\n",
    "    queries = []\n",
    "    if type(cols) == str:\n",
    "        queries = [f'{cols} == {flag}' for flag in sorted(df[cols].unique())]\n",
    "    elif type(cols) == list:\n",
    "        for col in cols:\n",
    "            col_queries = [f'{col} == {flag}' for flag in sorted(df[col].unique())]\n",
    "            if len(queries) == 0:\n",
    "                queries = col_queries\n",
    "            else:\n",
    "                queries = [f\"{q} & {col_queries[0]}\" for q in queries] + [f'{q} & {col_queries[1]}' for q in queries]\n",
    "            \n",
    "    return queries\n",
    "\n",
    "def columnUnique(df, col):\n",
    "    return sorted(df[col].unique())\n",
    "\n",
    "def histColumnsFavs(df, cols:list, height=3, aspect=6, title=''):\n",
    "    queries = getQueries(df, cols)\n",
    "    for query in queries:\n",
    "        data = df.query(query)\n",
    "        if len(data) == 0:\n",
    "            continue\n",
    "        sns.catplot(x=FAV,data=data,kind='count',height=height, aspect=aspect)\n",
    "        plt.title(f'{title} {query}')\n",
    "        \n",
    "def histEachFavsByCategory(df, df_target, col):\n",
    "    cats = sorted(df[col].unique())\n",
    "    for cat in cats:\n",
    "        fig, axes = plt.subplots(figsize=(30,10), ncols=3, nrows=2)\n",
    "        for ax, fav in zip(axes.ravel(), favs):\n",
    "            target_mask = (df[FAV] == fav) & (df[col] == cat)\n",
    "            ax.hist(df_target.loc[target_mask], bins=100)\n",
    "            ax.set_xlim(-1,df_target.max())\n",
    "            ax.set_title(f'bgenre:{cat}, fav:{fav}, num={target_mask.sum()}')"
   ]
  },
  {
   "cell_type": "code",
   "execution_count": 4,
   "id": "96b92547",
   "metadata": {},
   "outputs": [],
   "source": [
    "def featureNumKeywords(df):\n",
    "    num_keywords = np.vectorize(lambda x: len(x.split()))(df.keyword)\n",
    "    return pd.DataFrame(data=num_keywords, columns=['num_keywords'])\n",
    "\n",
    "def featureMaxSentenceLength(story):\n",
    "    sentences_len = [len(sentence) for sentence in story.split('\\n')]\n",
    "    return max(sentences_len)\n",
    "    \n",
    "def featureNumIndent(story):\n",
    "    return len(list(filter(lambda x: len(x) == 0 ,story.split('\\n'))))\n",
    "    \n",
    "def featureStory(df):\n",
    "    feature_df = pd.DataFrame()\n",
    "    feature_df['num_sentence'] = df.story.str.count('\\n')\n",
    "    feature_df['max_sentence_len'] = np.vectorize(featureMaxSentenceLength)(df.story)\n",
    "    feature_df['mean_sentence_len'] = (df.story.str.len() / (df.story.str.count('\\n') +1)).astype('int')\n",
    "    feature_df['num_indent'] = np.vectorize(featureNumIndent)(df.story)\n",
    "    \n",
    "    return feature_df\n",
    "    \n",
    "def concatDfs(dfs:list):\n",
    "    concat_df = pd.DataFrame()\n",
    "#     trace()\n",
    "    for df in dfs:\n",
    "        df.reset_index(drop=True, inplace=True)\n",
    "        concat_df = pd.concat([concat_df, df], axis=1)\n",
    "        \n",
    "    return concat_df "
   ]
  },
  {
   "cell_type": "code",
   "execution_count": 5,
   "id": "41e7e2eb",
   "metadata": {},
   "outputs": [],
   "source": [
    "out_dir = '../output'\n",
    "train_df = pd.read_csv('../dataset/train.csv')\n",
    "test_df = pd.read_csv('../dataset/test.csv')\n",
    "sub_df = pd.read_csv('../dataset/sample_submission.csv')\n",
    "sub_columns = sub_df.drop('ncode', axis=1).columns\n",
    "ID = 'ncode'\n",
    "TARGET = 'fav_novel_cnt_bin'\n",
    "favs = sorted(train_df[TARGET].unique())\n",
    "\n",
    "# # train_df.userid = train_df.userid.astype('str')\n",
    "# train_df.genre = train_df.genre.astype('str')\n",
    "# test_df.userid = test_df.userid.astype('str')\n",
    "# test_df.genre = test_df.genre.astype('str')\n",
    "str_cols = ['title', 'story', 'keyword', 'writer']"
   ]
  },
  {
   "cell_type": "code",
   "execution_count": 6,
   "id": "81e02c43",
   "metadata": {},
   "outputs": [],
   "source": [
    "train_df = removeZenkakuSpace(train_df, str_cols)\n",
    "test_df = removeZenkakuSpace(test_df, str_cols)"
   ]
  },
  {
   "cell_type": "code",
   "execution_count": 7,
   "id": "9cb0e5d7",
   "metadata": {},
   "outputs": [],
   "source": [
    "all_df = pd.concat([train_df,test_df])\n",
    "train_idx = len(train_df)"
   ]
  },
  {
   "cell_type": "code",
   "execution_count": 8,
   "id": "d36d1aff",
   "metadata": {},
   "outputs": [],
   "source": [
    "encoder = Pipeline([\n",
    "    SelectCategorical(),\n",
    "    LabelEncoder(output_suffix=\"\"),\n",
    "])\n",
    "\n",
    "le_df = encoder.fit_transform(all_df)\n",
    "all_df['writer'] = le_df['writer']"
   ]
  },
  {
   "cell_type": "code",
   "execution_count": 68,
   "id": "87b96c8c",
   "metadata": {},
   "outputs": [],
   "source": [
    "mask_latest = train_df.general_firstup.str.contains('202')"
   ]
  },
  {
   "cell_type": "code",
   "execution_count": 9,
   "id": "3603d2e9",
   "metadata": {},
   "outputs": [
    {
     "data": {
      "text/plain": [
       "Index(['ncode', 'general_firstup', 'title', 'story', 'keyword', 'userid',\n",
       "       'writer', 'biggenre', 'genre', 'novel_type', 'end', 'isstop', 'isr15',\n",
       "       'isbl', 'isgl', 'iszankoku', 'istensei', 'istenni', 'pc_or_k',\n",
       "       'fav_novel_cnt_bin'],\n",
       "      dtype='object')"
      ]
     },
     "execution_count": 9,
     "metadata": {},
     "output_type": "execute_result"
    }
   ],
   "source": [
    "train_df.columns"
   ]
  },
  {
   "cell_type": "code",
   "execution_count": 10,
   "id": "523589a0",
   "metadata": {},
   "outputs": [],
   "source": [
    "all_df.keyword = all_df.keyword.fillna('')"
   ]
  },
  {
   "cell_type": "code",
   "execution_count": 11,
   "id": "1504aac3",
   "metadata": {},
   "outputs": [],
   "source": [
    "import datetime\n",
    "\n",
    "dt_now = datetime.datetime.now()\n",
    "# all_df['past_days'] = all_df['general_firstup'].apply(lambda x: (dt_now - datetime.datetime.strptime(x, '%Y-%m-%d %H:%M:%S')).days)"
   ]
  },
  {
   "cell_type": "code",
   "execution_count": 12,
   "id": "226e566f",
   "metadata": {},
   "outputs": [],
   "source": [
    "num_keyword_df = featureNumKeywords(all_df)"
   ]
  },
  {
   "cell_type": "code",
   "execution_count": 13,
   "id": "9a8d7010",
   "metadata": {},
   "outputs": [],
   "source": [
    "story_df = featureStory(all_df)"
   ]
  },
  {
   "cell_type": "code",
   "execution_count": 14,
   "id": "5da7b53a",
   "metadata": {},
   "outputs": [
    {
     "data": {
      "text/plain": [
       "48522"
      ]
     },
     "execution_count": 14,
     "metadata": {},
     "output_type": "execute_result"
    }
   ],
   "source": [
    "len(all_df)"
   ]
  },
  {
   "cell_type": "code",
   "execution_count": 15,
   "id": "c76d1183",
   "metadata": {},
   "outputs": [],
   "source": [
    "drop_cols = ['end', 'isstop', 'writer', 'ncode', 'general_firstup', 'title', 'story', 'keyword']"
   ]
  },
  {
   "cell_type": "code",
   "execution_count": 16,
   "id": "6fc99eb0",
   "metadata": {},
   "outputs": [
    {
     "data": {
      "text/plain": [
       "Index(['userid', 'biggenre', 'genre', 'novel_type', 'isr15', 'isbl', 'isgl',\n",
       "       'iszankoku', 'istensei', 'istenni', 'pc_or_k', 'fav_novel_cnt_bin'],\n",
       "      dtype='object')"
      ]
     },
     "execution_count": 16,
     "metadata": {},
     "output_type": "execute_result"
    }
   ],
   "source": [
    "all_df = all_df.drop(drop_cols, axis=1)\n",
    "all_df.columns"
   ]
  },
  {
   "cell_type": "code",
   "execution_count": 17,
   "id": "584caf87",
   "metadata": {},
   "outputs": [],
   "source": [
    "cat_cols = ['userid', 'biggenre', 'genre', 'novel_type', 'isr15', 'isbl', 'isgl', 'iszankoku', 'istensei', 'istenni']"
   ]
  },
  {
   "cell_type": "code",
   "execution_count": 18,
   "id": "58954497",
   "metadata": {},
   "outputs": [],
   "source": [
    "num_cols = ['past_days'] + list(num_keyword_df.columns) + list(story_df.columns)"
   ]
  },
  {
   "cell_type": "code",
   "execution_count": 19,
   "id": "d3c13eb1",
   "metadata": {},
   "outputs": [],
   "source": [
    "feat_cols = cat_cols + num_cols"
   ]
  },
  {
   "cell_type": "code",
   "execution_count": 20,
   "id": "903dcb0c",
   "metadata": {},
   "outputs": [
    {
     "data": {
      "text/plain": [
       "(48522, 17)"
      ]
     },
     "metadata": {},
     "output_type": "display_data"
    }
   ],
   "source": [
    "concat_df = concatDfs([all_df, num_keyword_df, story_df])\n",
    "display(concat_df.shape)"
   ]
  },
  {
   "cell_type": "code",
   "execution_count": 21,
   "id": "3fd59b8e",
   "metadata": {},
   "outputs": [
    {
     "data": {
      "text/html": [
       "<div>\n",
       "<style scoped>\n",
       "    .dataframe tbody tr th:only-of-type {\n",
       "        vertical-align: middle;\n",
       "    }\n",
       "\n",
       "    .dataframe tbody tr th {\n",
       "        vertical-align: top;\n",
       "    }\n",
       "\n",
       "    .dataframe thead th {\n",
       "        text-align: right;\n",
       "    }\n",
       "</style>\n",
       "<table border=\"1\" class=\"dataframe\">\n",
       "  <thead>\n",
       "    <tr style=\"text-align: right;\">\n",
       "      <th></th>\n",
       "      <th>userid</th>\n",
       "      <th>biggenre</th>\n",
       "      <th>genre</th>\n",
       "      <th>novel_type</th>\n",
       "      <th>isr15</th>\n",
       "      <th>isbl</th>\n",
       "      <th>isgl</th>\n",
       "      <th>iszankoku</th>\n",
       "      <th>istensei</th>\n",
       "      <th>istenni</th>\n",
       "      <th>pc_or_k</th>\n",
       "      <th>fav_novel_cnt_bin</th>\n",
       "      <th>num_keywords</th>\n",
       "      <th>num_sentence</th>\n",
       "      <th>max_sentence_len</th>\n",
       "      <th>mean_sentence_len</th>\n",
       "      <th>num_indent</th>\n",
       "    </tr>\n",
       "  </thead>\n",
       "  <tbody>\n",
       "    <tr>\n",
       "      <th>0</th>\n",
       "      <td>9904</td>\n",
       "      <td>4</td>\n",
       "      <td>402</td>\n",
       "      <td>1</td>\n",
       "      <td>0</td>\n",
       "      <td>0</td>\n",
       "      <td>0</td>\n",
       "      <td>0</td>\n",
       "      <td>0</td>\n",
       "      <td>0</td>\n",
       "      <td>0</td>\n",
       "      <td>1.0</td>\n",
       "      <td>5</td>\n",
       "      <td>4</td>\n",
       "      <td>199</td>\n",
       "      <td>49</td>\n",
       "      <td>2</td>\n",
       "    </tr>\n",
       "    <tr>\n",
       "      <th>1</th>\n",
       "      <td>6527</td>\n",
       "      <td>4</td>\n",
       "      <td>401</td>\n",
       "      <td>1</td>\n",
       "      <td>0</td>\n",
       "      <td>0</td>\n",
       "      <td>0</td>\n",
       "      <td>0</td>\n",
       "      <td>0</td>\n",
       "      <td>0</td>\n",
       "      <td>3</td>\n",
       "      <td>2.0</td>\n",
       "      <td>14</td>\n",
       "      <td>0</td>\n",
       "      <td>113</td>\n",
       "      <td>113</td>\n",
       "      <td>0</td>\n",
       "    </tr>\n",
       "    <tr>\n",
       "      <th>2</th>\n",
       "      <td>13882</td>\n",
       "      <td>4</td>\n",
       "      <td>403</td>\n",
       "      <td>1</td>\n",
       "      <td>0</td>\n",
       "      <td>0</td>\n",
       "      <td>0</td>\n",
       "      <td>0</td>\n",
       "      <td>0</td>\n",
       "      <td>0</td>\n",
       "      <td>0</td>\n",
       "      <td>3.0</td>\n",
       "      <td>6</td>\n",
       "      <td>4</td>\n",
       "      <td>38</td>\n",
       "      <td>25</td>\n",
       "      <td>1</td>\n",
       "    </tr>\n",
       "    <tr>\n",
       "      <th>3</th>\n",
       "      <td>13920</td>\n",
       "      <td>4</td>\n",
       "      <td>402</td>\n",
       "      <td>1</td>\n",
       "      <td>0</td>\n",
       "      <td>0</td>\n",
       "      <td>0</td>\n",
       "      <td>0</td>\n",
       "      <td>0</td>\n",
       "      <td>0</td>\n",
       "      <td>2</td>\n",
       "      <td>1.0</td>\n",
       "      <td>13</td>\n",
       "      <td>0</td>\n",
       "      <td>128</td>\n",
       "      <td>128</td>\n",
       "      <td>0</td>\n",
       "    </tr>\n",
       "    <tr>\n",
       "      <th>4</th>\n",
       "      <td>12136</td>\n",
       "      <td>4</td>\n",
       "      <td>401</td>\n",
       "      <td>1</td>\n",
       "      <td>0</td>\n",
       "      <td>0</td>\n",
       "      <td>0</td>\n",
       "      <td>0</td>\n",
       "      <td>0</td>\n",
       "      <td>0</td>\n",
       "      <td>1</td>\n",
       "      <td>1.0</td>\n",
       "      <td>12</td>\n",
       "      <td>0</td>\n",
       "      <td>179</td>\n",
       "      <td>179</td>\n",
       "      <td>0</td>\n",
       "    </tr>\n",
       "    <tr>\n",
       "      <th>...</th>\n",
       "      <td>...</td>\n",
       "      <td>...</td>\n",
       "      <td>...</td>\n",
       "      <td>...</td>\n",
       "      <td>...</td>\n",
       "      <td>...</td>\n",
       "      <td>...</td>\n",
       "      <td>...</td>\n",
       "      <td>...</td>\n",
       "      <td>...</td>\n",
       "      <td>...</td>\n",
       "      <td>...</td>\n",
       "      <td>...</td>\n",
       "      <td>...</td>\n",
       "      <td>...</td>\n",
       "      <td>...</td>\n",
       "      <td>...</td>\n",
       "    </tr>\n",
       "    <tr>\n",
       "      <th>48517</th>\n",
       "      <td>2263100</td>\n",
       "      <td>99</td>\n",
       "      <td>9903</td>\n",
       "      <td>2</td>\n",
       "      <td>0</td>\n",
       "      <td>0</td>\n",
       "      <td>0</td>\n",
       "      <td>0</td>\n",
       "      <td>0</td>\n",
       "      <td>0</td>\n",
       "      <td>2</td>\n",
       "      <td>NaN</td>\n",
       "      <td>4</td>\n",
       "      <td>0</td>\n",
       "      <td>75</td>\n",
       "      <td>75</td>\n",
       "      <td>0</td>\n",
       "    </tr>\n",
       "    <tr>\n",
       "      <th>48518</th>\n",
       "      <td>2254651</td>\n",
       "      <td>3</td>\n",
       "      <td>305</td>\n",
       "      <td>2</td>\n",
       "      <td>0</td>\n",
       "      <td>0</td>\n",
       "      <td>0</td>\n",
       "      <td>0</td>\n",
       "      <td>0</td>\n",
       "      <td>0</td>\n",
       "      <td>2</td>\n",
       "      <td>NaN</td>\n",
       "      <td>10</td>\n",
       "      <td>4</td>\n",
       "      <td>43</td>\n",
       "      <td>22</td>\n",
       "      <td>2</td>\n",
       "    </tr>\n",
       "    <tr>\n",
       "      <th>48519</th>\n",
       "      <td>846989</td>\n",
       "      <td>3</td>\n",
       "      <td>302</td>\n",
       "      <td>2</td>\n",
       "      <td>0</td>\n",
       "      <td>0</td>\n",
       "      <td>0</td>\n",
       "      <td>0</td>\n",
       "      <td>0</td>\n",
       "      <td>0</td>\n",
       "      <td>2</td>\n",
       "      <td>NaN</td>\n",
       "      <td>2</td>\n",
       "      <td>0</td>\n",
       "      <td>51</td>\n",
       "      <td>51</td>\n",
       "      <td>0</td>\n",
       "    </tr>\n",
       "    <tr>\n",
       "      <th>48520</th>\n",
       "      <td>2259847</td>\n",
       "      <td>2</td>\n",
       "      <td>202</td>\n",
       "      <td>2</td>\n",
       "      <td>0</td>\n",
       "      <td>0</td>\n",
       "      <td>0</td>\n",
       "      <td>0</td>\n",
       "      <td>0</td>\n",
       "      <td>0</td>\n",
       "      <td>2</td>\n",
       "      <td>NaN</td>\n",
       "      <td>0</td>\n",
       "      <td>8</td>\n",
       "      <td>42</td>\n",
       "      <td>19</td>\n",
       "      <td>2</td>\n",
       "    </tr>\n",
       "    <tr>\n",
       "      <th>48521</th>\n",
       "      <td>816980</td>\n",
       "      <td>99</td>\n",
       "      <td>9903</td>\n",
       "      <td>2</td>\n",
       "      <td>0</td>\n",
       "      <td>0</td>\n",
       "      <td>0</td>\n",
       "      <td>0</td>\n",
       "      <td>0</td>\n",
       "      <td>0</td>\n",
       "      <td>2</td>\n",
       "      <td>NaN</td>\n",
       "      <td>1</td>\n",
       "      <td>0</td>\n",
       "      <td>13</td>\n",
       "      <td>13</td>\n",
       "      <td>0</td>\n",
       "    </tr>\n",
       "  </tbody>\n",
       "</table>\n",
       "<p>48522 rows × 17 columns</p>\n",
       "</div>"
      ],
      "text/plain": [
       "        userid  biggenre  genre  novel_type  isr15  isbl  isgl  iszankoku  \\\n",
       "0         9904         4    402           1      0     0     0          0   \n",
       "1         6527         4    401           1      0     0     0          0   \n",
       "2        13882         4    403           1      0     0     0          0   \n",
       "3        13920         4    402           1      0     0     0          0   \n",
       "4        12136         4    401           1      0     0     0          0   \n",
       "...        ...       ...    ...         ...    ...   ...   ...        ...   \n",
       "48517  2263100        99   9903           2      0     0     0          0   \n",
       "48518  2254651         3    305           2      0     0     0          0   \n",
       "48519   846989         3    302           2      0     0     0          0   \n",
       "48520  2259847         2    202           2      0     0     0          0   \n",
       "48521   816980        99   9903           2      0     0     0          0   \n",
       "\n",
       "       istensei  istenni  pc_or_k  fav_novel_cnt_bin  num_keywords  \\\n",
       "0             0        0        0                1.0             5   \n",
       "1             0        0        3                2.0            14   \n",
       "2             0        0        0                3.0             6   \n",
       "3             0        0        2                1.0            13   \n",
       "4             0        0        1                1.0            12   \n",
       "...         ...      ...      ...                ...           ...   \n",
       "48517         0        0        2                NaN             4   \n",
       "48518         0        0        2                NaN            10   \n",
       "48519         0        0        2                NaN             2   \n",
       "48520         0        0        2                NaN             0   \n",
       "48521         0        0        2                NaN             1   \n",
       "\n",
       "       num_sentence  max_sentence_len  mean_sentence_len  num_indent  \n",
       "0                 4               199                 49           2  \n",
       "1                 0               113                113           0  \n",
       "2                 4                38                 25           1  \n",
       "3                 0               128                128           0  \n",
       "4                 0               179                179           0  \n",
       "...             ...               ...                ...         ...  \n",
       "48517             0                75                 75           0  \n",
       "48518             4                43                 22           2  \n",
       "48519             0                51                 51           0  \n",
       "48520             8                42                 19           2  \n",
       "48521             0                13                 13           0  \n",
       "\n",
       "[48522 rows x 17 columns]"
      ]
     },
     "execution_count": 21,
     "metadata": {},
     "output_type": "execute_result"
    }
   ],
   "source": [
    "concat_df"
   ]
  },
  {
   "cell_type": "code",
   "execution_count": 22,
   "id": "626bb0c4",
   "metadata": {},
   "outputs": [],
   "source": [
    "train = concat_df.iloc[:train_idx, :]\n",
    "test = concat_df.iloc[train_idx:, :]"
   ]
  },
  {
   "cell_type": "code",
   "execution_count": 23,
   "id": "1e40787b",
   "metadata": {},
   "outputs": [
    {
     "data": {
      "text/plain": [
       "Index(['userid', 'biggenre', 'genre', 'novel_type', 'isr15', 'isbl', 'isgl',\n",
       "       'iszankoku', 'istensei', 'istenni', 'pc_or_k', 'fav_novel_cnt_bin',\n",
       "       'num_keywords', 'num_sentence', 'max_sentence_len', 'mean_sentence_len',\n",
       "       'num_indent'],\n",
       "      dtype='object')"
      ]
     },
     "execution_count": 23,
     "metadata": {},
     "output_type": "execute_result"
    }
   ],
   "source": [
    "train.columns"
   ]
  },
  {
   "cell_type": "code",
   "execution_count": 24,
   "id": "4c261af0",
   "metadata": {},
   "outputs": [],
   "source": [
    "test = test.reset_index(drop=True).drop(TARGET,axis=1)"
   ]
  },
  {
   "cell_type": "code",
   "execution_count": 25,
   "id": "7e821207",
   "metadata": {},
   "outputs": [],
   "source": [
    "def fit(tr_x, tr_y, va_x, va_y, tr_w=None, va_w=None):\n",
    "    \"\"\"\n",
    "    model training\n",
    "  \n",
    "    Parameters\n",
    "    ----------\n",
    "    tr_x: pd.DataFrame\n",
    "    tr_y: pd.DataFrame\n",
    "    va_x: pd.DataFrame\n",
    "    va_y: pd.DataFrame\n",
    "\n",
    "    Returns\n",
    "    ----------\n",
    "    model:\n",
    "        - 学習済みモデル\n",
    "    va_pred: \n",
    "        - 検証データの予測結果\n",
    "    \"\"\" \n",
    "    params = {\n",
    "        'objective': 'multiclass',\n",
    "        'num_classes': 5,\n",
    "        'metric': 'multi_logloss',\n",
    "#         'num_leaves': 42,\n",
    "#         'max_depth': 7,\n",
    "#         \"feature_fraction\": 0.8,\n",
    "#         'subsample_freq': 1,\n",
    "#         \"bagging_fraction\": 0.95,\n",
    "#         'min_data_in_leaf': 2,\n",
    "        'learning_rate': 0.01,\n",
    "        \"boosting\": \"gbdt\",\n",
    "#         \"lambda_l1\": 0.1,\n",
    "#         \"lambda_l2\": 10,\n",
    "#         \"verbosity\": -1,\n",
    "#         \"random_state\": 42,\n",
    "        'seed':777,\n",
    "        'n_jobs': -1,\n",
    "        'verbose':-1,\n",
    "        \"num_boost_round\": 1000,\n",
    "        \"early_stopping_rounds\": 100\n",
    "    }\n",
    "    \n",
    "    lgb_train = lgb.Dataset(tr_x, tr_y)\n",
    "    lgb_eval = lgb.Dataset(va_x, va_y, reference=lgb_train)\n",
    "    model = lgb.train(\n",
    "        params,\n",
    "        train_set=lgb_train,\n",
    "        valid_sets=[lgb_train, lgb_eval],\n",
    "        verbose_eval=20\n",
    "    )\n",
    "    \n",
    "    va_pred = model.predict(va_x)\n",
    "    \n",
    "    return model, va_pred"
   ]
  },
  {
   "cell_type": "code",
   "execution_count": 26,
   "id": "21c6afb5",
   "metadata": {},
   "outputs": [],
   "source": [
    "def scoreing(y_true, y_prob):\n",
    "    return log_loss(y_true, y_prob)"
   ]
  },
  {
   "cell_type": "code",
   "execution_count": 27,
   "id": "99f18549",
   "metadata": {},
   "outputs": [
    {
     "data": {
      "text/plain": [
       "Index(['userid', 'biggenre', 'genre', 'novel_type', 'isr15', 'isbl', 'isgl',\n",
       "       'iszankoku', 'istensei', 'istenni', 'pc_or_k', 'fav_novel_cnt_bin',\n",
       "       'num_keywords', 'num_sentence', 'max_sentence_len', 'mean_sentence_len',\n",
       "       'num_indent'],\n",
       "      dtype='object')"
      ]
     },
     "execution_count": 27,
     "metadata": {},
     "output_type": "execute_result"
    }
   ],
   "source": [
    "train.columns"
   ]
  },
  {
   "cell_type": "code",
   "execution_count": 28,
   "id": "dd2b3f2d",
   "metadata": {},
   "outputs": [],
   "source": [
    "X = train.drop(TARGET, axis=1)\n",
    "y = train[TARGET]"
   ]
  },
  {
   "cell_type": "code",
   "execution_count": 29,
   "id": "b5ce5610",
   "metadata": {
    "scrolled": true,
    "tags": []
   },
   "outputs": [
    {
     "name": "stdout",
     "output_type": "stream",
     "text": [
      "----CV:1----\n",
      "Training until validation scores don't improve for 100 rounds\n"
     ]
    },
    {
     "name": "stderr",
     "output_type": "stream",
     "text": [
      "/home/wsato/work/venv/lib/python3.8/site-packages/lightgbm/engine.py:177: UserWarning: Found `num_boost_round` in params. Will use it instead of argument\n",
      "  _log_warning(f\"Found `{alias}` in params. Will use it instead of argument\")\n",
      "/home/wsato/work/venv/lib/python3.8/site-packages/lightgbm/engine.py:240: UserWarning: 'verbose_eval' argument is deprecated and will be removed in a future release of LightGBM. Pass 'log_evaluation()' callback via 'callbacks' argument instead.\n",
      "  _log_warning(\"'verbose_eval' argument is deprecated and will be removed in a future release of LightGBM. \"\n"
     ]
    },
    {
     "name": "stdout",
     "output_type": "stream",
     "text": [
      "[20]\ttraining's multi_logloss: 1.08983\tvalid_1's multi_logloss: 1.12897\n",
      "[40]\ttraining's multi_logloss: 1.03238\tvalid_1's multi_logloss: 1.09365\n",
      "[60]\ttraining's multi_logloss: 0.992472\tvalid_1's multi_logloss: 1.06932\n",
      "[80]\ttraining's multi_logloss: 0.962988\tvalid_1's multi_logloss: 1.05171\n",
      "[100]\ttraining's multi_logloss: 0.940116\tvalid_1's multi_logloss: 1.03814\n",
      "[120]\ttraining's multi_logloss: 0.921315\tvalid_1's multi_logloss: 1.02746\n",
      "[140]\ttraining's multi_logloss: 0.906222\tvalid_1's multi_logloss: 1.01898\n",
      "[160]\ttraining's multi_logloss: 0.893561\tvalid_1's multi_logloss: 1.01309\n",
      "[180]\ttraining's multi_logloss: 0.88294\tvalid_1's multi_logloss: 1.0091\n",
      "[200]\ttraining's multi_logloss: 0.873985\tvalid_1's multi_logloss: 1.00512\n",
      "[220]\ttraining's multi_logloss: 0.865649\tvalid_1's multi_logloss: 1.00226\n",
      "[240]\ttraining's multi_logloss: 0.8582\tvalid_1's multi_logloss: 1.00012\n",
      "[260]\ttraining's multi_logloss: 0.851589\tvalid_1's multi_logloss: 0.999063\n",
      "[280]\ttraining's multi_logloss: 0.845443\tvalid_1's multi_logloss: 0.998063\n",
      "[300]\ttraining's multi_logloss: 0.839726\tvalid_1's multi_logloss: 0.997169\n",
      "[320]\ttraining's multi_logloss: 0.834081\tvalid_1's multi_logloss: 0.996906\n",
      "[340]\ttraining's multi_logloss: 0.828908\tvalid_1's multi_logloss: 0.99726\n",
      "[360]\ttraining's multi_logloss: 0.824084\tvalid_1's multi_logloss: 0.997294\n",
      "[380]\ttraining's multi_logloss: 0.819459\tvalid_1's multi_logloss: 0.997199\n",
      "[400]\ttraining's multi_logloss: 0.815086\tvalid_1's multi_logloss: 0.996891\n",
      "Early stopping, best iteration is:\n",
      "[315]\ttraining's multi_logloss: 0.835479\tvalid_1's multi_logloss: 0.996711\n",
      "----CV:2----\n",
      "Training until validation scores don't improve for 100 rounds\n",
      "[20]\ttraining's multi_logloss: 1.08921\tvalid_1's multi_logloss: 1.11635\n",
      "[40]\ttraining's multi_logloss: 1.03125\tvalid_1's multi_logloss: 1.0754\n",
      "[60]\ttraining's multi_logloss: 0.991303\tvalid_1's multi_logloss: 1.04793\n",
      "[80]\ttraining's multi_logloss: 0.961914\tvalid_1's multi_logloss: 1.02858\n",
      "[100]\ttraining's multi_logloss: 0.939102\tvalid_1's multi_logloss: 1.01386\n",
      "[120]\ttraining's multi_logloss: 0.921227\tvalid_1's multi_logloss: 1.00307\n",
      "[140]\ttraining's multi_logloss: 0.906566\tvalid_1's multi_logloss: 0.99446\n",
      "[160]\ttraining's multi_logloss: 0.894208\tvalid_1's multi_logloss: 0.987531\n",
      "[180]\ttraining's multi_logloss: 0.883765\tvalid_1's multi_logloss: 0.982583\n",
      "[200]\ttraining's multi_logloss: 0.874785\tvalid_1's multi_logloss: 0.978462\n",
      "[220]\ttraining's multi_logloss: 0.866747\tvalid_1's multi_logloss: 0.974412\n",
      "[240]\ttraining's multi_logloss: 0.859432\tvalid_1's multi_logloss: 0.971645\n",
      "[260]\ttraining's multi_logloss: 0.852665\tvalid_1's multi_logloss: 0.968985\n",
      "[280]\ttraining's multi_logloss: 0.846452\tvalid_1's multi_logloss: 0.966752\n",
      "[300]\ttraining's multi_logloss: 0.840629\tvalid_1's multi_logloss: 0.96499\n",
      "[320]\ttraining's multi_logloss: 0.835143\tvalid_1's multi_logloss: 0.963331\n",
      "[340]\ttraining's multi_logloss: 0.829917\tvalid_1's multi_logloss: 0.961926\n",
      "[360]\ttraining's multi_logloss: 0.824906\tvalid_1's multi_logloss: 0.961053\n",
      "[380]\ttraining's multi_logloss: 0.82015\tvalid_1's multi_logloss: 0.960308\n",
      "[400]\ttraining's multi_logloss: 0.815694\tvalid_1's multi_logloss: 0.959788\n",
      "[420]\ttraining's multi_logloss: 0.811405\tvalid_1's multi_logloss: 0.95924\n",
      "[440]\ttraining's multi_logloss: 0.807305\tvalid_1's multi_logloss: 0.958619\n",
      "[460]\ttraining's multi_logloss: 0.803607\tvalid_1's multi_logloss: 0.958322\n",
      "[480]\ttraining's multi_logloss: 0.799847\tvalid_1's multi_logloss: 0.958099\n",
      "[500]\ttraining's multi_logloss: 0.796176\tvalid_1's multi_logloss: 0.957896\n",
      "[520]\ttraining's multi_logloss: 0.792641\tvalid_1's multi_logloss: 0.957483\n",
      "[540]\ttraining's multi_logloss: 0.78919\tvalid_1's multi_logloss: 0.957145\n",
      "[560]\ttraining's multi_logloss: 0.78594\tvalid_1's multi_logloss: 0.956775\n",
      "[580]\ttraining's multi_logloss: 0.782809\tvalid_1's multi_logloss: 0.956549\n",
      "[600]\ttraining's multi_logloss: 0.77973\tvalid_1's multi_logloss: 0.956278\n",
      "[620]\ttraining's multi_logloss: 0.77674\tvalid_1's multi_logloss: 0.956009\n",
      "[640]\ttraining's multi_logloss: 0.773805\tvalid_1's multi_logloss: 0.95584\n",
      "[660]\ttraining's multi_logloss: 0.770862\tvalid_1's multi_logloss: 0.955691\n",
      "[680]\ttraining's multi_logloss: 0.768065\tvalid_1's multi_logloss: 0.955555\n",
      "[700]\ttraining's multi_logloss: 0.765254\tvalid_1's multi_logloss: 0.955565\n",
      "[720]\ttraining's multi_logloss: 0.762459\tvalid_1's multi_logloss: 0.955585\n",
      "[740]\ttraining's multi_logloss: 0.75974\tvalid_1's multi_logloss: 0.955616\n",
      "[760]\ttraining's multi_logloss: 0.757008\tvalid_1's multi_logloss: 0.955625\n",
      "[780]\ttraining's multi_logloss: 0.754365\tvalid_1's multi_logloss: 0.955779\n",
      "Early stopping, best iteration is:\n",
      "[694]\ttraining's multi_logloss: 0.766137\tvalid_1's multi_logloss: 0.955474\n",
      "----CV:3----\n",
      "Training until validation scores don't improve for 100 rounds\n",
      "[20]\ttraining's multi_logloss: 1.09403\tvalid_1's multi_logloss: 1.113\n",
      "[40]\ttraining's multi_logloss: 1.03766\tvalid_1's multi_logloss: 1.07063\n",
      "[60]\ttraining's multi_logloss: 0.998585\tvalid_1's multi_logloss: 1.04132\n",
      "[80]\ttraining's multi_logloss: 0.969403\tvalid_1's multi_logloss: 1.02075\n",
      "[100]\ttraining's multi_logloss: 0.947018\tvalid_1's multi_logloss: 1.00678\n",
      "[120]\ttraining's multi_logloss: 0.92937\tvalid_1's multi_logloss: 0.996353\n",
      "[140]\ttraining's multi_logloss: 0.914969\tvalid_1's multi_logloss: 0.98879\n",
      "[160]\ttraining's multi_logloss: 0.90267\tvalid_1's multi_logloss: 0.982023\n",
      "[180]\ttraining's multi_logloss: 0.892385\tvalid_1's multi_logloss: 0.977593\n",
      "[200]\ttraining's multi_logloss: 0.883715\tvalid_1's multi_logloss: 0.973872\n",
      "[220]\ttraining's multi_logloss: 0.875874\tvalid_1's multi_logloss: 0.970111\n",
      "[240]\ttraining's multi_logloss: 0.868796\tvalid_1's multi_logloss: 0.967542\n",
      "[260]\ttraining's multi_logloss: 0.862263\tvalid_1's multi_logloss: 0.965316\n",
      "[280]\ttraining's multi_logloss: 0.8562\tvalid_1's multi_logloss: 0.963827\n",
      "[300]\ttraining's multi_logloss: 0.850608\tvalid_1's multi_logloss: 0.962478\n",
      "[320]\ttraining's multi_logloss: 0.845307\tvalid_1's multi_logloss: 0.961076\n",
      "[340]\ttraining's multi_logloss: 0.839952\tvalid_1's multi_logloss: 0.959363\n",
      "[360]\ttraining's multi_logloss: 0.834855\tvalid_1's multi_logloss: 0.958094\n",
      "[380]\ttraining's multi_logloss: 0.830227\tvalid_1's multi_logloss: 0.957236\n",
      "[400]\ttraining's multi_logloss: 0.825992\tvalid_1's multi_logloss: 0.95653\n",
      "[420]\ttraining's multi_logloss: 0.821725\tvalid_1's multi_logloss: 0.956183\n",
      "[440]\ttraining's multi_logloss: 0.817809\tvalid_1's multi_logloss: 0.955928\n",
      "[460]\ttraining's multi_logloss: 0.814078\tvalid_1's multi_logloss: 0.955797\n",
      "[480]\ttraining's multi_logloss: 0.810357\tvalid_1's multi_logloss: 0.955268\n",
      "[500]\ttraining's multi_logloss: 0.806663\tvalid_1's multi_logloss: 0.95511\n",
      "[520]\ttraining's multi_logloss: 0.803108\tvalid_1's multi_logloss: 0.954592\n",
      "[540]\ttraining's multi_logloss: 0.799743\tvalid_1's multi_logloss: 0.954625\n",
      "[560]\ttraining's multi_logloss: 0.796431\tvalid_1's multi_logloss: 0.954428\n",
      "[580]\ttraining's multi_logloss: 0.793296\tvalid_1's multi_logloss: 0.954536\n",
      "[600]\ttraining's multi_logloss: 0.790216\tvalid_1's multi_logloss: 0.954679\n",
      "[620]\ttraining's multi_logloss: 0.787266\tvalid_1's multi_logloss: 0.954853\n",
      "[640]\ttraining's multi_logloss: 0.784296\tvalid_1's multi_logloss: 0.954905\n",
      "[660]\ttraining's multi_logloss: 0.781436\tvalid_1's multi_logloss: 0.954937\n",
      "Early stopping, best iteration is:\n",
      "[567]\ttraining's multi_logloss: 0.79533\tvalid_1's multi_logloss: 0.954398\n",
      "----CV:4----\n",
      "Training until validation scores don't improve for 100 rounds\n",
      "[20]\ttraining's multi_logloss: 1.09158\tvalid_1's multi_logloss: 1.10082\n",
      "[40]\ttraining's multi_logloss: 1.03481\tvalid_1's multi_logloss: 1.05291\n",
      "[60]\ttraining's multi_logloss: 0.995894\tvalid_1's multi_logloss: 1.02084\n",
      "[80]\ttraining's multi_logloss: 0.967102\tvalid_1's multi_logloss: 0.998662\n",
      "[100]\ttraining's multi_logloss: 0.944942\tvalid_1's multi_logloss: 0.983111\n",
      "[120]\ttraining's multi_logloss: 0.927619\tvalid_1's multi_logloss: 0.970929\n",
      "[140]\ttraining's multi_logloss: 0.913149\tvalid_1's multi_logloss: 0.961444\n",
      "[160]\ttraining's multi_logloss: 0.901157\tvalid_1's multi_logloss: 0.954206\n",
      "[180]\ttraining's multi_logloss: 0.89108\tvalid_1's multi_logloss: 0.948305\n",
      "[200]\ttraining's multi_logloss: 0.882262\tvalid_1's multi_logloss: 0.944035\n",
      "[220]\ttraining's multi_logloss: 0.87451\tvalid_1's multi_logloss: 0.94049\n",
      "[240]\ttraining's multi_logloss: 0.867533\tvalid_1's multi_logloss: 0.937327\n",
      "[260]\ttraining's multi_logloss: 0.861022\tvalid_1's multi_logloss: 0.93454\n",
      "[280]\ttraining's multi_logloss: 0.854839\tvalid_1's multi_logloss: 0.931562\n",
      "[300]\ttraining's multi_logloss: 0.849266\tvalid_1's multi_logloss: 0.929251\n",
      "[320]\ttraining's multi_logloss: 0.843997\tvalid_1's multi_logloss: 0.92748\n",
      "[340]\ttraining's multi_logloss: 0.839033\tvalid_1's multi_logloss: 0.926324\n",
      "[360]\ttraining's multi_logloss: 0.834382\tvalid_1's multi_logloss: 0.925014\n",
      "[380]\ttraining's multi_logloss: 0.829931\tvalid_1's multi_logloss: 0.924292\n",
      "[400]\ttraining's multi_logloss: 0.825521\tvalid_1's multi_logloss: 0.923236\n",
      "[420]\ttraining's multi_logloss: 0.821325\tvalid_1's multi_logloss: 0.922478\n",
      "[440]\ttraining's multi_logloss: 0.81732\tvalid_1's multi_logloss: 0.921612\n",
      "[460]\ttraining's multi_logloss: 0.8136\tvalid_1's multi_logloss: 0.921107\n",
      "[480]\ttraining's multi_logloss: 0.810029\tvalid_1's multi_logloss: 0.920671\n",
      "[500]\ttraining's multi_logloss: 0.806416\tvalid_1's multi_logloss: 0.920409\n",
      "[520]\ttraining's multi_logloss: 0.802979\tvalid_1's multi_logloss: 0.920183\n",
      "[540]\ttraining's multi_logloss: 0.799626\tvalid_1's multi_logloss: 0.919915\n",
      "[560]\ttraining's multi_logloss: 0.796272\tvalid_1's multi_logloss: 0.919762\n",
      "[580]\ttraining's multi_logloss: 0.79302\tvalid_1's multi_logloss: 0.919541\n",
      "[600]\ttraining's multi_logloss: 0.789742\tvalid_1's multi_logloss: 0.91908\n",
      "[620]\ttraining's multi_logloss: 0.78669\tvalid_1's multi_logloss: 0.918968\n",
      "[640]\ttraining's multi_logloss: 0.783755\tvalid_1's multi_logloss: 0.918851\n",
      "[660]\ttraining's multi_logloss: 0.780841\tvalid_1's multi_logloss: 0.918631\n",
      "[680]\ttraining's multi_logloss: 0.777974\tvalid_1's multi_logloss: 0.918371\n",
      "[700]\ttraining's multi_logloss: 0.775112\tvalid_1's multi_logloss: 0.918344\n",
      "[720]\ttraining's multi_logloss: 0.772283\tvalid_1's multi_logloss: 0.918157\n",
      "[740]\ttraining's multi_logloss: 0.769529\tvalid_1's multi_logloss: 0.918145\n",
      "[760]\ttraining's multi_logloss: 0.766837\tvalid_1's multi_logloss: 0.918192\n",
      "[780]\ttraining's multi_logloss: 0.764172\tvalid_1's multi_logloss: 0.918189\n",
      "[800]\ttraining's multi_logloss: 0.761549\tvalid_1's multi_logloss: 0.918204\n",
      "[820]\ttraining's multi_logloss: 0.759029\tvalid_1's multi_logloss: 0.91827\n",
      "Early stopping, best iteration is:\n",
      "[737]\ttraining's multi_logloss: 0.769948\tvalid_1's multi_logloss: 0.918124\n",
      "----CV:5----\n",
      "Training until validation scores don't improve for 100 rounds\n",
      "[20]\ttraining's multi_logloss: 1.09155\tvalid_1's multi_logloss: 1.10216\n",
      "[40]\ttraining's multi_logloss: 1.03497\tvalid_1's multi_logloss: 1.05808\n",
      "[60]\ttraining's multi_logloss: 0.996022\tvalid_1's multi_logloss: 1.03003\n",
      "[80]\ttraining's multi_logloss: 0.967197\tvalid_1's multi_logloss: 1.01146\n",
      "[100]\ttraining's multi_logloss: 0.945232\tvalid_1's multi_logloss: 0.997797\n",
      "[120]\ttraining's multi_logloss: 0.927875\tvalid_1's multi_logloss: 0.987501\n",
      "[140]\ttraining's multi_logloss: 0.913498\tvalid_1's multi_logloss: 0.979163\n",
      "[160]\ttraining's multi_logloss: 0.901529\tvalid_1's multi_logloss: 0.972156\n",
      "[180]\ttraining's multi_logloss: 0.89112\tvalid_1's multi_logloss: 0.965344\n",
      "[200]\ttraining's multi_logloss: 0.882083\tvalid_1's multi_logloss: 0.960625\n",
      "[220]\ttraining's multi_logloss: 0.874149\tvalid_1's multi_logloss: 0.956697\n",
      "[240]\ttraining's multi_logloss: 0.867006\tvalid_1's multi_logloss: 0.953529\n",
      "[260]\ttraining's multi_logloss: 0.860388\tvalid_1's multi_logloss: 0.951286\n",
      "[280]\ttraining's multi_logloss: 0.854377\tvalid_1's multi_logloss: 0.949207\n",
      "[300]\ttraining's multi_logloss: 0.848543\tvalid_1's multi_logloss: 0.947356\n",
      "[320]\ttraining's multi_logloss: 0.842982\tvalid_1's multi_logloss: 0.945879\n",
      "[340]\ttraining's multi_logloss: 0.837899\tvalid_1's multi_logloss: 0.945004\n",
      "[360]\ttraining's multi_logloss: 0.833108\tvalid_1's multi_logloss: 0.945072\n",
      "[380]\ttraining's multi_logloss: 0.828456\tvalid_1's multi_logloss: 0.945229\n",
      "[400]\ttraining's multi_logloss: 0.824006\tvalid_1's multi_logloss: 0.945457\n",
      "[420]\ttraining's multi_logloss: 0.81961\tvalid_1's multi_logloss: 0.945456\n",
      "[440]\ttraining's multi_logloss: 0.815674\tvalid_1's multi_logloss: 0.945917\n",
      "Early stopping, best iteration is:\n",
      "[343]\ttraining's multi_logloss: 0.837144\tvalid_1's multi_logloss: 0.944904\n"
     ]
    }
   ],
   "source": [
    "models = []\n",
    "df_pred = pd.DataFrame(index=X.index, columns=sub_columns)\n",
    "kf = StratifiedKFold(n_splits=5)\n",
    "# kf = KFold(n_splits=10)\n",
    "for idx, (train_idx, valid_idx) in enumerate(kf.split(X, y), 1):\n",
    "    print(f'----CV:{idx}----')\n",
    "    X_train, y_train = X.loc[train_idx], y.loc[train_idx]\n",
    "    X_valid, y_valid = X.loc[valid_idx], y.loc[valid_idx]\n",
    "    \n",
    "    model, va_pred = fit(X_train, y_train, X_valid, y_valid)\n",
    "    models.append(model)\n",
    "    \n",
    "    df_pred.loc[valid_idx] = va_pred"
   ]
  },
  {
   "cell_type": "code",
   "execution_count": 30,
   "id": "7238b028",
   "metadata": {},
   "outputs": [
    {
     "data": {
      "text/plain": [
       "0.9539221856698947"
      ]
     },
     "execution_count": 30,
     "metadata": {},
     "output_type": "execute_result"
    }
   ],
   "source": [
    "scoreing(train[TARGET], df_pred)"
   ]
  },
  {
   "cell_type": "code",
   "execution_count": 31,
   "id": "9f16a132",
   "metadata": {},
   "outputs": [],
   "source": [
    "def predict(models, x):\n",
    "    result = pd.DataFrame(0, index=x.index, columns=sub_columns)\n",
    "    for model in models:\n",
    "        pred_prob = model.predict(x, num_iteration=model.best_iteration)\n",
    "        df_pred = pd.DataFrame(pred_prob, index=x.index, columns=sub_columns)\n",
    "        result += df_pred\n",
    "    result = result/5\n",
    "    return result"
   ]
  },
  {
   "cell_type": "code",
   "execution_count": 33,
   "id": "93e14ffd",
   "metadata": {},
   "outputs": [],
   "source": [
    "result = predict(models, test)"
   ]
  },
  {
   "cell_type": "code",
   "execution_count": 34,
   "id": "99cc3cf5",
   "metadata": {},
   "outputs": [],
   "source": [
    "sub_df.iloc[:, 1:] = result\n",
    "# sub_dfTARGET"
   ]
  },
  {
   "cell_type": "code",
   "execution_count": 35,
   "id": "ded0143a",
   "metadata": {},
   "outputs": [],
   "source": [
    "sub_df.to_csv(f'../output/{file_num}_test_submission.csv', header=True, index=False)"
   ]
  },
  {
   "cell_type": "code",
   "execution_count": 46,
   "id": "6170498a",
   "metadata": {},
   "outputs": [
    {
     "data": {
      "text/plain": [
       "(array([5638.,    0., 2220.,    0.,    0.,  249.,    0.,  360.,    0.,\n",
       "          55.]),\n",
       " array([0. , 0.4, 0.8, 1.2, 1.6, 2. , 2.4, 2.8, 3.2, 3.6, 4. ]),\n",
       " <BarContainer object of 10 artists>)"
      ]
     },
     "execution_count": 46,
     "metadata": {},
     "output_type": "execute_result"
    },
    {
     "data": {
      "image/png": "[encoded data removed]",
      "text/plain": [
       "<Figure size 432x288 with 1 Axes>"
      ]
     },
     "metadata": {
      "needs_background": "light"
     },
     "output_type": "display_data"
    }
   ],
   "source": [
    "plt.hist(np.argmax(np.array(sub_df.drop('ncode',axis=1)),axis=1))"
   ]
  },
  {
   "cell_type": "code",
   "execution_count": 37,
   "id": "b0b7b067",
   "metadata": {},
   "outputs": [],
   "source": [
    "ans = np.argmax(np.array(df_pred),axis=1)"
   ]
  },
  {
   "cell_type": "code",
   "execution_count": 74,
   "id": "60623cd1",
   "metadata": {},
   "outputs": [
    {
     "data": {
      "text/plain": [
       "<seaborn.axisgrid.FacetGrid at 0x7fe510e85ac0>"
      ]
     },
     "execution_count": 74,
     "metadata": {},
     "output_type": "execute_result"
    },
    {
     "data": {
      "image/png": "[encoded data removed]",
      "text/plain": [
       "<Figure size 864x216 with 1 Axes>"
      ]
     },
     "metadata": {
      "needs_background": "light"
     },
     "output_type": "display_data"
    }
   ],
   "source": [
    "sns.catplot(x=TARGET, data=train_df.query(f'{TARGET} != @ans'), kind='count', height=3,aspect=4)"
   ]
  },
  {
   "cell_type": "code",
   "execution_count": 73,
   "id": "7ea779d7",
   "metadata": {},
   "outputs": [
    {
     "data": {
      "text/plain": [
       "<seaborn.axisgrid.FacetGrid at 0x7fe513402c70>"
      ]
     },
     "execution_count": 73,
     "metadata": {},
     "output_type": "execute_result"
    },
    {
     "data": {
      "image/png": "[encoded data removed]",
      "text/plain": [
       "<Figure size 864x216 with 1 Axes>"
      ]
     },
     "metadata": {
      "needs_background": "light"
     },
     "output_type": "display_data"
    }
   ],
   "source": [
    "sns.catplot(x=TARGET, data=train_df.query(f'{TARGET} != @ans').loc[mask_latest], kind='count', height=3,aspect=4)"
   ]
  },
  {
   "cell_type": "code",
   "execution_count": null,
   "id": "c8dd8030",
   "metadata": {},
   "outputs": [],
   "source": [
    "dnum = 200\n",
    "nrow = int(len(ans)/dnum)\n",
    "fig, axes = plt.subplots(figsize=(20,3*nrow),ncols=1,nrows=nrow)\n",
    "for idx, ax in enumerate(axes.ravel()):\n",
    "    ax.scatter(np.arange(dnum),ans[dnum*idx:dnum*(idx+1)])\n",
    "    ax.scatter(np.arange(dnum),train_df[TARGET][dnum*idx:dnum*(idx+1)])\n",
    "    "
   ]
  },
  {
   "cell_type": "code",
   "execution_count": 40,
   "id": "bf237761",
   "metadata": {},
   "outputs": [
    {
     "data": {
      "text/plain": [
       "<seaborn.axisgrid.FacetGrid at 0x7fe5313ec3d0>"
      ]
     },
     "execution_count": 40,
     "metadata": {},
     "output_type": "execute_result"
    },
    {
     "data": {
      "image/png": "[encoded data removed]",
      "text/plain": [
       "<Figure size 864x216 with 1 Axes>"
      ]
     },
     "metadata": {
      "needs_background": "light"
     },
     "output_type": "display_data"
    }
   ],
   "source": [
    "\n",
    "sns.catplot(x='novel_type', data=train_df, kind='count', height=3,aspect=4)"
   ]
  },
  {
   "cell_type": "code",
   "execution_count": null,
   "id": "aba63ac3",
   "metadata": {},
   "outputs": [],
   "source": [
    "sns.catplot(x='biggenre', data=train_df.query(f'{TARGET} != @ans'), kind='count', height=3,aspect=4)\n",
    "sns.catplot(x='general_firstup', data=train_df, kind='count', height=3,aspect=4)"
   ]
  },
  {
   "cell_type": "code",
   "execution_count": 58,
   "id": "49a2dcba",
   "metadata": {},
   "outputs": [
    {
     "data": {
      "text/plain": [
       "(array([1.6958e+04, 2.9720e+03, 1.1380e+03, 1.7130e+03, 2.4300e+02,\n",
       "        1.2400e+02, 6.2000e+01, 3.4000e+01, 2.2000e+01, 1.1000e+01]),\n",
       " array([ 106. ,  630.7, 1155.4, 1680.1, 2204.8, 2729.5, 3254.2, 3778.9,\n",
       "        4303.6, 4828.3, 5353. ]),\n",
       " <BarContainer object of 10 artists>)"
      ]
     },
     "execution_count": 58,
     "metadata": {},
     "output_type": "execute_result"
    },
    {
     "data": {
      "image/png": "[encoded data removed]",
      "text/plain": [
       "<Figure size 432x288 with 1 Axes>"
      ]
     },
     "metadata": {
      "needs_background": "light"
     },
     "output_type": "display_data"
    }
   ],
   "source": [
    "plt.hist(train.query(f'{TARGET} == @ans')['past_days'])"
   ]
  },
  {
   "cell_type": "code",
   "execution_count": 62,
   "id": "5d017323",
   "metadata": {},
   "outputs": [
    {
     "data": {
      "text/plain": [
       "(array([27947.,  5141.,  2190.,  3447.,   629.,   333.,   181.,    70.,\n",
       "           34.,    28.]),\n",
       " array([ 106. ,  630.7, 1155.4, 1680.1, 2204.8, 2729.5, 3254.2, 3778.9,\n",
       "        4303.6, 4828.3, 5353. ]),\n",
       " <BarContainer object of 10 artists>)"
      ]
     },
     "execution_count": 62,
     "metadata": {},
     "output_type": "execute_result"
    },
    {
     "data": {
      "image/png": "[encoded data removed]",
      "text/plain": [
       "<Figure size 432x288 with 1 Axes>"
      ]
     },
     "metadata": {
      "needs_background": "light"
     },
     "output_type": "display_data"
    }
   ],
   "source": [
    "plt.hist(train.past_days.values)"
   ]
  },
  {
   "cell_type": "code",
   "execution_count": 63,
   "id": "3ca9ad5f",
   "metadata": {},
   "outputs": [
    {
     "data": {
      "text/plain": [
       "0        2007-04-01 16:40:57\n",
       "1        2007-04-22 15:40:30\n",
       "2        2007-08-22 18:25:54\n",
       "3        2007-09-06 21:33:37\n",
       "4        2007-09-17 01:02:33\n",
       "                ...         \n",
       "39995    2021-08-12 07:00:00\n",
       "39996    2021-08-12 07:36:14\n",
       "39997    2021-08-12 07:44:36\n",
       "39998    2021-08-12 08:00:00\n",
       "39999    2021-08-12 08:00:00\n",
       "Name: general_firstup, Length: 40000, dtype: object"
      ]
     },
     "execution_count": 63,
     "metadata": {},
     "output_type": "execute_result"
    }
   ],
   "source": [
    "train_df.general_firstup"
   ]
  },
  {
   "cell_type": "code",
   "execution_count": 73,
   "id": "61d77b32",
   "metadata": {},
   "outputs": [],
   "source": [
    "\n",
    "train_df['up_month'] = np.vectorize(lambda x: '-'.join(x.split('-')[0:2]))(train_df.general_firstup)\n",
    "train_df['up_year'] = np.vectorize(lambda x: '-'.join(x.split('-')[0:1]))(train_df.general_firstup)"
   ]
  },
  {
   "cell_type": "code",
   "execution_count": 72,
   "id": "53e39695",
   "metadata": {},
   "outputs": [
    {
     "data": {
      "text/plain": [
       "2021-07    6521\n",
       "2021-06    4365\n",
       "2021-05    3162\n",
       "2021-08    2303\n",
       "2021-04    2028\n",
       "           ... \n",
       "2008-12       1\n",
       "2010-01       1\n",
       "2009-12       1\n",
       "2010-07       1\n",
       "2009-02       1\n",
       "Name: up_month, Length: 166, dtype: int64"
      ]
     },
     "execution_count": 72,
     "metadata": {},
     "output_type": "execute_result"
    }
   ],
   "source": [
    "train_df.up_month.value_counts()"
   ]
  },
  {
   "cell_type": "code",
   "execution_count": 61,
   "id": "e5d19426",
   "metadata": {},
   "outputs": [
    {
     "data": {
      "text/plain": [
       "0        5353\n",
       "1        5332\n",
       "2        5209\n",
       "3        5194\n",
       "4        5184\n",
       "         ... \n",
       "39995     106\n",
       "39996     106\n",
       "39997     106\n",
       "39998     106\n",
       "39999     106\n",
       "Name: past_days, Length: 40000, dtype: int64"
      ]
     },
     "execution_count": 61,
     "metadata": {},
     "output_type": "execute_result"
    }
   ],
   "source": [
    "train.past_days"
   ]
  },
  {
   "cell_type": "code",
   "execution_count": 36,
   "id": "e424567c",
   "metadata": {},
   "outputs": [
    {
     "data": {
      "text/html": [
       "<div>\n",
       "<style scoped>\n",
       "    .dataframe tbody tr th:only-of-type {\n",
       "        vertical-align: middle;\n",
       "    }\n",
       "\n",
       "    .dataframe tbody tr th {\n",
       "        vertical-align: top;\n",
       "    }\n",
       "\n",
       "    .dataframe thead th {\n",
       "        text-align: right;\n",
       "    }\n",
       "</style>\n",
       "<table border=\"1\" class=\"dataframe\">\n",
       "  <thead>\n",
       "    <tr style=\"text-align: right;\">\n",
       "      <th></th>\n",
       "      <th>ncode</th>\n",
       "      <th>proba_0</th>\n",
       "      <th>proba_1</th>\n",
       "      <th>proba_2</th>\n",
       "      <th>proba_3</th>\n",
       "      <th>proba_4</th>\n",
       "    </tr>\n",
       "  </thead>\n",
       "  <tbody>\n",
       "    <tr>\n",
       "      <th>0</th>\n",
       "      <td>N4541HD</td>\n",
       "      <td>0.907879</td>\n",
       "      <td>0.900706</td>\n",
       "      <td>0.180805</td>\n",
       "      <td>0.009291</td>\n",
       "      <td>0.001320</td>\n",
       "    </tr>\n",
       "    <tr>\n",
       "      <th>1</th>\n",
       "      <td>N4397HD</td>\n",
       "      <td>0.178771</td>\n",
       "      <td>0.503034</td>\n",
       "      <td>0.505194</td>\n",
       "      <td>0.683453</td>\n",
       "      <td>0.129548</td>\n",
       "    </tr>\n",
       "    <tr>\n",
       "      <th>2</th>\n",
       "      <td>N4544HD</td>\n",
       "      <td>1.665456</td>\n",
       "      <td>0.325255</td>\n",
       "      <td>0.006549</td>\n",
       "      <td>0.001994</td>\n",
       "      <td>0.000746</td>\n",
       "    </tr>\n",
       "    <tr>\n",
       "      <th>3</th>\n",
       "      <td>N4545HD</td>\n",
       "      <td>0.629683</td>\n",
       "      <td>0.876919</td>\n",
       "      <td>0.191672</td>\n",
       "      <td>0.248262</td>\n",
       "      <td>0.053464</td>\n",
       "    </tr>\n",
       "    <tr>\n",
       "      <th>4</th>\n",
       "      <td>N4546HD</td>\n",
       "      <td>1.221297</td>\n",
       "      <td>0.666630</td>\n",
       "      <td>0.104271</td>\n",
       "      <td>0.006556</td>\n",
       "      <td>0.001246</td>\n",
       "    </tr>\n",
       "    <tr>\n",
       "      <th>...</th>\n",
       "      <td>...</td>\n",
       "      <td>...</td>\n",
       "      <td>...</td>\n",
       "      <td>...</td>\n",
       "      <td>...</td>\n",
       "      <td>...</td>\n",
       "    </tr>\n",
       "    <tr>\n",
       "      <th>8517</th>\n",
       "      <td>N5983HF</td>\n",
       "      <td>1.438923</td>\n",
       "      <td>0.534632</td>\n",
       "      <td>0.021114</td>\n",
       "      <td>0.004450</td>\n",
       "      <td>0.000880</td>\n",
       "    </tr>\n",
       "    <tr>\n",
       "      <th>8518</th>\n",
       "      <td>N5990HF</td>\n",
       "      <td>1.316185</td>\n",
       "      <td>0.657569</td>\n",
       "      <td>0.016604</td>\n",
       "      <td>0.008219</td>\n",
       "      <td>0.001423</td>\n",
       "    </tr>\n",
       "    <tr>\n",
       "      <th>8519</th>\n",
       "      <td>N5993HF</td>\n",
       "      <td>1.476334</td>\n",
       "      <td>0.470087</td>\n",
       "      <td>0.045836</td>\n",
       "      <td>0.006332</td>\n",
       "      <td>0.001411</td>\n",
       "    </tr>\n",
       "    <tr>\n",
       "      <th>8520</th>\n",
       "      <td>N5996HF</td>\n",
       "      <td>1.676974</td>\n",
       "      <td>0.306446</td>\n",
       "      <td>0.013811</td>\n",
       "      <td>0.001958</td>\n",
       "      <td>0.000811</td>\n",
       "    </tr>\n",
       "    <tr>\n",
       "      <th>8521</th>\n",
       "      <td>N5997HF</td>\n",
       "      <td>1.270015</td>\n",
       "      <td>0.708602</td>\n",
       "      <td>0.016339</td>\n",
       "      <td>0.004065</td>\n",
       "      <td>0.000980</td>\n",
       "    </tr>\n",
       "  </tbody>\n",
       "</table>\n",
       "<p>8522 rows × 6 columns</p>\n",
       "</div>"
      ],
      "text/plain": [
       "        ncode   proba_0   proba_1   proba_2   proba_3   proba_4\n",
       "0     N4541HD  0.907879  0.900706  0.180805  0.009291  0.001320\n",
       "1     N4397HD  0.178771  0.503034  0.505194  0.683453  0.129548\n",
       "2     N4544HD  1.665456  0.325255  0.006549  0.001994  0.000746\n",
       "3     N4545HD  0.629683  0.876919  0.191672  0.248262  0.053464\n",
       "4     N4546HD  1.221297  0.666630  0.104271  0.006556  0.001246\n",
       "...       ...       ...       ...       ...       ...       ...\n",
       "8517  N5983HF  1.438923  0.534632  0.021114  0.004450  0.000880\n",
       "8518  N5990HF  1.316185  0.657569  0.016604  0.008219  0.001423\n",
       "8519  N5993HF  1.476334  0.470087  0.045836  0.006332  0.001411\n",
       "8520  N5996HF  1.676974  0.306446  0.013811  0.001958  0.000811\n",
       "8521  N5997HF  1.270015  0.708602  0.016339  0.004065  0.000980\n",
       "\n",
       "[8522 rows x 6 columns]"
      ]
     },
     "execution_count": 36,
     "metadata": {},
     "output_type": "execute_result"
    }
   ],
   "source": [
    "sub_df.iloc[:, 1:] = result\n",
    "sub_dfTARGET"
   ]
  },
  {
   "cell_type": "code",
   "execution_count": 37,
   "id": "f4d6816d",
   "metadata": {},
   "outputs": [],
   "source": [
    "sub_df.to_csv(f'../output/test_submission_{file_num}.csv', header=True, index=False)"
   ]
  },
  {
   "cell_type": "code",
   "execution_count": 24,
   "id": "2fb0dce2",
   "metadata": {},
   "outputs": [
    {
     "name": "stdout",
     "output_type": "stream",
     "text": [
      "0.6446\n"
     ]
    }
   ],
   "source": [
    "accuracy = sum(val_y == val_pred_max) / len(val_y)\n",
    "print(accuracy)"
   ]
  },
  {
   "cell_type": "code",
   "execution_count": 26,
   "id": "6f702816",
   "metadata": {},
   "outputs": [
    {
     "data": {
      "image/png": "[encoded data removed]",
      "text/plain": [
       "<Figure size 864x576 with 1 Axes>"
      ]
     },
     "metadata": {
      "needs_background": "light"
     },
     "output_type": "display_data"
    }
   ],
   "source": [
    "lgbm.plot_importance(model, figsize=(12,8), max_num_features=50, importance_type='gain')\n",
    "plt.tight_layout()\n",
    "plt.show()"
   ]
  },
  {
   "cell_type": "code",
   "execution_count": 23,
   "id": "6231f144",
   "metadata": {},
   "outputs": [
    {
     "data": {
      "text/plain": [
       "(array([[2498.,    0., 1741.,    0.,    0.,  491.,    0.,  223.,    0.,\n",
       "           47.],\n",
       "        [3122.,    0., 1379.,    0.,    0.,  365.,    0.,  118.,    0.,\n",
       "           16.]]),\n",
       " array([0. , 0.4, 0.8, 1.2, 1.6, 2. , 2.4, 2.8, 3.2, 3.6, 4. ]),\n",
       " <a list of 2 BarContainer objects>)"
      ]
     },
     "execution_count": 23,
     "metadata": {},
     "output_type": "execute_result"
    },
    {
     "data": {
      "image/png": "[encoded data removed]",
      "text/plain": [
       "<Figure size 432x288 with 1 Axes>"
      ]
     },
     "metadata": {
      "needs_background": "light"
     },
     "output_type": "display_data"
    }
   ],
   "source": [
    "plt.hist([val_y, val_pred_max])"
   ]
  },
  {
   "cell_type": "code",
   "execution_count": 27,
   "id": "035527fa",
   "metadata": {},
   "outputs": [],
   "source": [
    "test_pred = model.predict(test_x, num_iteration=model.best_iteration)\n",
    "sub_df.iloc[:, 1:] = test_pred\n",
    "sub_df.to_csv(f'../output/test_submission_{file_num}.csv', index=False)"
   ]
  }
 ],
 "metadata": {
  "kernelspec": {
   "display_name": "venv",
   "language": "python",
   "name": "venv"
  },
  "language_info": {
   "codemirror_mode": {
    "name": "ipython",
    "version": 3
   },
   "file_extension": ".py",
   "mimetype": "text/x-python",
   "name": "python",
   "nbconvert_exporter": "python",
   "pygments_lexer": "ipython3",
   "version": "3.8.10"
  }
 },
 "nbformat": 4,
 "nbformat_minor": 5
}

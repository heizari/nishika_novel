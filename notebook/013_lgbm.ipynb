{
 "cells": [
  {
   "cell_type": "markdown",
   "id": "d3afd438",
   "metadata": {},
   "source": [
    "## discussionのbaseline lgbmを参考 + validation対象を2020以降のものにしてみる"
   ]
  },
  {
   "cell_type": "code",
   "execution_count": 1,
   "id": "77925842",
   "metadata": {},
   "outputs": [],
   "source": [
    "file_num = '013'"
   ]
  },
  {
   "cell_type": "code",
   "execution_count": 2,
   "id": "45a93aa0",
   "metadata": {},
   "outputs": [],
   "source": [
    "import json\n",
    "import pickle\n",
    "import re\n",
    "from glob import glob\n",
    "from tqdm import tqdm\n",
    "from pdb import set_trace as trace\n",
    "from xfeat import Pipeline, SelectCategorical, LabelEncoder\n",
    "import seaborn as sns\n",
    "import regex\n",
    "import pandas as pd\n",
    "import numpy as np\n",
    "import matplotlib.pyplot as plt\n",
    "import lightgbm as lgb\n",
    "from sklearn.model_selection import StratifiedKFold, KFold\n",
    "from sklearn.metrics import log_loss"
   ]
  },
  {
   "cell_type": "code",
   "execution_count": 3,
   "id": "26718ddb",
   "metadata": {},
   "outputs": [],
   "source": [
    "def removeZenkakuSpace(df, cols):\n",
    "    for col in cols:\n",
    "        df[col] = df[col].str.replace('　', ' ')\n",
    "    return df\n",
    "\n",
    "def histEachFavs(df, col, height=3, aspect=4, title=''):\n",
    "    for fav in sorted(df[FAV].unique()):\n",
    "        sns.catplot(x=col,data=df.query(f\"{FAV} == @fav\"),kind='count',height=height, aspect=aspect)\n",
    "        plt.title(f'{title} fav group:{fav}')\n",
    "        \n",
    "def getQueries(df, cols):\n",
    "    assert type(cols) == str or type(cols) == list, 'cols is str or list'\n",
    "    queries = []\n",
    "    if type(cols) == str:\n",
    "        queries = [f'{cols} == {flag}' for flag in sorted(df[cols].unique())]\n",
    "    elif type(cols) == list:\n",
    "        for col in cols:\n",
    "            col_queries = [f'{col} == {flag}' for flag in sorted(df[col].unique())]\n",
    "            if len(queries) == 0:\n",
    "                queries = col_queries\n",
    "            else:\n",
    "                queries = [f\"{q} & {col_queries[0]}\" for q in queries] + [f'{q} & {col_queries[1]}' for q in queries]\n",
    "            \n",
    "    return queries\n",
    "\n",
    "def columnUnique(df, col):\n",
    "    return sorted(df[col].unique())\n",
    "\n",
    "def histColumnsFavs(df, cols:list, height=3, aspect=6, title=''):\n",
    "    queries = getQueries(df, cols)\n",
    "    for query in queries:\n",
    "        data = df.query(query)\n",
    "        if len(data) == 0:\n",
    "            continue\n",
    "        sns.catplot(x=FAV,data=data,kind='count',height=height, aspect=aspect)\n",
    "        plt.title(f'{title} {query}')\n",
    "        \n",
    "def histEachFavsByCategory(df, df_target, col):\n",
    "    cats = sorted(df[col].unique())\n",
    "    for cat in cats:\n",
    "        fig, axes = plt.subplots(figsize=(30,10), ncols=3, nrows=2)\n",
    "        for ax, fav in zip(axes.ravel(), favs):\n",
    "            target_mask = (df[FAV] == fav) & (df[col] == cat)\n",
    "            ax.hist(df_target.loc[target_mask], bins=100)\n",
    "            ax.set_xlim(-1,df_target.max())\n",
    "            ax.set_title(f'bgenre:{cat}, fav:{fav}, num={target_mask.sum()}')"
   ]
  },
  {
   "cell_type": "code",
   "execution_count": 4,
   "id": "82e9f1d8",
   "metadata": {},
   "outputs": [],
   "source": [
    "def featureNumKeywords(df):\n",
    "    num_keywords = np.vectorize(lambda x: len(x.split()))(df.keyword)\n",
    "    return pd.DataFrame(data=num_keywords, columns=['num_keywords'])\n",
    "\n",
    "def featureMaxSentenceLength(story):\n",
    "    sentences_len = [len(sentence) for sentence in story.split('\\n')]\n",
    "    return max(sentences_len)\n",
    "    \n",
    "def featureNumIndent(story):\n",
    "    return len(list(filter(lambda x: len(x) == 0 ,story.split('\\n'))))\n",
    "    \n",
    "def featureStory(df):\n",
    "    feature_df = pd.DataFrame()\n",
    "    feature_df['num_sentence'] = df.story.str.count('\\n')\n",
    "    feature_df['max_sentence_len'] = np.vectorize(featureMaxSentenceLength)(df.story)\n",
    "#     feature_df['mean_sentence_len'] = (df.story.str.len() / (df.story.str.count('\\n') +1)).astype('int')\n",
    "    feature_df['num_indent'] = np.vectorize(featureNumIndent)(df.story)\n",
    "#     feature_df['story_len'] = df.story.str.len()\n",
    "    \n",
    "    return feature_df\n",
    "    \n",
    "def concatDfs(dfs:list):\n",
    "    concat_df = pd.DataFrame()\n",
    "#     trace()\n",
    "    for df in dfs:\n",
    "        df.reset_index(drop=True, inplace=True)\n",
    "        concat_df = pd.concat([concat_df, df], axis=1)\n",
    "        \n",
    "    return concat_df "
   ]
  },
  {
   "cell_type": "code",
   "execution_count": 5,
   "id": "0b9363c7",
   "metadata": {},
   "outputs": [],
   "source": [
    "out_dir = '../output'\n",
    "train_df = pd.read_csv('../dataset/train.csv')\n",
    "test_df = pd.read_csv('../dataset/test.csv')\n",
    "sub_df = pd.read_csv('../dataset/sample_submission.csv')\n",
    "sub_columns = sub_df.drop('ncode', axis=1).columns\n",
    "ID = 'ncode'\n",
    "TARGET = 'fav_novel_cnt_bin'\n",
    "favs = sorted(train_df[TARGET].unique())\n",
    "\n",
    "# # train_df.userid = train_df.userid.astype('str')\n",
    "# train_df.genre = train_df.genre.astype('str')\n",
    "# test_df.userid = test_df.userid.astype('str')\n",
    "# test_df.genre = test_df.genre.astype('str')\n",
    "str_cols = ['title', 'story', 'keyword', 'writer']"
   ]
  },
  {
   "cell_type": "code",
   "execution_count": 6,
   "id": "9de95438",
   "metadata": {},
   "outputs": [],
   "source": [
    "train_df = removeZenkakuSpace(train_df, str_cols)\n",
    "test_df = removeZenkakuSpace(test_df, str_cols)"
   ]
  },
  {
   "cell_type": "code",
   "execution_count": 7,
   "id": "43a815cd",
   "metadata": {},
   "outputs": [],
   "source": [
    "all_df = pd.concat([train_df,test_df])\n",
    "train_idx = len(train_df)"
   ]
  },
  {
   "cell_type": "code",
   "execution_count": 8,
   "id": "0f9e1c19",
   "metadata": {},
   "outputs": [],
   "source": [
    "encoder = Pipeline([\n",
    "    SelectCategorical(),\n",
    "    LabelEncoder(output_suffix=\"\"),\n",
    "])\n",
    "\n",
    "le_df = encoder.fit_transform(all_df)\n",
    "all_df['writer'] = le_df['writer']"
   ]
  },
  {
   "cell_type": "code",
   "execution_count": 9,
   "id": "9d59424d",
   "metadata": {},
   "outputs": [
    {
     "data": {
      "text/plain": [
       "Index(['ncode', 'general_firstup', 'title', 'story', 'keyword', 'userid',\n",
       "       'writer', 'biggenre', 'genre', 'novel_type', 'end', 'isstop', 'isr15',\n",
       "       'isbl', 'isgl', 'iszankoku', 'istensei', 'istenni', 'pc_or_k',\n",
       "       'fav_novel_cnt_bin'],\n",
       "      dtype='object')"
      ]
     },
     "execution_count": 9,
     "metadata": {},
     "output_type": "execute_result"
    }
   ],
   "source": [
    "train_df.columns"
   ]
  },
  {
   "cell_type": "code",
   "execution_count": 10,
   "id": "7cbcb4da",
   "metadata": {},
   "outputs": [],
   "source": [
    "mask_latest = train_df.general_firstup.str.contains('202')"
   ]
  },
  {
   "cell_type": "code",
   "execution_count": 11,
   "id": "a7b74f6a",
   "metadata": {},
   "outputs": [],
   "source": [
    "all_df.keyword = all_df.keyword.fillna('')"
   ]
  },
  {
   "cell_type": "code",
   "execution_count": 12,
   "id": "5ef5efda",
   "metadata": {},
   "outputs": [],
   "source": [
    "num_keyword_df = featureNumKeywords(all_df)"
   ]
  },
  {
   "cell_type": "code",
   "execution_count": 13,
   "id": "8c941117",
   "metadata": {},
   "outputs": [],
   "source": [
    "story_df = featureStory(all_df)"
   ]
  },
  {
   "cell_type": "code",
   "execution_count": 14,
   "id": "5e1c88a3",
   "metadata": {},
   "outputs": [
    {
     "data": {
      "text/plain": [
       "48522"
      ]
     },
     "execution_count": 14,
     "metadata": {},
     "output_type": "execute_result"
    }
   ],
   "source": [
    "len(all_df)"
   ]
  },
  {
   "cell_type": "code",
   "execution_count": 15,
   "id": "24c2f7e6",
   "metadata": {},
   "outputs": [],
   "source": [
    "drop_cols = ['end', 'isstop', 'writer', 'ncode', 'general_firstup', 'title', 'story', 'keyword']"
   ]
  },
  {
   "cell_type": "code",
   "execution_count": 16,
   "id": "684be69c",
   "metadata": {},
   "outputs": [
    {
     "data": {
      "text/plain": [
       "Index(['userid', 'biggenre', 'genre', 'novel_type', 'isr15', 'isbl', 'isgl',\n",
       "       'iszankoku', 'istensei', 'istenni', 'pc_or_k', 'fav_novel_cnt_bin'],\n",
       "      dtype='object')"
      ]
     },
     "execution_count": 16,
     "metadata": {},
     "output_type": "execute_result"
    }
   ],
   "source": [
    "all_df = all_df.drop(drop_cols, axis=1)\n",
    "all_df.columns"
   ]
  },
  {
   "cell_type": "code",
   "execution_count": 17,
   "id": "dad17cbd",
   "metadata": {},
   "outputs": [],
   "source": [
    "cat_cols = ['userid', 'biggenre', 'genre', 'novel_type', 'isr15', 'isbl', 'isgl', 'iszankoku', 'istensei', 'istenni']"
   ]
  },
  {
   "cell_type": "code",
   "execution_count": 18,
   "id": "4a488a22",
   "metadata": {},
   "outputs": [],
   "source": [
    "num_cols = list(num_keyword_df.columns) + list(story_df.columns)"
   ]
  },
  {
   "cell_type": "code",
   "execution_count": 19,
   "id": "ab706477",
   "metadata": {},
   "outputs": [],
   "source": [
    "feat_cols = cat_cols + num_cols"
   ]
  },
  {
   "cell_type": "code",
   "execution_count": 20,
   "id": "9a38ccf0",
   "metadata": {},
   "outputs": [
    {
     "data": {
      "text/plain": [
       "(48522, 16)"
      ]
     },
     "metadata": {},
     "output_type": "display_data"
    }
   ],
   "source": [
    "concat_df = concatDfs([all_df, num_keyword_df, story_df])\n",
    "display(concat_df.shape)"
   ]
  },
  {
   "cell_type": "code",
   "execution_count": 21,
   "id": "d905797c",
   "metadata": {},
   "outputs": [
    {
     "data": {
      "text/html": [
       "<div>\n",
       "<style scoped>\n",
       "    .dataframe tbody tr th:only-of-type {\n",
       "        vertical-align: middle;\n",
       "    }\n",
       "\n",
       "    .dataframe tbody tr th {\n",
       "        vertical-align: top;\n",
       "    }\n",
       "\n",
       "    .dataframe thead th {\n",
       "        text-align: right;\n",
       "    }\n",
       "</style>\n",
       "<table border=\"1\" class=\"dataframe\">\n",
       "  <thead>\n",
       "    <tr style=\"text-align: right;\">\n",
       "      <th></th>\n",
       "      <th>userid</th>\n",
       "      <th>biggenre</th>\n",
       "      <th>genre</th>\n",
       "      <th>novel_type</th>\n",
       "      <th>isr15</th>\n",
       "      <th>isbl</th>\n",
       "      <th>isgl</th>\n",
       "      <th>iszankoku</th>\n",
       "      <th>istensei</th>\n",
       "      <th>istenni</th>\n",
       "      <th>pc_or_k</th>\n",
       "      <th>fav_novel_cnt_bin</th>\n",
       "      <th>num_keywords</th>\n",
       "      <th>num_sentence</th>\n",
       "      <th>max_sentence_len</th>\n",
       "      <th>num_indent</th>\n",
       "    </tr>\n",
       "  </thead>\n",
       "  <tbody>\n",
       "    <tr>\n",
       "      <th>0</th>\n",
       "      <td>9904</td>\n",
       "      <td>4</td>\n",
       "      <td>402</td>\n",
       "      <td>1</td>\n",
       "      <td>0</td>\n",
       "      <td>0</td>\n",
       "      <td>0</td>\n",
       "      <td>0</td>\n",
       "      <td>0</td>\n",
       "      <td>0</td>\n",
       "      <td>0</td>\n",
       "      <td>1.0</td>\n",
       "      <td>5</td>\n",
       "      <td>4</td>\n",
       "      <td>199</td>\n",
       "      <td>2</td>\n",
       "    </tr>\n",
       "    <tr>\n",
       "      <th>1</th>\n",
       "      <td>6527</td>\n",
       "      <td>4</td>\n",
       "      <td>401</td>\n",
       "      <td>1</td>\n",
       "      <td>0</td>\n",
       "      <td>0</td>\n",
       "      <td>0</td>\n",
       "      <td>0</td>\n",
       "      <td>0</td>\n",
       "      <td>0</td>\n",
       "      <td>3</td>\n",
       "      <td>2.0</td>\n",
       "      <td>14</td>\n",
       "      <td>0</td>\n",
       "      <td>113</td>\n",
       "      <td>0</td>\n",
       "    </tr>\n",
       "    <tr>\n",
       "      <th>2</th>\n",
       "      <td>13882</td>\n",
       "      <td>4</td>\n",
       "      <td>403</td>\n",
       "      <td>1</td>\n",
       "      <td>0</td>\n",
       "      <td>0</td>\n",
       "      <td>0</td>\n",
       "      <td>0</td>\n",
       "      <td>0</td>\n",
       "      <td>0</td>\n",
       "      <td>0</td>\n",
       "      <td>3.0</td>\n",
       "      <td>6</td>\n",
       "      <td>4</td>\n",
       "      <td>38</td>\n",
       "      <td>1</td>\n",
       "    </tr>\n",
       "    <tr>\n",
       "      <th>3</th>\n",
       "      <td>13920</td>\n",
       "      <td>4</td>\n",
       "      <td>402</td>\n",
       "      <td>1</td>\n",
       "      <td>0</td>\n",
       "      <td>0</td>\n",
       "      <td>0</td>\n",
       "      <td>0</td>\n",
       "      <td>0</td>\n",
       "      <td>0</td>\n",
       "      <td>2</td>\n",
       "      <td>1.0</td>\n",
       "      <td>13</td>\n",
       "      <td>0</td>\n",
       "      <td>128</td>\n",
       "      <td>0</td>\n",
       "    </tr>\n",
       "    <tr>\n",
       "      <th>4</th>\n",
       "      <td>12136</td>\n",
       "      <td>4</td>\n",
       "      <td>401</td>\n",
       "      <td>1</td>\n",
       "      <td>0</td>\n",
       "      <td>0</td>\n",
       "      <td>0</td>\n",
       "      <td>0</td>\n",
       "      <td>0</td>\n",
       "      <td>0</td>\n",
       "      <td>1</td>\n",
       "      <td>1.0</td>\n",
       "      <td>12</td>\n",
       "      <td>0</td>\n",
       "      <td>179</td>\n",
       "      <td>0</td>\n",
       "    </tr>\n",
       "    <tr>\n",
       "      <th>...</th>\n",
       "      <td>...</td>\n",
       "      <td>...</td>\n",
       "      <td>...</td>\n",
       "      <td>...</td>\n",
       "      <td>...</td>\n",
       "      <td>...</td>\n",
       "      <td>...</td>\n",
       "      <td>...</td>\n",
       "      <td>...</td>\n",
       "      <td>...</td>\n",
       "      <td>...</td>\n",
       "      <td>...</td>\n",
       "      <td>...</td>\n",
       "      <td>...</td>\n",
       "      <td>...</td>\n",
       "      <td>...</td>\n",
       "    </tr>\n",
       "    <tr>\n",
       "      <th>48517</th>\n",
       "      <td>2263100</td>\n",
       "      <td>99</td>\n",
       "      <td>9903</td>\n",
       "      <td>2</td>\n",
       "      <td>0</td>\n",
       "      <td>0</td>\n",
       "      <td>0</td>\n",
       "      <td>0</td>\n",
       "      <td>0</td>\n",
       "      <td>0</td>\n",
       "      <td>2</td>\n",
       "      <td>NaN</td>\n",
       "      <td>4</td>\n",
       "      <td>0</td>\n",
       "      <td>75</td>\n",
       "      <td>0</td>\n",
       "    </tr>\n",
       "    <tr>\n",
       "      <th>48518</th>\n",
       "      <td>2254651</td>\n",
       "      <td>3</td>\n",
       "      <td>305</td>\n",
       "      <td>2</td>\n",
       "      <td>0</td>\n",
       "      <td>0</td>\n",
       "      <td>0</td>\n",
       "      <td>0</td>\n",
       "      <td>0</td>\n",
       "      <td>0</td>\n",
       "      <td>2</td>\n",
       "      <td>NaN</td>\n",
       "      <td>10</td>\n",
       "      <td>4</td>\n",
       "      <td>43</td>\n",
       "      <td>2</td>\n",
       "    </tr>\n",
       "    <tr>\n",
       "      <th>48519</th>\n",
       "      <td>846989</td>\n",
       "      <td>3</td>\n",
       "      <td>302</td>\n",
       "      <td>2</td>\n",
       "      <td>0</td>\n",
       "      <td>0</td>\n",
       "      <td>0</td>\n",
       "      <td>0</td>\n",
       "      <td>0</td>\n",
       "      <td>0</td>\n",
       "      <td>2</td>\n",
       "      <td>NaN</td>\n",
       "      <td>2</td>\n",
       "      <td>0</td>\n",
       "      <td>51</td>\n",
       "      <td>0</td>\n",
       "    </tr>\n",
       "    <tr>\n",
       "      <th>48520</th>\n",
       "      <td>2259847</td>\n",
       "      <td>2</td>\n",
       "      <td>202</td>\n",
       "      <td>2</td>\n",
       "      <td>0</td>\n",
       "      <td>0</td>\n",
       "      <td>0</td>\n",
       "      <td>0</td>\n",
       "      <td>0</td>\n",
       "      <td>0</td>\n",
       "      <td>2</td>\n",
       "      <td>NaN</td>\n",
       "      <td>0</td>\n",
       "      <td>8</td>\n",
       "      <td>42</td>\n",
       "      <td>2</td>\n",
       "    </tr>\n",
       "    <tr>\n",
       "      <th>48521</th>\n",
       "      <td>816980</td>\n",
       "      <td>99</td>\n",
       "      <td>9903</td>\n",
       "      <td>2</td>\n",
       "      <td>0</td>\n",
       "      <td>0</td>\n",
       "      <td>0</td>\n",
       "      <td>0</td>\n",
       "      <td>0</td>\n",
       "      <td>0</td>\n",
       "      <td>2</td>\n",
       "      <td>NaN</td>\n",
       "      <td>1</td>\n",
       "      <td>0</td>\n",
       "      <td>13</td>\n",
       "      <td>0</td>\n",
       "    </tr>\n",
       "  </tbody>\n",
       "</table>\n",
       "<p>48522 rows × 16 columns</p>\n",
       "</div>"
      ],
      "text/plain": [
       "        userid  biggenre  genre  novel_type  isr15  isbl  isgl  iszankoku  \\\n",
       "0         9904         4    402           1      0     0     0          0   \n",
       "1         6527         4    401           1      0     0     0          0   \n",
       "2        13882         4    403           1      0     0     0          0   \n",
       "3        13920         4    402           1      0     0     0          0   \n",
       "4        12136         4    401           1      0     0     0          0   \n",
       "...        ...       ...    ...         ...    ...   ...   ...        ...   \n",
       "48517  2263100        99   9903           2      0     0     0          0   \n",
       "48518  2254651         3    305           2      0     0     0          0   \n",
       "48519   846989         3    302           2      0     0     0          0   \n",
       "48520  2259847         2    202           2      0     0     0          0   \n",
       "48521   816980        99   9903           2      0     0     0          0   \n",
       "\n",
       "       istensei  istenni  pc_or_k  fav_novel_cnt_bin  num_keywords  \\\n",
       "0             0        0        0                1.0             5   \n",
       "1             0        0        3                2.0            14   \n",
       "2             0        0        0                3.0             6   \n",
       "3             0        0        2                1.0            13   \n",
       "4             0        0        1                1.0            12   \n",
       "...         ...      ...      ...                ...           ...   \n",
       "48517         0        0        2                NaN             4   \n",
       "48518         0        0        2                NaN            10   \n",
       "48519         0        0        2                NaN             2   \n",
       "48520         0        0        2                NaN             0   \n",
       "48521         0        0        2                NaN             1   \n",
       "\n",
       "       num_sentence  max_sentence_len  num_indent  \n",
       "0                 4               199           2  \n",
       "1                 0               113           0  \n",
       "2                 4                38           1  \n",
       "3                 0               128           0  \n",
       "4                 0               179           0  \n",
       "...             ...               ...         ...  \n",
       "48517             0                75           0  \n",
       "48518             4                43           2  \n",
       "48519             0                51           0  \n",
       "48520             8                42           2  \n",
       "48521             0                13           0  \n",
       "\n",
       "[48522 rows x 16 columns]"
      ]
     },
     "execution_count": 21,
     "metadata": {},
     "output_type": "execute_result"
    }
   ],
   "source": [
    "concat_df"
   ]
  },
  {
   "cell_type": "code",
   "execution_count": 22,
   "id": "f83599d6",
   "metadata": {},
   "outputs": [],
   "source": [
    "train = concat_df.iloc[:train_idx, :]\n",
    "test = concat_df.iloc[train_idx:, :]"
   ]
  },
  {
   "cell_type": "code",
   "execution_count": 23,
   "id": "50da478b",
   "metadata": {},
   "outputs": [
    {
     "data": {
      "text/plain": [
       "Index(['userid', 'biggenre', 'genre', 'novel_type', 'isr15', 'isbl', 'isgl',\n",
       "       'iszankoku', 'istensei', 'istenni', 'pc_or_k', 'fav_novel_cnt_bin',\n",
       "       'num_keywords', 'num_sentence', 'max_sentence_len', 'num_indent'],\n",
       "      dtype='object')"
      ]
     },
     "execution_count": 23,
     "metadata": {},
     "output_type": "execute_result"
    }
   ],
   "source": [
    "train.columns"
   ]
  },
  {
   "cell_type": "code",
   "execution_count": 24,
   "id": "ab98f1cc",
   "metadata": {},
   "outputs": [],
   "source": [
    "test = test.reset_index(drop=True).drop(TARGET,axis=1)"
   ]
  },
  {
   "cell_type": "code",
   "execution_count": 44,
   "id": "35777616",
   "metadata": {},
   "outputs": [],
   "source": [
    "def fit(tr_x, tr_y, va_x, va_y, tr_w=None, va_w=None):\n",
    "    \"\"\"\n",
    "    model training\n",
    "  \n",
    "    Parameters\n",
    "    ----------\n",
    "    tr_x: pd.DataFrame\n",
    "    tr_y: pd.DataFrame\n",
    "    va_x: pd.DataFrame\n",
    "    va_y: pd.DataFrame\n",
    "\n",
    "    Returns\n",
    "    ----------\n",
    "    model:\n",
    "        - 学習済みモデル\n",
    "    va_pred: \n",
    "        - 検証データの予測結果\n",
    "    \"\"\" \n",
    "    params = {\n",
    "        'objective': 'multiclass',\n",
    "        'num_classes': 5,\n",
    "        'metric': 'multi_logloss',\n",
    "#         'num_leaves': 42,\n",
    "#         'max_depth': 7,\n",
    "#         \"feature_fraction\": 0.8,\n",
    "#         'subsample_freq': 1,\n",
    "#         \"bagging_fraction\": 0.95,\n",
    "#         'min_data_in_leaf': 2,\n",
    "        'learning_rate': 0.01,\n",
    "        \"boosting\": \"gbdt\",\n",
    "#         \"lambda_l1\": 0.1,\n",
    "#         \"lambda_l2\": 10,\n",
    "#         \"verbosity\": -1,\n",
    "#         \"random_state\": 42,\n",
    "        'seed':777,\n",
    "        'n_jobs': -1,\n",
    "        'verbose':-1,\n",
    "        \"num_boost_round\": 1000,\n",
    "        \"early_stopping_rounds\": 100\n",
    "    }\n",
    "    \n",
    "    lgb_train = lgb.Dataset(tr_x, tr_y)\n",
    "    lgb_eval = lgb.Dataset(va_x, va_y, reference=lgb_train)\n",
    "    model = lgb.train(\n",
    "        params,\n",
    "        train_set=lgb_train,\n",
    "        valid_sets=[lgb_train, lgb_eval],\n",
    "        verbose_eval=20\n",
    "    )\n",
    "    \n",
    "    va_pred = model.predict(va_x)\n",
    "    \n",
    "    return model, va_pred"
   ]
  },
  {
   "cell_type": "code",
   "execution_count": 45,
   "id": "c2380af0",
   "metadata": {},
   "outputs": [],
   "source": [
    "def scoreing(y_true, y_prob):\n",
    "    return log_loss(y_true, y_prob)"
   ]
  },
  {
   "cell_type": "code",
   "execution_count": 46,
   "id": "51199811",
   "metadata": {},
   "outputs": [
    {
     "data": {
      "text/plain": [
       "Index(['userid', 'biggenre', 'genre', 'novel_type', 'isr15', 'isbl', 'isgl',\n",
       "       'iszankoku', 'istensei', 'istenni', 'pc_or_k', 'fav_novel_cnt_bin',\n",
       "       'num_keywords', 'num_sentence', 'max_sentence_len', 'num_indent'],\n",
       "      dtype='object')"
      ]
     },
     "execution_count": 46,
     "metadata": {},
     "output_type": "execute_result"
    }
   ],
   "source": [
    "train.columns"
   ]
  },
  {
   "cell_type": "code",
   "execution_count": 47,
   "id": "42e10b29",
   "metadata": {},
   "outputs": [],
   "source": [
    "X = train.drop(TARGET, axis=1)\n",
    "y = train[TARGET]"
   ]
  },
  {
   "cell_type": "code",
   "execution_count": 48,
   "id": "1c77aab3",
   "metadata": {},
   "outputs": [],
   "source": [
    "assert len(mask_latest) == len(X), 'lengths are different'\n",
    "X_old = X.loc[~mask_latest]\n",
    "X_latest = X.loc[mask_latest]\n",
    "y_old = y.loc[~mask_latest]\n",
    "y_latest = y.loc[mask_latest]"
   ]
  },
  {
   "cell_type": "code",
   "execution_count": 49,
   "id": "327811d3",
   "metadata": {},
   "outputs": [
    {
     "data": {
      "text/html": [
       "<div>\n",
       "<style scoped>\n",
       "    .dataframe tbody tr th:only-of-type {\n",
       "        vertical-align: middle;\n",
       "    }\n",
       "\n",
       "    .dataframe tbody tr th {\n",
       "        vertical-align: top;\n",
       "    }\n",
       "\n",
       "    .dataframe thead th {\n",
       "        text-align: right;\n",
       "    }\n",
       "</style>\n",
       "<table border=\"1\" class=\"dataframe\">\n",
       "  <thead>\n",
       "    <tr style=\"text-align: right;\">\n",
       "      <th></th>\n",
       "      <th>userid</th>\n",
       "      <th>biggenre</th>\n",
       "      <th>genre</th>\n",
       "      <th>novel_type</th>\n",
       "      <th>isr15</th>\n",
       "      <th>isbl</th>\n",
       "      <th>isgl</th>\n",
       "      <th>iszankoku</th>\n",
       "      <th>istensei</th>\n",
       "      <th>istenni</th>\n",
       "      <th>pc_or_k</th>\n",
       "      <th>num_keywords</th>\n",
       "      <th>num_sentence</th>\n",
       "      <th>max_sentence_len</th>\n",
       "      <th>num_indent</th>\n",
       "    </tr>\n",
       "  </thead>\n",
       "  <tbody>\n",
       "    <tr>\n",
       "      <th>11139</th>\n",
       "      <td>1064095</td>\n",
       "      <td>3</td>\n",
       "      <td>303</td>\n",
       "      <td>1</td>\n",
       "      <td>1</td>\n",
       "      <td>0</td>\n",
       "      <td>1</td>\n",
       "      <td>1</td>\n",
       "      <td>0</td>\n",
       "      <td>0</td>\n",
       "      <td>2</td>\n",
       "      <td>18</td>\n",
       "      <td>20</td>\n",
       "      <td>112</td>\n",
       "      <td>7</td>\n",
       "    </tr>\n",
       "    <tr>\n",
       "      <th>11140</th>\n",
       "      <td>873785</td>\n",
       "      <td>4</td>\n",
       "      <td>404</td>\n",
       "      <td>2</td>\n",
       "      <td>0</td>\n",
       "      <td>0</td>\n",
       "      <td>0</td>\n",
       "      <td>1</td>\n",
       "      <td>0</td>\n",
       "      <td>0</td>\n",
       "      <td>2</td>\n",
       "      <td>5</td>\n",
       "      <td>8</td>\n",
       "      <td>67</td>\n",
       "      <td>5</td>\n",
       "    </tr>\n",
       "    <tr>\n",
       "      <th>11141</th>\n",
       "      <td>1324127</td>\n",
       "      <td>3</td>\n",
       "      <td>302</td>\n",
       "      <td>1</td>\n",
       "      <td>1</td>\n",
       "      <td>0</td>\n",
       "      <td>0</td>\n",
       "      <td>1</td>\n",
       "      <td>0</td>\n",
       "      <td>0</td>\n",
       "      <td>2</td>\n",
       "      <td>12</td>\n",
       "      <td>4</td>\n",
       "      <td>31</td>\n",
       "      <td>1</td>\n",
       "    </tr>\n",
       "    <tr>\n",
       "      <th>11142</th>\n",
       "      <td>1641547</td>\n",
       "      <td>3</td>\n",
       "      <td>303</td>\n",
       "      <td>2</td>\n",
       "      <td>0</td>\n",
       "      <td>0</td>\n",
       "      <td>0</td>\n",
       "      <td>0</td>\n",
       "      <td>0</td>\n",
       "      <td>0</td>\n",
       "      <td>2</td>\n",
       "      <td>9</td>\n",
       "      <td>0</td>\n",
       "      <td>79</td>\n",
       "      <td>0</td>\n",
       "    </tr>\n",
       "    <tr>\n",
       "      <th>11143</th>\n",
       "      <td>293149</td>\n",
       "      <td>3</td>\n",
       "      <td>304</td>\n",
       "      <td>1</td>\n",
       "      <td>0</td>\n",
       "      <td>0</td>\n",
       "      <td>0</td>\n",
       "      <td>0</td>\n",
       "      <td>0</td>\n",
       "      <td>0</td>\n",
       "      <td>2</td>\n",
       "      <td>13</td>\n",
       "      <td>0</td>\n",
       "      <td>134</td>\n",
       "      <td>0</td>\n",
       "    </tr>\n",
       "    <tr>\n",
       "      <th>...</th>\n",
       "      <td>...</td>\n",
       "      <td>...</td>\n",
       "      <td>...</td>\n",
       "      <td>...</td>\n",
       "      <td>...</td>\n",
       "      <td>...</td>\n",
       "      <td>...</td>\n",
       "      <td>...</td>\n",
       "      <td>...</td>\n",
       "      <td>...</td>\n",
       "      <td>...</td>\n",
       "      <td>...</td>\n",
       "      <td>...</td>\n",
       "      <td>...</td>\n",
       "      <td>...</td>\n",
       "    </tr>\n",
       "    <tr>\n",
       "      <th>39995</th>\n",
       "      <td>1964264</td>\n",
       "      <td>99</td>\n",
       "      <td>9903</td>\n",
       "      <td>2</td>\n",
       "      <td>0</td>\n",
       "      <td>0</td>\n",
       "      <td>0</td>\n",
       "      <td>0</td>\n",
       "      <td>0</td>\n",
       "      <td>0</td>\n",
       "      <td>2</td>\n",
       "      <td>8</td>\n",
       "      <td>2</td>\n",
       "      <td>42</td>\n",
       "      <td>1</td>\n",
       "    </tr>\n",
       "    <tr>\n",
       "      <th>39996</th>\n",
       "      <td>2180545</td>\n",
       "      <td>1</td>\n",
       "      <td>102</td>\n",
       "      <td>2</td>\n",
       "      <td>0</td>\n",
       "      <td>0</td>\n",
       "      <td>0</td>\n",
       "      <td>0</td>\n",
       "      <td>0</td>\n",
       "      <td>0</td>\n",
       "      <td>2</td>\n",
       "      <td>14</td>\n",
       "      <td>7</td>\n",
       "      <td>20</td>\n",
       "      <td>2</td>\n",
       "    </tr>\n",
       "    <tr>\n",
       "      <th>39997</th>\n",
       "      <td>2212561</td>\n",
       "      <td>3</td>\n",
       "      <td>307</td>\n",
       "      <td>2</td>\n",
       "      <td>0</td>\n",
       "      <td>0</td>\n",
       "      <td>0</td>\n",
       "      <td>0</td>\n",
       "      <td>0</td>\n",
       "      <td>0</td>\n",
       "      <td>2</td>\n",
       "      <td>7</td>\n",
       "      <td>0</td>\n",
       "      <td>98</td>\n",
       "      <td>0</td>\n",
       "    </tr>\n",
       "    <tr>\n",
       "      <th>39998</th>\n",
       "      <td>535814</td>\n",
       "      <td>2</td>\n",
       "      <td>201</td>\n",
       "      <td>2</td>\n",
       "      <td>0</td>\n",
       "      <td>0</td>\n",
       "      <td>0</td>\n",
       "      <td>0</td>\n",
       "      <td>0</td>\n",
       "      <td>0</td>\n",
       "      <td>2</td>\n",
       "      <td>4</td>\n",
       "      <td>6</td>\n",
       "      <td>24</td>\n",
       "      <td>4</td>\n",
       "    </tr>\n",
       "    <tr>\n",
       "      <th>39999</th>\n",
       "      <td>1772298</td>\n",
       "      <td>3</td>\n",
       "      <td>302</td>\n",
       "      <td>2</td>\n",
       "      <td>0</td>\n",
       "      <td>0</td>\n",
       "      <td>0</td>\n",
       "      <td>0</td>\n",
       "      <td>0</td>\n",
       "      <td>0</td>\n",
       "      <td>2</td>\n",
       "      <td>2</td>\n",
       "      <td>4</td>\n",
       "      <td>79</td>\n",
       "      <td>2</td>\n",
       "    </tr>\n",
       "  </tbody>\n",
       "</table>\n",
       "<p>28861 rows × 15 columns</p>\n",
       "</div>"
      ],
      "text/plain": [
       "        userid  biggenre  genre  novel_type  isr15  isbl  isgl  iszankoku  \\\n",
       "11139  1064095         3    303           1      1     0     1          1   \n",
       "11140   873785         4    404           2      0     0     0          1   \n",
       "11141  1324127         3    302           1      1     0     0          1   \n",
       "11142  1641547         3    303           2      0     0     0          0   \n",
       "11143   293149         3    304           1      0     0     0          0   \n",
       "...        ...       ...    ...         ...    ...   ...   ...        ...   \n",
       "39995  1964264        99   9903           2      0     0     0          0   \n",
       "39996  2180545         1    102           2      0     0     0          0   \n",
       "39997  2212561         3    307           2      0     0     0          0   \n",
       "39998   535814         2    201           2      0     0     0          0   \n",
       "39999  1772298         3    302           2      0     0     0          0   \n",
       "\n",
       "       istensei  istenni  pc_or_k  num_keywords  num_sentence  \\\n",
       "11139         0        0        2            18            20   \n",
       "11140         0        0        2             5             8   \n",
       "11141         0        0        2            12             4   \n",
       "11142         0        0        2             9             0   \n",
       "11143         0        0        2            13             0   \n",
       "...         ...      ...      ...           ...           ...   \n",
       "39995         0        0        2             8             2   \n",
       "39996         0        0        2            14             7   \n",
       "39997         0        0        2             7             0   \n",
       "39998         0        0        2             4             6   \n",
       "39999         0        0        2             2             4   \n",
       "\n",
       "       max_sentence_len  num_indent  \n",
       "11139               112           7  \n",
       "11140                67           5  \n",
       "11141                31           1  \n",
       "11142                79           0  \n",
       "11143               134           0  \n",
       "...                 ...         ...  \n",
       "39995                42           1  \n",
       "39996                20           2  \n",
       "39997                98           0  \n",
       "39998                24           4  \n",
       "39999                79           2  \n",
       "\n",
       "[28861 rows x 15 columns]"
      ]
     },
     "execution_count": 49,
     "metadata": {},
     "output_type": "execute_result"
    }
   ],
   "source": [
    "X_latest"
   ]
  },
  {
   "cell_type": "code",
   "execution_count": 63,
   "id": "5dc575bd",
   "metadata": {
    "scrolled": true,
    "tags": []
   },
   "outputs": [
    {
     "name": "stdout",
     "output_type": "stream",
     "text": [
      "----CV:1----\n",
      "Training until validation scores don't improve for 100 rounds\n"
     ]
    },
    {
     "name": "stderr",
     "output_type": "stream",
     "text": [
      "/home/wsato/work/venv/lib/python3.8/site-packages/lightgbm/engine.py:177: UserWarning: Found `num_boost_round` in params. Will use it instead of argument\n",
      "  _log_warning(f\"Found `{alias}` in params. Will use it instead of argument\")\n",
      "/home/wsato/work/venv/lib/python3.8/site-packages/lightgbm/engine.py:240: UserWarning: 'verbose_eval' argument is deprecated and will be removed in a future release of LightGBM. Pass 'log_evaluation()' callback via 'callbacks' argument instead.\n",
      "  _log_warning(\"'verbose_eval' argument is deprecated and will be removed in a future release of LightGBM. \"\n"
     ]
    },
    {
     "name": "stdout",
     "output_type": "stream",
     "text": [
      "[20]\ttraining's multi_logloss: 1.08752\tvalid_1's multi_logloss: 1.17681\n",
      "[40]\ttraining's multi_logloss: 1.03144\tvalid_1's multi_logloss: 1.12428\n",
      "[60]\ttraining's multi_logloss: 0.993277\tvalid_1's multi_logloss: 1.08898\n",
      "[80]\ttraining's multi_logloss: 0.964812\tvalid_1's multi_logloss: 1.06447\n",
      "[100]\ttraining's multi_logloss: 0.942839\tvalid_1's multi_logloss: 1.0462\n",
      "[120]\ttraining's multi_logloss: 0.925594\tvalid_1's multi_logloss: 1.03266\n",
      "[140]\ttraining's multi_logloss: 0.911809\tvalid_1's multi_logloss: 1.02186\n",
      "[160]\ttraining's multi_logloss: 0.900239\tvalid_1's multi_logloss: 1.0126\n",
      "[180]\ttraining's multi_logloss: 0.890448\tvalid_1's multi_logloss: 1.00503\n",
      "[200]\ttraining's multi_logloss: 0.882166\tvalid_1's multi_logloss: 0.998615\n",
      "[220]\ttraining's multi_logloss: 0.874852\tvalid_1's multi_logloss: 0.993549\n",
      "[240]\ttraining's multi_logloss: 0.868147\tvalid_1's multi_logloss: 0.989151\n",
      "[260]\ttraining's multi_logloss: 0.862111\tvalid_1's multi_logloss: 0.985792\n",
      "[280]\ttraining's multi_logloss: 0.85648\tvalid_1's multi_logloss: 0.982786\n",
      "[300]\ttraining's multi_logloss: 0.851304\tvalid_1's multi_logloss: 0.980337\n",
      "[320]\ttraining's multi_logloss: 0.846308\tvalid_1's multi_logloss: 0.978158\n",
      "[340]\ttraining's multi_logloss: 0.841544\tvalid_1's multi_logloss: 0.976281\n",
      "[360]\ttraining's multi_logloss: 0.837131\tvalid_1's multi_logloss: 0.974855\n",
      "[380]\ttraining's multi_logloss: 0.832932\tvalid_1's multi_logloss: 0.973654\n",
      "[400]\ttraining's multi_logloss: 0.829016\tvalid_1's multi_logloss: 0.972447\n",
      "[420]\ttraining's multi_logloss: 0.825408\tvalid_1's multi_logloss: 0.971508\n",
      "[440]\ttraining's multi_logloss: 0.821928\tvalid_1's multi_logloss: 0.970703\n",
      "[460]\ttraining's multi_logloss: 0.818607\tvalid_1's multi_logloss: 0.970006\n",
      "[480]\ttraining's multi_logloss: 0.815412\tvalid_1's multi_logloss: 0.969666\n",
      "[500]\ttraining's multi_logloss: 0.812245\tvalid_1's multi_logloss: 0.96911\n",
      "[520]\ttraining's multi_logloss: 0.809176\tvalid_1's multi_logloss: 0.968669\n",
      "[540]\ttraining's multi_logloss: 0.806274\tvalid_1's multi_logloss: 0.968297\n",
      "[560]\ttraining's multi_logloss: 0.803516\tvalid_1's multi_logloss: 0.96799\n",
      "[580]\ttraining's multi_logloss: 0.80077\tvalid_1's multi_logloss: 0.967819\n",
      "[600]\ttraining's multi_logloss: 0.79814\tvalid_1's multi_logloss: 0.967551\n",
      "[620]\ttraining's multi_logloss: 0.79548\tvalid_1's multi_logloss: 0.967195\n",
      "[640]\ttraining's multi_logloss: 0.792933\tvalid_1's multi_logloss: 0.96713\n",
      "[660]\ttraining's multi_logloss: 0.790434\tvalid_1's multi_logloss: 0.966938\n",
      "[680]\ttraining's multi_logloss: 0.787998\tvalid_1's multi_logloss: 0.966845\n",
      "[700]\ttraining's multi_logloss: 0.785469\tvalid_1's multi_logloss: 0.966681\n",
      "[720]\ttraining's multi_logloss: 0.782987\tvalid_1's multi_logloss: 0.966502\n",
      "[740]\ttraining's multi_logloss: 0.780572\tvalid_1's multi_logloss: 0.966471\n",
      "[760]\ttraining's multi_logloss: 0.778273\tvalid_1's multi_logloss: 0.966467\n",
      "[780]\ttraining's multi_logloss: 0.775952\tvalid_1's multi_logloss: 0.966175\n",
      "[800]\ttraining's multi_logloss: 0.773679\tvalid_1's multi_logloss: 0.965649\n",
      "[820]\ttraining's multi_logloss: 0.771315\tvalid_1's multi_logloss: 0.965341\n",
      "[840]\ttraining's multi_logloss: 0.76907\tvalid_1's multi_logloss: 0.965014\n",
      "[860]\ttraining's multi_logloss: 0.766878\tvalid_1's multi_logloss: 0.96472\n",
      "[880]\ttraining's multi_logloss: 0.764718\tvalid_1's multi_logloss: 0.964563\n",
      "[900]\ttraining's multi_logloss: 0.762519\tvalid_1's multi_logloss: 0.964432\n",
      "[920]\ttraining's multi_logloss: 0.76038\tvalid_1's multi_logloss: 0.964376\n",
      "[940]\ttraining's multi_logloss: 0.75827\tvalid_1's multi_logloss: 0.964327\n",
      "[960]\ttraining's multi_logloss: 0.756237\tvalid_1's multi_logloss: 0.964321\n",
      "[980]\ttraining's multi_logloss: 0.754175\tvalid_1's multi_logloss: 0.964405\n",
      "[1000]\ttraining's multi_logloss: 0.752181\tvalid_1's multi_logloss: 0.96427\n",
      "Did not meet early stopping. Best iteration is:\n",
      "[1000]\ttraining's multi_logloss: 0.752181\tvalid_1's multi_logloss: 0.96427\n",
      "----CV:2----\n",
      "Training until validation scores don't improve for 100 rounds\n",
      "[20]\ttraining's multi_logloss: 1.09069\tvalid_1's multi_logloss: 1.14081\n",
      "[40]\ttraining's multi_logloss: 1.03448\tvalid_1's multi_logloss: 1.09302\n",
      "[60]\ttraining's multi_logloss: 0.996255\tvalid_1's multi_logloss: 1.06151\n",
      "[80]\ttraining's multi_logloss: 0.96791\tvalid_1's multi_logloss: 1.03899\n",
      "[100]\ttraining's multi_logloss: 0.946485\tvalid_1's multi_logloss: 1.02199\n",
      "[120]\ttraining's multi_logloss: 0.929381\tvalid_1's multi_logloss: 1.00902\n",
      "[140]\ttraining's multi_logloss: 0.915357\tvalid_1's multi_logloss: 0.999173\n",
      "[160]\ttraining's multi_logloss: 0.90361\tvalid_1's multi_logloss: 0.991126\n",
      "[180]\ttraining's multi_logloss: 0.893661\tvalid_1's multi_logloss: 0.984902\n",
      "[200]\ttraining's multi_logloss: 0.88536\tvalid_1's multi_logloss: 0.979437\n",
      "[220]\ttraining's multi_logloss: 0.878029\tvalid_1's multi_logloss: 0.974789\n",
      "[240]\ttraining's multi_logloss: 0.871457\tvalid_1's multi_logloss: 0.971425\n",
      "[260]\ttraining's multi_logloss: 0.865411\tvalid_1's multi_logloss: 0.967634\n",
      "[280]\ttraining's multi_logloss: 0.859827\tvalid_1's multi_logloss: 0.964026\n",
      "[300]\ttraining's multi_logloss: 0.854627\tvalid_1's multi_logloss: 0.961192\n",
      "[320]\ttraining's multi_logloss: 0.849692\tvalid_1's multi_logloss: 0.958742\n",
      "[340]\ttraining's multi_logloss: 0.845123\tvalid_1's multi_logloss: 0.95663\n",
      "[360]\ttraining's multi_logloss: 0.840758\tvalid_1's multi_logloss: 0.954742\n",
      "[380]\ttraining's multi_logloss: 0.836758\tvalid_1's multi_logloss: 0.953138\n",
      "[400]\ttraining's multi_logloss: 0.8328\tvalid_1's multi_logloss: 0.951474\n",
      "[420]\ttraining's multi_logloss: 0.829087\tvalid_1's multi_logloss: 0.950141\n",
      "[440]\ttraining's multi_logloss: 0.825615\tvalid_1's multi_logloss: 0.949143\n",
      "[460]\ttraining's multi_logloss: 0.822059\tvalid_1's multi_logloss: 0.948256\n",
      "[480]\ttraining's multi_logloss: 0.818891\tvalid_1's multi_logloss: 0.947631\n",
      "[500]\ttraining's multi_logloss: 0.815867\tvalid_1's multi_logloss: 0.947288\n",
      "[520]\ttraining's multi_logloss: 0.812926\tvalid_1's multi_logloss: 0.94688\n",
      "[540]\ttraining's multi_logloss: 0.809981\tvalid_1's multi_logloss: 0.946106\n",
      "[560]\ttraining's multi_logloss: 0.807203\tvalid_1's multi_logloss: 0.945382\n",
      "[580]\ttraining's multi_logloss: 0.804481\tvalid_1's multi_logloss: 0.944784\n",
      "[600]\ttraining's multi_logloss: 0.801816\tvalid_1's multi_logloss: 0.944394\n",
      "[620]\ttraining's multi_logloss: 0.7992\tvalid_1's multi_logloss: 0.943869\n",
      "[640]\ttraining's multi_logloss: 0.796542\tvalid_1's multi_logloss: 0.943342\n",
      "[660]\ttraining's multi_logloss: 0.793944\tvalid_1's multi_logloss: 0.94277\n",
      "[680]\ttraining's multi_logloss: 0.791425\tvalid_1's multi_logloss: 0.942345\n",
      "[700]\ttraining's multi_logloss: 0.788936\tvalid_1's multi_logloss: 0.941961\n",
      "[720]\ttraining's multi_logloss: 0.786478\tvalid_1's multi_logloss: 0.941567\n",
      "[740]\ttraining's multi_logloss: 0.784044\tvalid_1's multi_logloss: 0.941311\n",
      "[760]\ttraining's multi_logloss: 0.781714\tvalid_1's multi_logloss: 0.94099\n",
      "[780]\ttraining's multi_logloss: 0.779413\tvalid_1's multi_logloss: 0.940695\n",
      "[800]\ttraining's multi_logloss: 0.777155\tvalid_1's multi_logloss: 0.940388\n",
      "[820]\ttraining's multi_logloss: 0.774943\tvalid_1's multi_logloss: 0.940203\n",
      "[840]\ttraining's multi_logloss: 0.77268\tvalid_1's multi_logloss: 0.940154\n",
      "[860]\ttraining's multi_logloss: 0.770455\tvalid_1's multi_logloss: 0.940053\n",
      "[880]\ttraining's multi_logloss: 0.76822\tvalid_1's multi_logloss: 0.93991\n",
      "[900]\ttraining's multi_logloss: 0.766027\tvalid_1's multi_logloss: 0.939681\n",
      "[920]\ttraining's multi_logloss: 0.763853\tvalid_1's multi_logloss: 0.939495\n",
      "[940]\ttraining's multi_logloss: 0.761762\tvalid_1's multi_logloss: 0.939351\n",
      "[960]\ttraining's multi_logloss: 0.759716\tvalid_1's multi_logloss: 0.939261\n",
      "[980]\ttraining's multi_logloss: 0.757739\tvalid_1's multi_logloss: 0.939061\n",
      "[1000]\ttraining's multi_logloss: 0.755677\tvalid_1's multi_logloss: 0.938915\n",
      "Did not meet early stopping. Best iteration is:\n",
      "[1000]\ttraining's multi_logloss: 0.755677\tvalid_1's multi_logloss: 0.938915\n",
      "----CV:3----\n",
      "Training until validation scores don't improve for 100 rounds\n",
      "[20]\ttraining's multi_logloss: 1.097\tvalid_1's multi_logloss: 1.08764\n",
      "[40]\ttraining's multi_logloss: 1.04108\tvalid_1's multi_logloss: 1.04883\n",
      "[60]\ttraining's multi_logloss: 1.00247\tvalid_1's multi_logloss: 1.02435\n",
      "[80]\ttraining's multi_logloss: 0.97408\tvalid_1's multi_logloss: 1.00896\n",
      "[100]\ttraining's multi_logloss: 0.952115\tvalid_1's multi_logloss: 0.995628\n",
      "[120]\ttraining's multi_logloss: 0.934477\tvalid_1's multi_logloss: 0.982344\n",
      "[140]\ttraining's multi_logloss: 0.920289\tvalid_1's multi_logloss: 0.973005\n",
      "[160]\ttraining's multi_logloss: 0.908397\tvalid_1's multi_logloss: 0.965927\n",
      "[180]\ttraining's multi_logloss: 0.898443\tvalid_1's multi_logloss: 0.959736\n",
      "[200]\ttraining's multi_logloss: 0.88991\tvalid_1's multi_logloss: 0.954357\n",
      "[220]\ttraining's multi_logloss: 0.882349\tvalid_1's multi_logloss: 0.950577\n",
      "[240]\ttraining's multi_logloss: 0.875673\tvalid_1's multi_logloss: 0.948019\n",
      "[260]\ttraining's multi_logloss: 0.869601\tvalid_1's multi_logloss: 0.945029\n",
      "[280]\ttraining's multi_logloss: 0.863891\tvalid_1's multi_logloss: 0.942489\n",
      "[300]\ttraining's multi_logloss: 0.858657\tvalid_1's multi_logloss: 0.940323\n",
      "[320]\ttraining's multi_logloss: 0.853542\tvalid_1's multi_logloss: 0.93881\n",
      "[340]\ttraining's multi_logloss: 0.848841\tvalid_1's multi_logloss: 0.936755\n",
      "[360]\ttraining's multi_logloss: 0.844416\tvalid_1's multi_logloss: 0.934845\n",
      "[380]\ttraining's multi_logloss: 0.840051\tvalid_1's multi_logloss: 0.933183\n",
      "[400]\ttraining's multi_logloss: 0.835956\tvalid_1's multi_logloss: 0.931725\n",
      "[420]\ttraining's multi_logloss: 0.832149\tvalid_1's multi_logloss: 0.93057\n",
      "[440]\ttraining's multi_logloss: 0.828527\tvalid_1's multi_logloss: 0.929506\n",
      "[460]\ttraining's multi_logloss: 0.82514\tvalid_1's multi_logloss: 0.92838\n",
      "[480]\ttraining's multi_logloss: 0.821754\tvalid_1's multi_logloss: 0.927152\n",
      "[500]\ttraining's multi_logloss: 0.818585\tvalid_1's multi_logloss: 0.9265\n",
      "[520]\ttraining's multi_logloss: 0.815518\tvalid_1's multi_logloss: 0.925427\n",
      "[540]\ttraining's multi_logloss: 0.812564\tvalid_1's multi_logloss: 0.924805\n",
      "[560]\ttraining's multi_logloss: 0.809668\tvalid_1's multi_logloss: 0.924248\n",
      "[580]\ttraining's multi_logloss: 0.806877\tvalid_1's multi_logloss: 0.923738\n",
      "[600]\ttraining's multi_logloss: 0.80416\tvalid_1's multi_logloss: 0.923029\n",
      "[620]\ttraining's multi_logloss: 0.801503\tvalid_1's multi_logloss: 0.922247\n",
      "[640]\ttraining's multi_logloss: 0.798895\tvalid_1's multi_logloss: 0.921792\n",
      "[660]\ttraining's multi_logloss: 0.796351\tvalid_1's multi_logloss: 0.921113\n",
      "[680]\ttraining's multi_logloss: 0.793834\tvalid_1's multi_logloss: 0.920581\n",
      "[700]\ttraining's multi_logloss: 0.791385\tvalid_1's multi_logloss: 0.920365\n",
      "[720]\ttraining's multi_logloss: 0.788974\tvalid_1's multi_logloss: 0.920104\n",
      "[740]\ttraining's multi_logloss: 0.786576\tvalid_1's multi_logloss: 0.919817\n",
      "[760]\ttraining's multi_logloss: 0.784272\tvalid_1's multi_logloss: 0.919449\n",
      "[780]\ttraining's multi_logloss: 0.781966\tvalid_1's multi_logloss: 0.918993\n",
      "[800]\ttraining's multi_logloss: 0.779669\tvalid_1's multi_logloss: 0.918454\n",
      "[820]\ttraining's multi_logloss: 0.777374\tvalid_1's multi_logloss: 0.918098\n",
      "[840]\ttraining's multi_logloss: 0.775198\tvalid_1's multi_logloss: 0.917602\n",
      "[860]\ttraining's multi_logloss: 0.772986\tvalid_1's multi_logloss: 0.917138\n",
      "[880]\ttraining's multi_logloss: 0.770823\tvalid_1's multi_logloss: 0.916807\n",
      "[900]\ttraining's multi_logloss: 0.768751\tvalid_1's multi_logloss: 0.916562\n",
      "[920]\ttraining's multi_logloss: 0.766686\tvalid_1's multi_logloss: 0.916167\n",
      "[940]\ttraining's multi_logloss: 0.764652\tvalid_1's multi_logloss: 0.915973\n",
      "[960]\ttraining's multi_logloss: 0.762673\tvalid_1's multi_logloss: 0.915793\n",
      "[980]\ttraining's multi_logloss: 0.760726\tvalid_1's multi_logloss: 0.915627\n",
      "[1000]\ttraining's multi_logloss: 0.758734\tvalid_1's multi_logloss: 0.915211\n",
      "Did not meet early stopping. Best iteration is:\n",
      "[1000]\ttraining's multi_logloss: 0.758734\tvalid_1's multi_logloss: 0.915211\n",
      "----CV:4----\n",
      "Training until validation scores don't improve for 100 rounds\n",
      "[20]\ttraining's multi_logloss: 1.09999\tvalid_1's multi_logloss: 1.02759\n",
      "[40]\ttraining's multi_logloss: 1.04356\tvalid_1's multi_logloss: 0.981594\n",
      "[60]\ttraining's multi_logloss: 1.00513\tvalid_1's multi_logloss: 0.951111\n",
      "[80]\ttraining's multi_logloss: 0.976446\tvalid_1's multi_logloss: 0.929229\n",
      "[100]\ttraining's multi_logloss: 0.954458\tvalid_1's multi_logloss: 0.913894\n",
      "[120]\ttraining's multi_logloss: 0.937202\tvalid_1's multi_logloss: 0.902032\n",
      "[140]\ttraining's multi_logloss: 0.923314\tvalid_1's multi_logloss: 0.892274\n",
      "[160]\ttraining's multi_logloss: 0.911668\tvalid_1's multi_logloss: 0.884227\n",
      "[180]\ttraining's multi_logloss: 0.901873\tvalid_1's multi_logloss: 0.878186\n",
      "[200]\ttraining's multi_logloss: 0.893437\tvalid_1's multi_logloss: 0.873334\n",
      "[220]\ttraining's multi_logloss: 0.885801\tvalid_1's multi_logloss: 0.869306\n",
      "[240]\ttraining's multi_logloss: 0.878881\tvalid_1's multi_logloss: 0.865682\n",
      "[260]\ttraining's multi_logloss: 0.872663\tvalid_1's multi_logloss: 0.863123\n",
      "[280]\ttraining's multi_logloss: 0.866792\tvalid_1's multi_logloss: 0.86088\n",
      "[300]\ttraining's multi_logloss: 0.861457\tvalid_1's multi_logloss: 0.858697\n",
      "[320]\ttraining's multi_logloss: 0.856522\tvalid_1's multi_logloss: 0.856305\n",
      "[340]\ttraining's multi_logloss: 0.851686\tvalid_1's multi_logloss: 0.854544\n",
      "[360]\ttraining's multi_logloss: 0.847083\tvalid_1's multi_logloss: 0.852469\n",
      "[380]\ttraining's multi_logloss: 0.842847\tvalid_1's multi_logloss: 0.850619\n",
      "[400]\ttraining's multi_logloss: 0.838668\tvalid_1's multi_logloss: 0.848819\n",
      "[420]\ttraining's multi_logloss: 0.834969\tvalid_1's multi_logloss: 0.847591\n",
      "[440]\ttraining's multi_logloss: 0.831436\tvalid_1's multi_logloss: 0.846706\n",
      "[460]\ttraining's multi_logloss: 0.82814\tvalid_1's multi_logloss: 0.846095\n",
      "[480]\ttraining's multi_logloss: 0.824899\tvalid_1's multi_logloss: 0.845434\n",
      "[500]\ttraining's multi_logloss: 0.821823\tvalid_1's multi_logloss: 0.8448\n",
      "[520]\ttraining's multi_logloss: 0.818796\tvalid_1's multi_logloss: 0.844428\n",
      "[540]\ttraining's multi_logloss: 0.815786\tvalid_1's multi_logloss: 0.844164\n",
      "[560]\ttraining's multi_logloss: 0.812906\tvalid_1's multi_logloss: 0.844144\n",
      "[580]\ttraining's multi_logloss: 0.810079\tvalid_1's multi_logloss: 0.844094\n",
      "[600]\ttraining's multi_logloss: 0.807421\tvalid_1's multi_logloss: 0.844043\n",
      "[620]\ttraining's multi_logloss: 0.804767\tvalid_1's multi_logloss: 0.843812\n",
      "[640]\ttraining's multi_logloss: 0.802136\tvalid_1's multi_logloss: 0.843652\n",
      "[660]\ttraining's multi_logloss: 0.799619\tvalid_1's multi_logloss: 0.843541\n",
      "[680]\ttraining's multi_logloss: 0.797128\tvalid_1's multi_logloss: 0.843299\n",
      "[700]\ttraining's multi_logloss: 0.794631\tvalid_1's multi_logloss: 0.843172\n",
      "[720]\ttraining's multi_logloss: 0.792243\tvalid_1's multi_logloss: 0.84298\n",
      "[740]\ttraining's multi_logloss: 0.789881\tvalid_1's multi_logloss: 0.842779\n",
      "[760]\ttraining's multi_logloss: 0.78756\tvalid_1's multi_logloss: 0.842576\n",
      "[780]\ttraining's multi_logloss: 0.785265\tvalid_1's multi_logloss: 0.84243\n",
      "[800]\ttraining's multi_logloss: 0.782939\tvalid_1's multi_logloss: 0.84223\n",
      "[820]\ttraining's multi_logloss: 0.780569\tvalid_1's multi_logloss: 0.842059\n",
      "[840]\ttraining's multi_logloss: 0.778209\tvalid_1's multi_logloss: 0.841788\n",
      "[860]\ttraining's multi_logloss: 0.77598\tvalid_1's multi_logloss: 0.841647\n",
      "[880]\ttraining's multi_logloss: 0.773853\tvalid_1's multi_logloss: 0.841572\n",
      "[900]\ttraining's multi_logloss: 0.771708\tvalid_1's multi_logloss: 0.841501\n",
      "[920]\ttraining's multi_logloss: 0.769555\tvalid_1's multi_logloss: 0.841374\n",
      "[940]\ttraining's multi_logloss: 0.767455\tvalid_1's multi_logloss: 0.841431\n",
      "[960]\ttraining's multi_logloss: 0.765482\tvalid_1's multi_logloss: 0.841264\n",
      "[980]\ttraining's multi_logloss: 0.763494\tvalid_1's multi_logloss: 0.841182\n",
      "[1000]\ttraining's multi_logloss: 0.761467\tvalid_1's multi_logloss: 0.841152\n",
      "Did not meet early stopping. Best iteration is:\n",
      "[1000]\ttraining's multi_logloss: 0.761467\tvalid_1's multi_logloss: 0.841152\n",
      "----CV:5----\n",
      "Training until validation scores don't improve for 100 rounds\n",
      "[20]\ttraining's multi_logloss: 1.09968\tvalid_1's multi_logloss: 1.02607\n",
      "[40]\ttraining's multi_logloss: 1.04343\tvalid_1's multi_logloss: 0.981262\n",
      "[60]\ttraining's multi_logloss: 1.00475\tvalid_1's multi_logloss: 0.951047\n",
      "[80]\ttraining's multi_logloss: 0.97611\tvalid_1's multi_logloss: 0.930585\n",
      "[100]\ttraining's multi_logloss: 0.953867\tvalid_1's multi_logloss: 0.915287\n",
      "[120]\ttraining's multi_logloss: 0.936317\tvalid_1's multi_logloss: 0.903203\n",
      "[140]\ttraining's multi_logloss: 0.922258\tvalid_1's multi_logloss: 0.894366\n",
      "[160]\ttraining's multi_logloss: 0.91063\tvalid_1's multi_logloss: 0.887023\n",
      "[180]\ttraining's multi_logloss: 0.900769\tvalid_1's multi_logloss: 0.881757\n",
      "[200]\ttraining's multi_logloss: 0.89232\tvalid_1's multi_logloss: 0.877575\n",
      "[220]\ttraining's multi_logloss: 0.884787\tvalid_1's multi_logloss: 0.873734\n",
      "[240]\ttraining's multi_logloss: 0.878086\tvalid_1's multi_logloss: 0.870599\n",
      "[260]\ttraining's multi_logloss: 0.87206\tvalid_1's multi_logloss: 0.867982\n",
      "[280]\ttraining's multi_logloss: 0.866433\tvalid_1's multi_logloss: 0.865958\n",
      "[300]\ttraining's multi_logloss: 0.861184\tvalid_1's multi_logloss: 0.864051\n",
      "[320]\ttraining's multi_logloss: 0.85634\tvalid_1's multi_logloss: 0.862717\n",
      "[340]\ttraining's multi_logloss: 0.851642\tvalid_1's multi_logloss: 0.861115\n",
      "[360]\ttraining's multi_logloss: 0.847132\tvalid_1's multi_logloss: 0.859294\n",
      "[380]\ttraining's multi_logloss: 0.842829\tvalid_1's multi_logloss: 0.857641\n",
      "[400]\ttraining's multi_logloss: 0.838859\tvalid_1's multi_logloss: 0.85661\n",
      "[420]\ttraining's multi_logloss: 0.834999\tvalid_1's multi_logloss: 0.85546\n",
      "[440]\ttraining's multi_logloss: 0.831466\tvalid_1's multi_logloss: 0.8546\n",
      "[460]\ttraining's multi_logloss: 0.828122\tvalid_1's multi_logloss: 0.853873\n",
      "[480]\ttraining's multi_logloss: 0.824782\tvalid_1's multi_logloss: 0.853298\n",
      "[500]\ttraining's multi_logloss: 0.821617\tvalid_1's multi_logloss: 0.852728\n",
      "[520]\ttraining's multi_logloss: 0.81854\tvalid_1's multi_logloss: 0.852385\n",
      "[540]\ttraining's multi_logloss: 0.81545\tvalid_1's multi_logloss: 0.852203\n",
      "[560]\ttraining's multi_logloss: 0.812515\tvalid_1's multi_logloss: 0.851568\n",
      "[580]\ttraining's multi_logloss: 0.809631\tvalid_1's multi_logloss: 0.85134\n",
      "[600]\ttraining's multi_logloss: 0.806834\tvalid_1's multi_logloss: 0.8511\n",
      "[620]\ttraining's multi_logloss: 0.804103\tvalid_1's multi_logloss: 0.850903\n",
      "[640]\ttraining's multi_logloss: 0.801538\tvalid_1's multi_logloss: 0.850828\n",
      "[660]\ttraining's multi_logloss: 0.798977\tvalid_1's multi_logloss: 0.850748\n",
      "[680]\ttraining's multi_logloss: 0.796505\tvalid_1's multi_logloss: 0.850716\n",
      "[700]\ttraining's multi_logloss: 0.794065\tvalid_1's multi_logloss: 0.850604\n",
      "[720]\ttraining's multi_logloss: 0.791683\tvalid_1's multi_logloss: 0.850437\n",
      "[740]\ttraining's multi_logloss: 0.789335\tvalid_1's multi_logloss: 0.850343\n",
      "[760]\ttraining's multi_logloss: 0.787106\tvalid_1's multi_logloss: 0.850364\n",
      "[780]\ttraining's multi_logloss: 0.784738\tvalid_1's multi_logloss: 0.85008\n",
      "[800]\ttraining's multi_logloss: 0.78251\tvalid_1's multi_logloss: 0.849945\n",
      "[820]\ttraining's multi_logloss: 0.780352\tvalid_1's multi_logloss: 0.849909\n",
      "[840]\ttraining's multi_logloss: 0.778173\tvalid_1's multi_logloss: 0.849852\n",
      "[860]\ttraining's multi_logloss: 0.776093\tvalid_1's multi_logloss: 0.849853\n",
      "[880]\ttraining's multi_logloss: 0.773949\tvalid_1's multi_logloss: 0.849733\n",
      "[900]\ttraining's multi_logloss: 0.771838\tvalid_1's multi_logloss: 0.849712\n",
      "[920]\ttraining's multi_logloss: 0.769785\tvalid_1's multi_logloss: 0.849641\n",
      "[940]\ttraining's multi_logloss: 0.767732\tvalid_1's multi_logloss: 0.849638\n",
      "[960]\ttraining's multi_logloss: 0.765731\tvalid_1's multi_logloss: 0.849519\n",
      "[980]\ttraining's multi_logloss: 0.763754\tvalid_1's multi_logloss: 0.849436\n",
      "[1000]\ttraining's multi_logloss: 0.761741\tvalid_1's multi_logloss: 0.8493\n",
      "Did not meet early stopping. Best iteration is:\n",
      "[1000]\ttraining's multi_logloss: 0.761741\tvalid_1's multi_logloss: 0.8493\n",
      "----CV:6----\n",
      "Training until validation scores don't improve for 100 rounds\n",
      "[20]\ttraining's multi_logloss: 1.10175\tvalid_1's multi_logloss: 1.00778\n",
      "[40]\ttraining's multi_logloss: 1.04609\tvalid_1's multi_logloss: 0.959162\n",
      "[60]\ttraining's multi_logloss: 1.00775\tvalid_1's multi_logloss: 0.925326\n",
      "[80]\ttraining's multi_logloss: 0.979134\tvalid_1's multi_logloss: 0.900213\n",
      "[100]\ttraining's multi_logloss: 0.957074\tvalid_1's multi_logloss: 0.880691\n",
      "[120]\ttraining's multi_logloss: 0.939737\tvalid_1's multi_logloss: 0.865975\n",
      "[140]\ttraining's multi_logloss: 0.92582\tvalid_1's multi_logloss: 0.854961\n",
      "[160]\ttraining's multi_logloss: 0.914192\tvalid_1's multi_logloss: 0.846156\n",
      "[180]\ttraining's multi_logloss: 0.904484\tvalid_1's multi_logloss: 0.839282\n",
      "[200]\ttraining's multi_logloss: 0.89609\tvalid_1's multi_logloss: 0.83382\n",
      "[220]\ttraining's multi_logloss: 0.888712\tvalid_1's multi_logloss: 0.829247\n",
      "[240]\ttraining's multi_logloss: 0.882116\tvalid_1's multi_logloss: 0.824683\n",
      "[260]\ttraining's multi_logloss: 0.875946\tvalid_1's multi_logloss: 0.820799\n",
      "[280]\ttraining's multi_logloss: 0.870291\tvalid_1's multi_logloss: 0.817593\n",
      "[300]\ttraining's multi_logloss: 0.865201\tvalid_1's multi_logloss: 0.815068\n",
      "[320]\ttraining's multi_logloss: 0.860387\tvalid_1's multi_logloss: 0.812969\n",
      "[340]\ttraining's multi_logloss: 0.855753\tvalid_1's multi_logloss: 0.811089\n",
      "[360]\ttraining's multi_logloss: 0.851317\tvalid_1's multi_logloss: 0.809678\n",
      "[380]\ttraining's multi_logloss: 0.846994\tvalid_1's multi_logloss: 0.807929\n",
      "[400]\ttraining's multi_logloss: 0.843015\tvalid_1's multi_logloss: 0.806633\n",
      "[420]\ttraining's multi_logloss: 0.839095\tvalid_1's multi_logloss: 0.805027\n",
      "[440]\ttraining's multi_logloss: 0.835424\tvalid_1's multi_logloss: 0.803934\n",
      "[460]\ttraining's multi_logloss: 0.83199\tvalid_1's multi_logloss: 0.803268\n",
      "[480]\ttraining's multi_logloss: 0.828786\tvalid_1's multi_logloss: 0.802654\n",
      "[500]\ttraining's multi_logloss: 0.825636\tvalid_1's multi_logloss: 0.802087\n",
      "[520]\ttraining's multi_logloss: 0.822439\tvalid_1's multi_logloss: 0.801439\n",
      "[540]\ttraining's multi_logloss: 0.819393\tvalid_1's multi_logloss: 0.800652\n",
      "[560]\ttraining's multi_logloss: 0.816377\tvalid_1's multi_logloss: 0.800015\n",
      "[580]\ttraining's multi_logloss: 0.813392\tvalid_1's multi_logloss: 0.799485\n",
      "[600]\ttraining's multi_logloss: 0.810543\tvalid_1's multi_logloss: 0.798804\n",
      "[620]\ttraining's multi_logloss: 0.807789\tvalid_1's multi_logloss: 0.798332\n",
      "[640]\ttraining's multi_logloss: 0.805123\tvalid_1's multi_logloss: 0.797658\n",
      "[660]\ttraining's multi_logloss: 0.80252\tvalid_1's multi_logloss: 0.797111\n",
      "[680]\ttraining's multi_logloss: 0.800037\tvalid_1's multi_logloss: 0.796781\n",
      "[700]\ttraining's multi_logloss: 0.797666\tvalid_1's multi_logloss: 0.79661\n",
      "[720]\ttraining's multi_logloss: 0.795253\tvalid_1's multi_logloss: 0.796383\n",
      "[740]\ttraining's multi_logloss: 0.792924\tvalid_1's multi_logloss: 0.796246\n",
      "[760]\ttraining's multi_logloss: 0.79052\tvalid_1's multi_logloss: 0.795871\n",
      "[780]\ttraining's multi_logloss: 0.788154\tvalid_1's multi_logloss: 0.795653\n",
      "[800]\ttraining's multi_logloss: 0.785914\tvalid_1's multi_logloss: 0.795424\n",
      "[820]\ttraining's multi_logloss: 0.783663\tvalid_1's multi_logloss: 0.79504\n",
      "[840]\ttraining's multi_logloss: 0.781462\tvalid_1's multi_logloss: 0.794738\n",
      "[860]\ttraining's multi_logloss: 0.779285\tvalid_1's multi_logloss: 0.794567\n",
      "[880]\ttraining's multi_logloss: 0.777204\tvalid_1's multi_logloss: 0.794413\n",
      "[900]\ttraining's multi_logloss: 0.775082\tvalid_1's multi_logloss: 0.794234\n",
      "[920]\ttraining's multi_logloss: 0.772946\tvalid_1's multi_logloss: 0.794054\n",
      "[940]\ttraining's multi_logloss: 0.770773\tvalid_1's multi_logloss: 0.793854\n",
      "[960]\ttraining's multi_logloss: 0.768651\tvalid_1's multi_logloss: 0.793548\n",
      "[980]\ttraining's multi_logloss: 0.766598\tvalid_1's multi_logloss: 0.793177\n",
      "[1000]\ttraining's multi_logloss: 0.764602\tvalid_1's multi_logloss: 0.792997\n",
      "Did not meet early stopping. Best iteration is:\n",
      "[1000]\ttraining's multi_logloss: 0.764602\tvalid_1's multi_logloss: 0.792997\n",
      "----CV:7----\n",
      "Training until validation scores don't improve for 100 rounds\n",
      "[20]\ttraining's multi_logloss: 1.09594\tvalid_1's multi_logloss: 1.06968\n",
      "[40]\ttraining's multi_logloss: 1.04003\tvalid_1's multi_logloss: 1.0181\n",
      "[60]\ttraining's multi_logloss: 1.00216\tvalid_1's multi_logloss: 0.984115\n",
      "[80]\ttraining's multi_logloss: 0.97425\tvalid_1's multi_logloss: 0.959564\n",
      "[100]\ttraining's multi_logloss: 0.952413\tvalid_1's multi_logloss: 0.941493\n",
      "[120]\ttraining's multi_logloss: 0.935159\tvalid_1's multi_logloss: 0.927989\n",
      "[140]\ttraining's multi_logloss: 0.920932\tvalid_1's multi_logloss: 0.917055\n",
      "[160]\ttraining's multi_logloss: 0.909377\tvalid_1's multi_logloss: 0.90842\n",
      "[180]\ttraining's multi_logloss: 0.899602\tvalid_1's multi_logloss: 0.901403\n",
      "[200]\ttraining's multi_logloss: 0.891183\tvalid_1's multi_logloss: 0.89575\n",
      "[220]\ttraining's multi_logloss: 0.883927\tvalid_1's multi_logloss: 0.891146\n",
      "[240]\ttraining's multi_logloss: 0.877115\tvalid_1's multi_logloss: 0.887188\n",
      "[260]\ttraining's multi_logloss: 0.871009\tvalid_1's multi_logloss: 0.883413\n",
      "[280]\ttraining's multi_logloss: 0.865328\tvalid_1's multi_logloss: 0.880025\n",
      "[300]\ttraining's multi_logloss: 0.859977\tvalid_1's multi_logloss: 0.877187\n",
      "[320]\ttraining's multi_logloss: 0.855058\tvalid_1's multi_logloss: 0.874925\n",
      "[340]\ttraining's multi_logloss: 0.850549\tvalid_1's multi_logloss: 0.872854\n",
      "[360]\ttraining's multi_logloss: 0.846202\tvalid_1's multi_logloss: 0.871088\n",
      "[380]\ttraining's multi_logloss: 0.841943\tvalid_1's multi_logloss: 0.869386\n",
      "[400]\ttraining's multi_logloss: 0.837939\tvalid_1's multi_logloss: 0.867712\n",
      "[420]\ttraining's multi_logloss: 0.834143\tvalid_1's multi_logloss: 0.86632\n",
      "[440]\ttraining's multi_logloss: 0.830529\tvalid_1's multi_logloss: 0.864793\n",
      "[460]\ttraining's multi_logloss: 0.827047\tvalid_1's multi_logloss: 0.863503\n",
      "[480]\ttraining's multi_logloss: 0.823819\tvalid_1's multi_logloss: 0.862262\n",
      "[500]\ttraining's multi_logloss: 0.82073\tvalid_1's multi_logloss: 0.861347\n",
      "[520]\ttraining's multi_logloss: 0.817681\tvalid_1's multi_logloss: 0.860772\n",
      "[540]\ttraining's multi_logloss: 0.814712\tvalid_1's multi_logloss: 0.860052\n",
      "[560]\ttraining's multi_logloss: 0.811724\tvalid_1's multi_logloss: 0.859597\n",
      "[580]\ttraining's multi_logloss: 0.808883\tvalid_1's multi_logloss: 0.858715\n",
      "[600]\ttraining's multi_logloss: 0.80617\tvalid_1's multi_logloss: 0.858056\n",
      "[620]\ttraining's multi_logloss: 0.803532\tvalid_1's multi_logloss: 0.857444\n",
      "[640]\ttraining's multi_logloss: 0.80097\tvalid_1's multi_logloss: 0.856912\n",
      "[660]\ttraining's multi_logloss: 0.798526\tvalid_1's multi_logloss: 0.856574\n",
      "[680]\ttraining's multi_logloss: 0.796021\tvalid_1's multi_logloss: 0.856233\n",
      "[700]\ttraining's multi_logloss: 0.793592\tvalid_1's multi_logloss: 0.855995\n",
      "[720]\ttraining's multi_logloss: 0.791158\tvalid_1's multi_logloss: 0.855766\n",
      "[740]\ttraining's multi_logloss: 0.78878\tvalid_1's multi_logloss: 0.855504\n",
      "[760]\ttraining's multi_logloss: 0.786403\tvalid_1's multi_logloss: 0.855249\n",
      "[780]\ttraining's multi_logloss: 0.784161\tvalid_1's multi_logloss: 0.855083\n",
      "[800]\ttraining's multi_logloss: 0.782003\tvalid_1's multi_logloss: 0.855104\n",
      "[820]\ttraining's multi_logloss: 0.779774\tvalid_1's multi_logloss: 0.854972\n",
      "[840]\ttraining's multi_logloss: 0.777618\tvalid_1's multi_logloss: 0.854833\n",
      "[860]\ttraining's multi_logloss: 0.775384\tvalid_1's multi_logloss: 0.854662\n",
      "[880]\ttraining's multi_logloss: 0.773146\tvalid_1's multi_logloss: 0.854646\n",
      "[900]\ttraining's multi_logloss: 0.770981\tvalid_1's multi_logloss: 0.854461\n",
      "[920]\ttraining's multi_logloss: 0.768806\tvalid_1's multi_logloss: 0.8543\n",
      "[940]\ttraining's multi_logloss: 0.76663\tvalid_1's multi_logloss: 0.853963\n",
      "[960]\ttraining's multi_logloss: 0.76454\tvalid_1's multi_logloss: 0.853657\n",
      "[980]\ttraining's multi_logloss: 0.762455\tvalid_1's multi_logloss: 0.853577\n",
      "[1000]\ttraining's multi_logloss: 0.760398\tvalid_1's multi_logloss: 0.853523\n",
      "Did not meet early stopping. Best iteration is:\n",
      "[1000]\ttraining's multi_logloss: 0.760398\tvalid_1's multi_logloss: 0.853523\n",
      "----CV:8----\n",
      "Training until validation scores don't improve for 100 rounds\n",
      "[20]\ttraining's multi_logloss: 1.09841\tvalid_1's multi_logloss: 1.04407\n",
      "[40]\ttraining's multi_logloss: 1.04295\tvalid_1's multi_logloss: 0.990709\n",
      "[60]\ttraining's multi_logloss: 1.00487\tvalid_1's multi_logloss: 0.955806\n",
      "[80]\ttraining's multi_logloss: 0.976534\tvalid_1's multi_logloss: 0.931328\n",
      "[100]\ttraining's multi_logloss: 0.954802\tvalid_1's multi_logloss: 0.912338\n",
      "[120]\ttraining's multi_logloss: 0.937769\tvalid_1's multi_logloss: 0.898528\n",
      "[140]\ttraining's multi_logloss: 0.923852\tvalid_1's multi_logloss: 0.887474\n",
      "[160]\ttraining's multi_logloss: 0.912209\tvalid_1's multi_logloss: 0.878193\n",
      "[180]\ttraining's multi_logloss: 0.902502\tvalid_1's multi_logloss: 0.871167\n",
      "[200]\ttraining's multi_logloss: 0.894151\tvalid_1's multi_logloss: 0.865384\n",
      "[220]\ttraining's multi_logloss: 0.886896\tvalid_1's multi_logloss: 0.860373\n",
      "[240]\ttraining's multi_logloss: 0.880014\tvalid_1's multi_logloss: 0.856214\n",
      "[260]\ttraining's multi_logloss: 0.873701\tvalid_1's multi_logloss: 0.852526\n",
      "[280]\ttraining's multi_logloss: 0.868174\tvalid_1's multi_logloss: 0.849399\n",
      "[300]\ttraining's multi_logloss: 0.863079\tvalid_1's multi_logloss: 0.846705\n",
      "[320]\ttraining's multi_logloss: 0.858223\tvalid_1's multi_logloss: 0.843883\n",
      "[340]\ttraining's multi_logloss: 0.853517\tvalid_1's multi_logloss: 0.84176\n",
      "[360]\ttraining's multi_logloss: 0.849049\tvalid_1's multi_logloss: 0.839844\n",
      "[380]\ttraining's multi_logloss: 0.844632\tvalid_1's multi_logloss: 0.838041\n",
      "[400]\ttraining's multi_logloss: 0.840559\tvalid_1's multi_logloss: 0.83666\n",
      "[420]\ttraining's multi_logloss: 0.836668\tvalid_1's multi_logloss: 0.835578\n",
      "[440]\ttraining's multi_logloss: 0.833151\tvalid_1's multi_logloss: 0.834591\n",
      "[460]\ttraining's multi_logloss: 0.829863\tvalid_1's multi_logloss: 0.833712\n",
      "[480]\ttraining's multi_logloss: 0.826737\tvalid_1's multi_logloss: 0.833117\n",
      "[500]\ttraining's multi_logloss: 0.823585\tvalid_1's multi_logloss: 0.832397\n",
      "[520]\ttraining's multi_logloss: 0.820639\tvalid_1's multi_logloss: 0.831685\n",
      "[540]\ttraining's multi_logloss: 0.817609\tvalid_1's multi_logloss: 0.830878\n",
      "[560]\ttraining's multi_logloss: 0.814808\tvalid_1's multi_logloss: 0.830194\n",
      "[580]\ttraining's multi_logloss: 0.812051\tvalid_1's multi_logloss: 0.829609\n",
      "[600]\ttraining's multi_logloss: 0.809277\tvalid_1's multi_logloss: 0.828748\n",
      "[620]\ttraining's multi_logloss: 0.806599\tvalid_1's multi_logloss: 0.828028\n",
      "[640]\ttraining's multi_logloss: 0.803954\tvalid_1's multi_logloss: 0.827398\n",
      "[660]\ttraining's multi_logloss: 0.801414\tvalid_1's multi_logloss: 0.826948\n",
      "[680]\ttraining's multi_logloss: 0.798896\tvalid_1's multi_logloss: 0.826416\n",
      "[700]\ttraining's multi_logloss: 0.79647\tvalid_1's multi_logloss: 0.825941\n",
      "[720]\ttraining's multi_logloss: 0.794127\tvalid_1's multi_logloss: 0.82549\n",
      "[740]\ttraining's multi_logloss: 0.791854\tvalid_1's multi_logloss: 0.82518\n",
      "[760]\ttraining's multi_logloss: 0.789617\tvalid_1's multi_logloss: 0.824755\n",
      "[780]\ttraining's multi_logloss: 0.787374\tvalid_1's multi_logloss: 0.824358\n",
      "[800]\ttraining's multi_logloss: 0.785221\tvalid_1's multi_logloss: 0.824168\n",
      "[820]\ttraining's multi_logloss: 0.783079\tvalid_1's multi_logloss: 0.823673\n",
      "[840]\ttraining's multi_logloss: 0.780958\tvalid_1's multi_logloss: 0.823404\n",
      "[860]\ttraining's multi_logloss: 0.778837\tvalid_1's multi_logloss: 0.823182\n",
      "[880]\ttraining's multi_logloss: 0.776733\tvalid_1's multi_logloss: 0.822789\n",
      "[900]\ttraining's multi_logloss: 0.774592\tvalid_1's multi_logloss: 0.822394\n",
      "[920]\ttraining's multi_logloss: 0.77253\tvalid_1's multi_logloss: 0.822229\n",
      "[940]\ttraining's multi_logloss: 0.77054\tvalid_1's multi_logloss: 0.821989\n",
      "[960]\ttraining's multi_logloss: 0.768463\tvalid_1's multi_logloss: 0.821394\n",
      "[980]\ttraining's multi_logloss: 0.766489\tvalid_1's multi_logloss: 0.821193\n",
      "[1000]\ttraining's multi_logloss: 0.764503\tvalid_1's multi_logloss: 0.821034\n",
      "Did not meet early stopping. Best iteration is:\n",
      "[1000]\ttraining's multi_logloss: 0.764503\tvalid_1's multi_logloss: 0.821034\n",
      "----CV:9----\n",
      "Training until validation scores don't improve for 100 rounds\n",
      "[20]\ttraining's multi_logloss: 1.09781\tvalid_1's multi_logloss: 1.05036\n",
      "[40]\ttraining's multi_logloss: 1.04229\tvalid_1's multi_logloss: 1.00004\n",
      "[60]\ttraining's multi_logloss: 1.00421\tvalid_1's multi_logloss: 0.965993\n",
      "[80]\ttraining's multi_logloss: 0.975593\tvalid_1's multi_logloss: 0.941399\n",
      "[100]\ttraining's multi_logloss: 0.953571\tvalid_1's multi_logloss: 0.922365\n",
      "[120]\ttraining's multi_logloss: 0.93629\tvalid_1's multi_logloss: 0.908719\n",
      "[140]\ttraining's multi_logloss: 0.92248\tvalid_1's multi_logloss: 0.898538\n",
      "[160]\ttraining's multi_logloss: 0.911074\tvalid_1's multi_logloss: 0.890635\n",
      "[180]\ttraining's multi_logloss: 0.901327\tvalid_1's multi_logloss: 0.884014\n",
      "[200]\ttraining's multi_logloss: 0.892802\tvalid_1's multi_logloss: 0.878586\n",
      "[220]\ttraining's multi_logloss: 0.885385\tvalid_1's multi_logloss: 0.874\n",
      "[240]\ttraining's multi_logloss: 0.878692\tvalid_1's multi_logloss: 0.86936\n",
      "[260]\ttraining's multi_logloss: 0.872427\tvalid_1's multi_logloss: 0.865536\n",
      "[280]\ttraining's multi_logloss: 0.866631\tvalid_1's multi_logloss: 0.862186\n",
      "[300]\ttraining's multi_logloss: 0.861354\tvalid_1's multi_logloss: 0.859133\n",
      "[320]\ttraining's multi_logloss: 0.856249\tvalid_1's multi_logloss: 0.856154\n",
      "[340]\ttraining's multi_logloss: 0.851552\tvalid_1's multi_logloss: 0.853548\n",
      "[360]\ttraining's multi_logloss: 0.847121\tvalid_1's multi_logloss: 0.851478\n",
      "[380]\ttraining's multi_logloss: 0.843023\tvalid_1's multi_logloss: 0.849848\n",
      "[400]\ttraining's multi_logloss: 0.839209\tvalid_1's multi_logloss: 0.848849\n",
      "[420]\ttraining's multi_logloss: 0.835489\tvalid_1's multi_logloss: 0.847307\n",
      "[440]\ttraining's multi_logloss: 0.831958\tvalid_1's multi_logloss: 0.846269\n",
      "[460]\ttraining's multi_logloss: 0.828298\tvalid_1's multi_logloss: 0.844866\n",
      "[480]\ttraining's multi_logloss: 0.82492\tvalid_1's multi_logloss: 0.843725\n",
      "[500]\ttraining's multi_logloss: 0.821746\tvalid_1's multi_logloss: 0.842943\n",
      "[520]\ttraining's multi_logloss: 0.81869\tvalid_1's multi_logloss: 0.842366\n",
      "[540]\ttraining's multi_logloss: 0.815743\tvalid_1's multi_logloss: 0.84169\n",
      "[560]\ttraining's multi_logloss: 0.812848\tvalid_1's multi_logloss: 0.841088\n",
      "[580]\ttraining's multi_logloss: 0.810035\tvalid_1's multi_logloss: 0.840146\n",
      "[600]\ttraining's multi_logloss: 0.807291\tvalid_1's multi_logloss: 0.839301\n",
      "[620]\ttraining's multi_logloss: 0.80464\tvalid_1's multi_logloss: 0.838566\n",
      "[640]\ttraining's multi_logloss: 0.802158\tvalid_1's multi_logloss: 0.837917\n",
      "[660]\ttraining's multi_logloss: 0.799651\tvalid_1's multi_logloss: 0.837432\n",
      "[680]\ttraining's multi_logloss: 0.797226\tvalid_1's multi_logloss: 0.836872\n",
      "[700]\ttraining's multi_logloss: 0.794888\tvalid_1's multi_logloss: 0.836547\n",
      "[720]\ttraining's multi_logloss: 0.792564\tvalid_1's multi_logloss: 0.836254\n",
      "[740]\ttraining's multi_logloss: 0.790257\tvalid_1's multi_logloss: 0.835923\n",
      "[760]\ttraining's multi_logloss: 0.787933\tvalid_1's multi_logloss: 0.835524\n",
      "[780]\ttraining's multi_logloss: 0.785673\tvalid_1's multi_logloss: 0.835247\n",
      "[800]\ttraining's multi_logloss: 0.783498\tvalid_1's multi_logloss: 0.834991\n",
      "[820]\ttraining's multi_logloss: 0.78127\tvalid_1's multi_logloss: 0.83459\n",
      "[840]\ttraining's multi_logloss: 0.779042\tvalid_1's multi_logloss: 0.834266\n",
      "[860]\ttraining's multi_logloss: 0.776901\tvalid_1's multi_logloss: 0.833991\n",
      "[880]\ttraining's multi_logloss: 0.774732\tvalid_1's multi_logloss: 0.833715\n",
      "[900]\ttraining's multi_logloss: 0.772691\tvalid_1's multi_logloss: 0.833511\n",
      "[920]\ttraining's multi_logloss: 0.770742\tvalid_1's multi_logloss: 0.833341\n",
      "[940]\ttraining's multi_logloss: 0.768623\tvalid_1's multi_logloss: 0.833064\n",
      "[960]\ttraining's multi_logloss: 0.766662\tvalid_1's multi_logloss: 0.833014\n",
      "[980]\ttraining's multi_logloss: 0.764626\tvalid_1's multi_logloss: 0.833004\n",
      "[1000]\ttraining's multi_logloss: 0.76265\tvalid_1's multi_logloss: 0.832983\n",
      "Did not meet early stopping. Best iteration is:\n",
      "[1000]\ttraining's multi_logloss: 0.76265\tvalid_1's multi_logloss: 0.832983\n",
      "----CV:10----\n",
      "Training until validation scores don't improve for 100 rounds\n",
      "[20]\ttraining's multi_logloss: 1.09695\tvalid_1's multi_logloss: 1.05294\n",
      "[40]\ttraining's multi_logloss: 1.04048\tvalid_1's multi_logloss: 1.00705\n",
      "[60]\ttraining's multi_logloss: 1.0022\tvalid_1's multi_logloss: 0.977534\n",
      "[80]\ttraining's multi_logloss: 0.973599\tvalid_1's multi_logloss: 0.956617\n",
      "[100]\ttraining's multi_logloss: 0.951744\tvalid_1's multi_logloss: 0.941698\n",
      "[120]\ttraining's multi_logloss: 0.934555\tvalid_1's multi_logloss: 0.929829\n",
      "[140]\ttraining's multi_logloss: 0.920339\tvalid_1's multi_logloss: 0.92066\n",
      "[160]\ttraining's multi_logloss: 0.908554\tvalid_1's multi_logloss: 0.913172\n",
      "[180]\ttraining's multi_logloss: 0.898642\tvalid_1's multi_logloss: 0.90816\n",
      "[200]\ttraining's multi_logloss: 0.890052\tvalid_1's multi_logloss: 0.904033\n",
      "[220]\ttraining's multi_logloss: 0.882758\tvalid_1's multi_logloss: 0.900144\n",
      "[240]\ttraining's multi_logloss: 0.876186\tvalid_1's multi_logloss: 0.897242\n",
      "[260]\ttraining's multi_logloss: 0.870194\tvalid_1's multi_logloss: 0.894606\n",
      "[280]\ttraining's multi_logloss: 0.864636\tvalid_1's multi_logloss: 0.891966\n",
      "[300]\ttraining's multi_logloss: 0.859552\tvalid_1's multi_logloss: 0.889852\n",
      "[320]\ttraining's multi_logloss: 0.8548\tvalid_1's multi_logloss: 0.88796\n",
      "[340]\ttraining's multi_logloss: 0.85017\tvalid_1's multi_logloss: 0.886109\n",
      "[360]\ttraining's multi_logloss: 0.84569\tvalid_1's multi_logloss: 0.884646\n",
      "[380]\ttraining's multi_logloss: 0.841355\tvalid_1's multi_logloss: 0.882929\n",
      "[400]\ttraining's multi_logloss: 0.83726\tvalid_1's multi_logloss: 0.881493\n",
      "[420]\ttraining's multi_logloss: 0.833484\tvalid_1's multi_logloss: 0.880067\n",
      "[440]\ttraining's multi_logloss: 0.82992\tvalid_1's multi_logloss: 0.878956\n",
      "[460]\ttraining's multi_logloss: 0.826421\tvalid_1's multi_logloss: 0.878171\n",
      "[480]\ttraining's multi_logloss: 0.823022\tvalid_1's multi_logloss: 0.87717\n",
      "[500]\ttraining's multi_logloss: 0.819851\tvalid_1's multi_logloss: 0.87635\n",
      "[520]\ttraining's multi_logloss: 0.816809\tvalid_1's multi_logloss: 0.875814\n",
      "[540]\ttraining's multi_logloss: 0.813726\tvalid_1's multi_logloss: 0.875104\n",
      "[560]\ttraining's multi_logloss: 0.810869\tvalid_1's multi_logloss: 0.874505\n",
      "[580]\ttraining's multi_logloss: 0.808061\tvalid_1's multi_logloss: 0.87391\n",
      "[600]\ttraining's multi_logloss: 0.805387\tvalid_1's multi_logloss: 0.873599\n",
      "[620]\ttraining's multi_logloss: 0.802646\tvalid_1's multi_logloss: 0.873284\n",
      "[640]\ttraining's multi_logloss: 0.80002\tvalid_1's multi_logloss: 0.872915\n",
      "[660]\ttraining's multi_logloss: 0.797554\tvalid_1's multi_logloss: 0.872403\n",
      "[680]\ttraining's multi_logloss: 0.795145\tvalid_1's multi_logloss: 0.871965\n",
      "[700]\ttraining's multi_logloss: 0.792812\tvalid_1's multi_logloss: 0.871546\n",
      "[720]\ttraining's multi_logloss: 0.790427\tvalid_1's multi_logloss: 0.871337\n",
      "[740]\ttraining's multi_logloss: 0.788059\tvalid_1's multi_logloss: 0.871095\n",
      "[760]\ttraining's multi_logloss: 0.785686\tvalid_1's multi_logloss: 0.870934\n",
      "[780]\ttraining's multi_logloss: 0.783424\tvalid_1's multi_logloss: 0.870736\n",
      "[800]\ttraining's multi_logloss: 0.781223\tvalid_1's multi_logloss: 0.870624\n",
      "[820]\ttraining's multi_logloss: 0.779086\tvalid_1's multi_logloss: 0.870813\n",
      "[840]\ttraining's multi_logloss: 0.776972\tvalid_1's multi_logloss: 0.870853\n",
      "[860]\ttraining's multi_logloss: 0.774745\tvalid_1's multi_logloss: 0.870744\n",
      "[880]\ttraining's multi_logloss: 0.772519\tvalid_1's multi_logloss: 0.870788\n",
      "[900]\ttraining's multi_logloss: 0.770455\tvalid_1's multi_logloss: 0.870766\n",
      "Early stopping, best iteration is:\n",
      "[801]\ttraining's multi_logloss: 0.781121\tvalid_1's multi_logloss: 0.870599\n"
     ]
    }
   ],
   "source": [
    "models = []\n",
    "df_pred = pd.DataFrame(index=X.index, columns=sub_columns)\n",
    "# kf = StratifiedKFold(n_splits=5)\n",
    "kf = KFold(n_splits=10)\n",
    "for idx, (train_idx, valid_idx) in enumerate(kf.split(X_latest, y_latest), 1):\n",
    "    print(f'----CV:{idx}----')\n",
    "    \n",
    "    train_idx += len(X_old)\n",
    "    valid_idx += len(X_old)\n",
    "    X_train, y_train = pd.concat([X_old, X.loc[train_idx]]), pd.concat([y_old, y.loc[train_idx]])\n",
    "    X_valid, y_valid = X.loc[valid_idx], y.loc[valid_idx]\n",
    "    \n",
    "    model, va_pred = fit(X_train, y_train, X_valid, y_valid)\n",
    "    models.append(model)\n",
    "    \n",
    "    df_pred.loc[valid_idx] = va_pred"
   ]
  },
  {
   "cell_type": "code",
   "execution_count": 64,
   "id": "45007b02",
   "metadata": {},
   "outputs": [
    {
     "data": {
      "text/plain": [
       "0.8680017435137879"
      ]
     },
     "execution_count": 64,
     "metadata": {},
     "output_type": "execute_result"
    }
   ],
   "source": [
    "scoreing(y_latest, df_pred.loc[mask_latest])"
   ]
  },
  {
   "cell_type": "code",
   "execution_count": 51,
   "id": "35c28abe",
   "metadata": {},
   "outputs": [
    {
     "data": {
      "text/plain": [
       "0.8680017435137879"
      ]
     },
     "execution_count": 51,
     "metadata": {},
     "output_type": "execute_result"
    }
   ],
   "source": [
    "scoreing(y_latest, df_pred.loc[mask_latest])"
   ]
  },
  {
   "cell_type": "code",
   "execution_count": 65,
   "id": "daa8b83b",
   "metadata": {},
   "outputs": [],
   "source": [
    "def predict(models, x):\n",
    "    result = pd.DataFrame(0, index=x.index, columns=sub_columns)\n",
    "    for model in models:\n",
    "        pred_prob = model.predict(x, num_iteration=model.best_iteration)\n",
    "        df_pred = pd.DataFrame(pred_prob, index=x.index, columns=sub_columns)\n",
    "        result += df_pred\n",
    "    result = result/5\n",
    "    return result"
   ]
  },
  {
   "cell_type": "code",
   "execution_count": 66,
   "id": "43c60c39",
   "metadata": {},
   "outputs": [],
   "source": [
    "result = predict(models, test)"
   ]
  },
  {
   "cell_type": "code",
   "execution_count": 67,
   "id": "ecd21260",
   "metadata": {},
   "outputs": [],
   "source": [
    "sub_df.iloc[:, 1:] = result\n",
    "# sub_dfTARGET"
   ]
  },
  {
   "cell_type": "code",
   "execution_count": 68,
   "id": "8f58ce35",
   "metadata": {},
   "outputs": [
    {
     "data": {
      "text/html": [
       "<div>\n",
       "<style scoped>\n",
       "    .dataframe tbody tr th:only-of-type {\n",
       "        vertical-align: middle;\n",
       "    }\n",
       "\n",
       "    .dataframe tbody tr th {\n",
       "        vertical-align: top;\n",
       "    }\n",
       "\n",
       "    .dataframe thead th {\n",
       "        text-align: right;\n",
       "    }\n",
       "</style>\n",
       "<table border=\"1\" class=\"dataframe\">\n",
       "  <thead>\n",
       "    <tr style=\"text-align: right;\">\n",
       "      <th></th>\n",
       "      <th>ncode</th>\n",
       "      <th>proba_0</th>\n",
       "      <th>proba_1</th>\n",
       "      <th>proba_2</th>\n",
       "      <th>proba_3</th>\n",
       "      <th>proba_4</th>\n",
       "    </tr>\n",
       "  </thead>\n",
       "  <tbody>\n",
       "    <tr>\n",
       "      <th>0</th>\n",
       "      <td>N4541HD</td>\n",
       "      <td>0.814264</td>\n",
       "      <td>0.971153</td>\n",
       "      <td>0.202596</td>\n",
       "      <td>0.011561</td>\n",
       "      <td>0.000426</td>\n",
       "    </tr>\n",
       "    <tr>\n",
       "      <th>1</th>\n",
       "      <td>N4397HD</td>\n",
       "      <td>0.068448</td>\n",
       "      <td>0.333140</td>\n",
       "      <td>0.909721</td>\n",
       "      <td>0.518910</td>\n",
       "      <td>0.169781</td>\n",
       "    </tr>\n",
       "    <tr>\n",
       "      <th>2</th>\n",
       "      <td>N4544HD</td>\n",
       "      <td>1.684342</td>\n",
       "      <td>0.312069</td>\n",
       "      <td>0.003019</td>\n",
       "      <td>0.000475</td>\n",
       "      <td>0.000095</td>\n",
       "    </tr>\n",
       "    <tr>\n",
       "      <th>3</th>\n",
       "      <td>N4545HD</td>\n",
       "      <td>0.641305</td>\n",
       "      <td>0.800229</td>\n",
       "      <td>0.185510</td>\n",
       "      <td>0.358852</td>\n",
       "      <td>0.014104</td>\n",
       "    </tr>\n",
       "    <tr>\n",
       "      <th>4</th>\n",
       "      <td>N4546HD</td>\n",
       "      <td>1.149585</td>\n",
       "      <td>0.751265</td>\n",
       "      <td>0.087426</td>\n",
       "      <td>0.011399</td>\n",
       "      <td>0.000325</td>\n",
       "    </tr>\n",
       "    <tr>\n",
       "      <th>...</th>\n",
       "      <td>...</td>\n",
       "      <td>...</td>\n",
       "      <td>...</td>\n",
       "      <td>...</td>\n",
       "      <td>...</td>\n",
       "      <td>...</td>\n",
       "    </tr>\n",
       "    <tr>\n",
       "      <th>8517</th>\n",
       "      <td>N5983HF</td>\n",
       "      <td>1.426159</td>\n",
       "      <td>0.563808</td>\n",
       "      <td>0.008537</td>\n",
       "      <td>0.001414</td>\n",
       "      <td>0.000082</td>\n",
       "    </tr>\n",
       "    <tr>\n",
       "      <th>8518</th>\n",
       "      <td>N5990HF</td>\n",
       "      <td>1.287047</td>\n",
       "      <td>0.700148</td>\n",
       "      <td>0.009147</td>\n",
       "      <td>0.003434</td>\n",
       "      <td>0.000224</td>\n",
       "    </tr>\n",
       "    <tr>\n",
       "      <th>8519</th>\n",
       "      <td>N5993HF</td>\n",
       "      <td>1.477032</td>\n",
       "      <td>0.466525</td>\n",
       "      <td>0.050471</td>\n",
       "      <td>0.005362</td>\n",
       "      <td>0.000611</td>\n",
       "    </tr>\n",
       "    <tr>\n",
       "      <th>8520</th>\n",
       "      <td>N5996HF</td>\n",
       "      <td>1.782906</td>\n",
       "      <td>0.211549</td>\n",
       "      <td>0.005110</td>\n",
       "      <td>0.000310</td>\n",
       "      <td>0.000125</td>\n",
       "    </tr>\n",
       "    <tr>\n",
       "      <th>8521</th>\n",
       "      <td>N5997HF</td>\n",
       "      <td>1.259243</td>\n",
       "      <td>0.726310</td>\n",
       "      <td>0.012721</td>\n",
       "      <td>0.001591</td>\n",
       "      <td>0.000135</td>\n",
       "    </tr>\n",
       "  </tbody>\n",
       "</table>\n",
       "<p>8522 rows × 6 columns</p>\n",
       "</div>"
      ],
      "text/plain": [
       "        ncode   proba_0   proba_1   proba_2   proba_3   proba_4\n",
       "0     N4541HD  0.814264  0.971153  0.202596  0.011561  0.000426\n",
       "1     N4397HD  0.068448  0.333140  0.909721  0.518910  0.169781\n",
       "2     N4544HD  1.684342  0.312069  0.003019  0.000475  0.000095\n",
       "3     N4545HD  0.641305  0.800229  0.185510  0.358852  0.014104\n",
       "4     N4546HD  1.149585  0.751265  0.087426  0.011399  0.000325\n",
       "...       ...       ...       ...       ...       ...       ...\n",
       "8517  N5983HF  1.426159  0.563808  0.008537  0.001414  0.000082\n",
       "8518  N5990HF  1.287047  0.700148  0.009147  0.003434  0.000224\n",
       "8519  N5993HF  1.477032  0.466525  0.050471  0.005362  0.000611\n",
       "8520  N5996HF  1.782906  0.211549  0.005110  0.000310  0.000125\n",
       "8521  N5997HF  1.259243  0.726310  0.012721  0.001591  0.000135\n",
       "\n",
       "[8522 rows x 6 columns]"
      ]
     },
     "execution_count": 68,
     "metadata": {},
     "output_type": "execute_result"
    }
   ],
   "source": [
    "sub_df"
   ]
  },
  {
   "cell_type": "code",
   "execution_count": 55,
   "id": "56f1053f",
   "metadata": {},
   "outputs": [],
   "source": [
    "sub_df.to_csv(f'../output/{file_num}_test_submission.csv', header=True, index=False)"
   ]
  },
  {
   "cell_type": "code",
   "execution_count": 71,
   "id": "6365b018",
   "metadata": {},
   "outputs": [
    {
     "data": {
      "text/plain": [
       "(array([5454.,    0., 2343.,    0.,    0.,  351.,    0.,  311.,    0.,\n",
       "          63.]),\n",
       " array([0. , 0.4, 0.8, 1.2, 1.6, 2. , 2.4, 2.8, 3.2, 3.6, 4. ]),\n",
       " <BarContainer object of 10 artists>)"
      ]
     },
     "execution_count": 71,
     "metadata": {},
     "output_type": "execute_result"
    },
    {
     "data": {
      "image/png": "[encoded data removed]",
      "text/plain": [
       "<Figure size 432x288 with 1 Axes>"
      ]
     },
     "metadata": {
      "needs_background": "light"
     },
     "output_type": "display_data"
    }
   ],
   "source": [
    "plt.hist(np.argmax(np.array(sub_df.drop('ncode',axis=1)),axis=1))"
   ]
  },
  {
   "cell_type": "code",
   "execution_count": 58,
   "id": "12e735fe",
   "metadata": {},
   "outputs": [],
   "source": [
    "ans = np.argmax(np.array(df_pred.loc[mask_latest]),axis=1)"
   ]
  },
  {
   "cell_type": "code",
   "execution_count": 59,
   "id": "7740a043",
   "metadata": {},
   "outputs": [
    {
     "data": {
      "text/plain": [
       "(array([[14045.,     0., 10284.,     0.,     0.,  2860.,     0.,  1228.,\n",
       "             0.,   444.],\n",
       "        [16624.,     0.,  9768.,     0.,     0.,  1309.,     0.,   817.,\n",
       "             0.,   343.]]),\n",
       " array([0. , 0.4, 0.8, 1.2, 1.6, 2. , 2.4, 2.8, 3.2, 3.6, 4. ]),\n",
       " <a list of 2 BarContainer objects>)"
      ]
     },
     "execution_count": 59,
     "metadata": {},
     "output_type": "execute_result"
    },
    {
     "data": {
      "image/png": "[encoded data removed]",
      "text/plain": [
       "<Figure size 432x288 with 1 Axes>"
      ]
     },
     "metadata": {
      "needs_background": "light"
     },
     "output_type": "display_data"
    }
   ],
   "source": [
    "plt.hist([y_latest, ans])"
   ]
  },
  {
   "cell_type": "code",
   "execution_count": 63,
   "id": "d2a0b153",
   "metadata": {},
   "outputs": [
    {
     "data": {
      "text/plain": [
       "(array([2776.,    0., 5269.,    0.,    0., 2395.,    0.,  961.,    0.,\n",
       "         352.]),\n",
       " array([0. , 0.4, 0.8, 1.2, 1.6, 2. , 2.4, 2.8, 3.2, 3.6, 4. ]),\n",
       " <BarContainer object of 10 artists>)"
      ]
     },
     "execution_count": 63,
     "metadata": {},
     "output_type": "execute_result"
    },
    {
     "data": {
      "image/png": "[encoded data removed]",
      "text/plain": [
       "<Figure size 432x288 with 1 Axes>"
      ]
     },
     "metadata": {
      "needs_background": "light"
     },
     "output_type": "display_data"
    }
   ],
   "source": [
    "plt.hist(train_df.loc[mask_latest].query(f'{TARGET} != @ans')[TARGET])"
   ]
  },
  {
   "cell_type": "code",
   "execution_count": 53,
   "id": "e61bbd59",
   "metadata": {},
   "outputs": [
    {
     "data": {
      "text/plain": [
       "Index(['userid', 'biggenre', 'genre', 'novel_type', 'isr15', 'isbl', 'isgl',\n",
       "       'iszankoku', 'istensei', 'istenni', 'pc_or_k', 'fav_novel_cnt_bin',\n",
       "       'num_keywords', 'num_sentence', 'max_sentence_len', 'mean_sentence_len',\n",
       "       'num_indent'],\n",
       "      dtype='object')"
      ]
     },
     "execution_count": 53,
     "metadata": {},
     "output_type": "execute_result"
    }
   ],
   "source": [
    "train.columns"
   ]
  },
  {
   "cell_type": "code",
   "execution_count": 55,
   "id": "b66b3c94",
   "metadata": {},
   "outputs": [
    {
     "data": {
      "text/plain": [
       "<seaborn.axisgrid.FacetGrid at 0x7fcd52ba3ee0>"
      ]
     },
     "execution_count": 55,
     "metadata": {},
     "output_type": "execute_result"
    },
    {
     "data": {
      "image/png": "[encoded data removed]",
      "text/plain": [
       "<Figure size 864x216 with 1 Axes>"
      ]
     },
     "metadata": {
      "needs_background": "light"
     },
     "output_type": "display_data"
    }
   ],
   "source": [
    "sns.catplot(x='genre', data=train_df.query(f'{TARGET} == @ans'), kind='count', height=3,aspect=4)"
   ]
  },
  {
   "cell_type": "code",
   "execution_count": 58,
   "id": "53518fc7",
   "metadata": {},
   "outputs": [
    {
     "data": {
      "text/plain": [
       "(array([1.6958e+04, 2.9720e+03, 1.1380e+03, 1.7130e+03, 2.4300e+02,\n",
       "        1.2400e+02, 6.2000e+01, 3.4000e+01, 2.2000e+01, 1.1000e+01]),\n",
       " array([ 106. ,  630.7, 1155.4, 1680.1, 2204.8, 2729.5, 3254.2, 3778.9,\n",
       "        4303.6, 4828.3, 5353. ]),\n",
       " <BarContainer object of 10 artists>)"
      ]
     },
     "execution_count": 58,
     "metadata": {},
     "output_type": "execute_result"
    },
    {
     "data": {
      "image/png": "[encoded data removed]",
      "text/plain": [
       "<Figure size 432x288 with 1 Axes>"
      ]
     },
     "metadata": {
      "needs_background": "light"
     },
     "output_type": "display_data"
    }
   ],
   "source": [
    "plt.hist(train.query(f'{TARGET} == @ans')['past_days'])"
   ]
  },
  {
   "cell_type": "code",
   "execution_count": 62,
   "id": "ff1a56ad",
   "metadata": {},
   "outputs": [
    {
     "data": {
      "text/plain": [
       "(array([27947.,  5141.,  2190.,  3447.,   629.,   333.,   181.,    70.,\n",
       "           34.,    28.]),\n",
       " array([ 106. ,  630.7, 1155.4, 1680.1, 2204.8, 2729.5, 3254.2, 3778.9,\n",
       "        4303.6, 4828.3, 5353. ]),\n",
       " <BarContainer object of 10 artists>)"
      ]
     },
     "execution_count": 62,
     "metadata": {},
     "output_type": "execute_result"
    },
    {
     "data": {
      "image/png": "[encoded data removed]",
      "text/plain": [
       "<Figure size 432x288 with 1 Axes>"
      ]
     },
     "metadata": {
      "needs_background": "light"
     },
     "output_type": "display_data"
    }
   ],
   "source": [
    "plt.hist(train.past_days.values)"
   ]
  },
  {
   "cell_type": "code",
   "execution_count": 63,
   "id": "81052c5c",
   "metadata": {},
   "outputs": [
    {
     "data": {
      "text/plain": [
       "0        2007-04-01 16:40:57\n",
       "1        2007-04-22 15:40:30\n",
       "2        2007-08-22 18:25:54\n",
       "3        2007-09-06 21:33:37\n",
       "4        2007-09-17 01:02:33\n",
       "                ...         \n",
       "39995    2021-08-12 07:00:00\n",
       "39996    2021-08-12 07:36:14\n",
       "39997    2021-08-12 07:44:36\n",
       "39998    2021-08-12 08:00:00\n",
       "39999    2021-08-12 08:00:00\n",
       "Name: general_firstup, Length: 40000, dtype: object"
      ]
     },
     "execution_count": 63,
     "metadata": {},
     "output_type": "execute_result"
    }
   ],
   "source": [
    "train_df.general_firstup"
   ]
  },
  {
   "cell_type": "code",
   "execution_count": 73,
   "id": "e01ebda9",
   "metadata": {},
   "outputs": [],
   "source": [
    "\n",
    "train_df['up_month'] = np.vectorize(lambda x: '-'.join(x.split('-')[0:2]))(train_df.general_firstup)\n",
    "train_df['up_year'] = np.vectorize(lambda x: '-'.join(x.split('-')[0:1]))(train_df.general_firstup)"
   ]
  },
  {
   "cell_type": "code",
   "execution_count": 72,
   "id": "c6c88c25",
   "metadata": {},
   "outputs": [
    {
     "data": {
      "text/plain": [
       "2021-07    6521\n",
       "2021-06    4365\n",
       "2021-05    3162\n",
       "2021-08    2303\n",
       "2021-04    2028\n",
       "           ... \n",
       "2008-12       1\n",
       "2010-01       1\n",
       "2009-12       1\n",
       "2010-07       1\n",
       "2009-02       1\n",
       "Name: up_month, Length: 166, dtype: int64"
      ]
     },
     "execution_count": 72,
     "metadata": {},
     "output_type": "execute_result"
    }
   ],
   "source": [
    "train_df.up_month.value_counts()"
   ]
  },
  {
   "cell_type": "code",
   "execution_count": 61,
   "id": "57e3e82c",
   "metadata": {},
   "outputs": [
    {
     "data": {
      "text/plain": [
       "0        5353\n",
       "1        5332\n",
       "2        5209\n",
       "3        5194\n",
       "4        5184\n",
       "         ... \n",
       "39995     106\n",
       "39996     106\n",
       "39997     106\n",
       "39998     106\n",
       "39999     106\n",
       "Name: past_days, Length: 40000, dtype: int64"
      ]
     },
     "execution_count": 61,
     "metadata": {},
     "output_type": "execute_result"
    }
   ],
   "source": [
    "train.past_days"
   ]
  },
  {
   "cell_type": "code",
   "execution_count": 24,
   "id": "df4cc63d",
   "metadata": {},
   "outputs": [
    {
     "name": "stdout",
     "output_type": "stream",
     "text": [
      "0.6446\n"
     ]
    }
   ],
   "source": [
    "accuracy = sum(val_y == val_pred_max) / len(val_y)\n",
    "print(accuracy)"
   ]
  },
  {
   "cell_type": "code",
   "execution_count": 26,
   "id": "4dd44a7f",
   "metadata": {},
   "outputs": [
    {
     "data": {
      "image/png": "[encoded data removed]",
      "text/plain": [
       "<Figure size 864x576 with 1 Axes>"
      ]
     },
     "metadata": {
      "needs_background": "light"
     },
     "output_type": "display_data"
    }
   ],
   "source": [
    "lgbm.plot_importance(model, figsize=(12,8), max_num_features=50, importance_type='gain')\n",
    "plt.tight_layout()\n",
    "plt.show()"
   ]
  },
  {
   "cell_type": "code",
   "execution_count": 23,
   "id": "eb6e2ef8",
   "metadata": {},
   "outputs": [
    {
     "data": {
      "text/plain": [
       "(array([[2498.,    0., 1741.,    0.,    0.,  491.,    0.,  223.,    0.,\n",
       "           47.],\n",
       "        [3122.,    0., 1379.,    0.,    0.,  365.,    0.,  118.,    0.,\n",
       "           16.]]),\n",
       " array([0. , 0.4, 0.8, 1.2, 1.6, 2. , 2.4, 2.8, 3.2, 3.6, 4. ]),\n",
       " <a list of 2 BarContainer objects>)"
      ]
     },
     "execution_count": 23,
     "metadata": {},
     "output_type": "execute_result"
    },
    {
     "data": {
      "image/png": "[encoded data removed]",
      "text/plain": [
       "<Figure size 432x288 with 1 Axes>"
      ]
     },
     "metadata": {
      "needs_background": "light"
     },
     "output_type": "display_data"
    }
   ],
   "source": [
    "plt.hist([val_y, val_pred_max])"
   ]
  },
  {
   "cell_type": "code",
   "execution_count": 27,
   "id": "9d41cdfc",
   "metadata": {},
   "outputs": [],
   "source": [
    "test_pred = model.predict(test_x, num_iteration=model.best_iteration)\n",
    "sub_df.iloc[:, 1:] = test_pred\n",
    "sub_df.to_csv(f'../output/{file_num}_test_submission.csv', index=False)"
   ]
  }
 ],
 "metadata": {
  "kernelspec": {
   "display_name": "venv",
   "language": "python",
   "name": "venv"
  },
  "language_info": {
   "codemirror_mode": {
    "name": "ipython",
    "version": 3
   },
   "file_extension": ".py",
   "mimetype": "text/x-python",
   "name": "python",
   "nbconvert_exporter": "python",
   "pygments_lexer": "ipython3",
   "version": "3.8.10"
  }
 },
 "nbformat": 4,
 "nbformat_minor": 5
}

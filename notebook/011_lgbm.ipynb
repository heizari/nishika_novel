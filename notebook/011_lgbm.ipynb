{
 "cells": [
  {
   "cell_type": "code",
   "execution_count": 1,
   "id": "9ec8b25e",
   "metadata": {},
   "outputs": [],
   "source": [
    "file_num = '011'"
   ]
  },
  {
   "cell_type": "code",
   "execution_count": 2,
   "id": "25c977f7",
   "metadata": {},
   "outputs": [],
   "source": [
    "import json\n",
    "import pickle\n",
    "import re\n",
    "from glob import glob\n",
    "from tqdm import tqdm\n",
    "from pdb import set_trace as trace\n",
    "from xfeat import Pipeline, SelectCategorical, LabelEncoder\n",
    "import regex\n",
    "import pandas as pd\n",
    "import numpy as np\n",
    "import matplotlib.pyplot as plt\n",
    "import lightgbm as lgbm\n",
    "from sklearn.metrics import log_loss"
   ]
  },
  {
   "cell_type": "code",
   "execution_count": 3,
   "id": "fb4de0b7",
   "metadata": {},
   "outputs": [],
   "source": [
    "def removeZenkakuSpace(df, cols):\n",
    "    for col in cols:\n",
    "        df[col] = df[col].str.replace('　', ' ')\n",
    "    return df\n",
    "\n",
    "def histEachFavs(df, col, height=3, aspect=4, title=''):\n",
    "    for fav in sorted(df[FAV].unique()):\n",
    "        sns.catplot(x=col,data=df.query(f\"{FAV} == @fav\"),kind='count',height=height, aspect=aspect)\n",
    "        plt.title(f'{title} fav group:{fav}')\n",
    "        \n",
    "def getQueries(df, cols):\n",
    "    assert type(cols) == str or type(cols) == list, 'cols is str or list'\n",
    "    queries = []\n",
    "    if type(cols) == str:\n",
    "        queries = [f'{cols} == {flag}' for flag in sorted(df[cols].unique())]\n",
    "    elif type(cols) == list:\n",
    "        for col in cols:\n",
    "            col_queries = [f'{col} == {flag}' for flag in sorted(df[col].unique())]\n",
    "            if len(queries) == 0:\n",
    "                queries = col_queries\n",
    "            else:\n",
    "                queries = [f\"{q} & {col_queries[0]}\" for q in queries] + [f'{q} & {col_queries[1]}' for q in queries]\n",
    "            \n",
    "    return queries\n",
    "\n",
    "def columnUnique(df, col):\n",
    "    return sorted(df[col].unique())\n",
    "\n",
    "def histColumnsFavs(df, cols:list, height=3, aspect=6, title=''):\n",
    "    queries = getQueries(df, cols)\n",
    "    for query in queries:\n",
    "        data = df.query(query)\n",
    "        if len(data) == 0:\n",
    "            continue\n",
    "        sns.catplot(x=FAV,data=data,kind='count',height=height, aspect=aspect)\n",
    "        plt.title(f'{title} {query}')\n",
    "        \n",
    "def histEachFavsByCategory(df, df_target, col):\n",
    "    cats = sorted(df[col].unique())\n",
    "    for cat in cats:\n",
    "        fig, axes = plt.subplots(figsize=(30,10), ncols=3, nrows=2)\n",
    "        for ax, fav in zip(axes.ravel(), favs):\n",
    "            target_mask = (df[FAV] == fav) & (df[col] == cat)\n",
    "            ax.hist(df_target.loc[target_mask], bins=100)\n",
    "            ax.set_xlim(-1,df_target.max())\n",
    "            ax.set_title(f'bgenre:{cat}, fav:{fav}, num={target_mask.sum()}')"
   ]
  },
  {
   "cell_type": "code",
   "execution_count": 4,
   "id": "ec2c8f64",
   "metadata": {},
   "outputs": [],
   "source": [
    "def featureNumKeywords(df):\n",
    "    num_keywords = np.vectorize(lambda x: len(x.split()))(df.keyword)\n",
    "    return pd.DataFrame(data=num_keywords, columns=['num_keywords'])\n",
    "\n",
    "def featureMaxSentenceLength(story):\n",
    "    sentences_len = [len(sentence) for sentence in story.split('\\n')]\n",
    "    return max(sentences_len)\n",
    "    \n",
    "def featureNumIndent(story):\n",
    "    return len(list(filter(lambda x: len(x) == 0 ,story.split('\\n'))))\n",
    "    \n",
    "def featureStory(df):\n",
    "    feature_df = pd.DataFrame()\n",
    "    feature_df['num_sentence'] = df.story.str.count('\\n')\n",
    "    feature_df['max_sentence_len'] = np.vectorize(featureMaxSentenceLength)(df.story)\n",
    "    feature_df['mean_sentence_len'] = (df.story.str.len() / (df.story.str.count('\\n') +1)).astype('int')\n",
    "    feature_df['num_indent'] = np.vectorize(featureNumIndent)(df.story)\n",
    "    \n",
    "    return feature_df\n",
    "    \n",
    "def concatDfs(dfs:list):\n",
    "    concat_df = pd.DataFrame()\n",
    "#     trace()\n",
    "    for df in dfs:\n",
    "        df.reset_index(drop=True, inplace=True)\n",
    "        concat_df = pd.concat([concat_df, df], axis=1)\n",
    "        \n",
    "    return concat_df "
   ]
  },
  {
   "cell_type": "code",
   "execution_count": 5,
   "id": "4b407a3e",
   "metadata": {},
   "outputs": [],
   "source": [
    "out_dir = '../output'\n",
    "train_df = pd.read_csv('../dataset/train.csv')\n",
    "test_df = pd.read_csv('../dataset/test.csv')\n",
    "sub_df = pd.read_csv('../dataset/sample_submission.csv')\n",
    "ID = 'ncode'\n",
    "TARGET = 'fav_novel_cnt_bin'\n",
    "favs = sorted(train_df[TARGET].unique())\n",
    "\n",
    "# # train_df.userid = train_df.userid.astype('str')\n",
    "# train_df.genre = train_df.genre.astype('str')\n",
    "# test_df.userid = test_df.userid.astype('str')\n",
    "# test_df.genre = test_df.genre.astype('str')\n",
    "str_cols = ['title', 'story', 'keyword', 'writer']"
   ]
  },
  {
   "cell_type": "code",
   "execution_count": 6,
   "id": "52983e27",
   "metadata": {},
   "outputs": [],
   "source": [
    "train_df = removeZenkakuSpace(train_df, str_cols)\n",
    "test_df = removeZenkakuSpace(test_df, str_cols)"
   ]
  },
  {
   "cell_type": "code",
   "execution_count": 7,
   "id": "4aa2cab1",
   "metadata": {},
   "outputs": [],
   "source": [
    "all_df = pd.concat([train_df,test_df])\n",
    "train_idx = len(train_df)"
   ]
  },
  {
   "cell_type": "code",
   "execution_count": 8,
   "id": "7e7b037a",
   "metadata": {},
   "outputs": [],
   "source": [
    "encoder = Pipeline([\n",
    "    SelectCategorical(),\n",
    "    LabelEncoder(output_suffix=\"\"),\n",
    "])\n",
    "\n",
    "le_df = encoder.fit_transform(all_df)\n",
    "all_df['writer'] = le_df['writer']"
   ]
  },
  {
   "cell_type": "code",
   "execution_count": 9,
   "id": "dc028fc2",
   "metadata": {},
   "outputs": [
    {
     "data": {
      "text/plain": [
       "Index(['ncode', 'general_firstup', 'title', 'story', 'keyword', 'userid',\n",
       "       'writer', 'biggenre', 'genre', 'novel_type', 'end', 'isstop', 'isr15',\n",
       "       'isbl', 'isgl', 'iszankoku', 'istensei', 'istenni', 'pc_or_k',\n",
       "       'fav_novel_cnt_bin'],\n",
       "      dtype='object')"
      ]
     },
     "execution_count": 9,
     "metadata": {},
     "output_type": "execute_result"
    }
   ],
   "source": [
    "train_df.columns"
   ]
  },
  {
   "cell_type": "code",
   "execution_count": 10,
   "id": "beb31ee9",
   "metadata": {},
   "outputs": [],
   "source": [
    "all_df.keyword = all_df.keyword.fillna('')"
   ]
  },
  {
   "cell_type": "code",
   "execution_count": 11,
   "id": "20dac7c2",
   "metadata": {},
   "outputs": [],
   "source": [
    "import datetime\n",
    "\n",
    "dt_now = datetime.datetime.now()\n",
    "all_df['past_days'] = all_df['general_firstup'].apply(lambda x: (dt_now - datetime.datetime.strptime(x, '%Y-%m-%d %H:%M:%S')).days)"
   ]
  },
  {
   "cell_type": "code",
   "execution_count": 12,
   "id": "8cdf55b3",
   "metadata": {},
   "outputs": [],
   "source": [
    "num_keyword_df = featureNumKeywords(all_df)"
   ]
  },
  {
   "cell_type": "code",
   "execution_count": 13,
   "id": "7dd751a0",
   "metadata": {},
   "outputs": [],
   "source": [
    "story_df = featureStory(all_df)"
   ]
  },
  {
   "cell_type": "code",
   "execution_count": 14,
   "id": "6898dde4",
   "metadata": {},
   "outputs": [
    {
     "data": {
      "text/plain": [
       "48522"
      ]
     },
     "execution_count": 14,
     "metadata": {},
     "output_type": "execute_result"
    }
   ],
   "source": [
    "len(all_df)"
   ]
  },
  {
   "cell_type": "code",
   "execution_count": 15,
   "id": "1e2a43fd",
   "metadata": {},
   "outputs": [],
   "source": [
    "cat_cols = ['userid', 'biggenre', 'genre', 'novel_type', 'end', 'isstop', 'isr15', 'isbl', 'isgl', 'iszankoku', 'istensei', 'istenni']"
   ]
  },
  {
   "cell_type": "code",
   "execution_count": 16,
   "id": "0e05d81b",
   "metadata": {},
   "outputs": [],
   "source": [
    "num_cols = ['past_days'] + list(num_keyword_df.columns) + list(story_df.columns)"
   ]
  },
  {
   "cell_type": "code",
   "execution_count": 17,
   "id": "86703719",
   "metadata": {},
   "outputs": [],
   "source": [
    "feat_cols = cat_cols + num_cols"
   ]
  },
  {
   "cell_type": "code",
   "execution_count": 18,
   "id": "9aef0c97",
   "metadata": {},
   "outputs": [
    {
     "data": {
      "text/plain": [
       "(48522, 26)"
      ]
     },
     "metadata": {},
     "output_type": "display_data"
    }
   ],
   "source": [
    "concat_df = concatDfs([all_df, num_keyword_df, story_df])\n",
    "display(concat_df.shape)"
   ]
  },
  {
   "cell_type": "code",
   "execution_count": 19,
   "id": "3adeb9d3",
   "metadata": {},
   "outputs": [
    {
     "name": "stdout",
     "output_type": "stream",
     "text": [
      "(35000, 26) (5000, 26) (8522, 26)\n"
     ]
    }
   ],
   "source": [
    "train = concat_df.iloc[:35000, :]\n",
    "val = concat_df.iloc[35000:train_idx, :]\n",
    "test = concat_df.iloc[train_idx:, :]\n",
    "print(train.shape, val.shape, test.shape)"
   ]
  },
  {
   "cell_type": "code",
   "execution_count": 20,
   "id": "42b8051e",
   "metadata": {},
   "outputs": [
    {
     "data": {
      "text/plain": [
       "(35000, 18)"
      ]
     },
     "execution_count": 20,
     "metadata": {},
     "output_type": "execute_result"
    }
   ],
   "source": [
    "train_x = train[feat_cols]\n",
    "train_y = train[TARGET]\n",
    "val_x = val[feat_cols]\n",
    "val_y = val[TARGET]\n",
    "test_x = test[feat_cols]\n",
    "test_y = test[TARGET]\n",
    "train_x.shape"
   ]
  },
  {
   "cell_type": "code",
   "execution_count": 21,
   "id": "e750af18",
   "metadata": {},
   "outputs": [
    {
     "name": "stderr",
     "output_type": "stream",
     "text": [
      "/home/wsato/work/venv/lib/python3.8/site-packages/lightgbm/engine.py:177: UserWarning: Found `num_boost_round` in params. Will use it instead of argument\n",
      "  _log_warning(f\"Found `{alias}` in params. Will use it instead of argument\")\n",
      "/home/wsato/work/venv/lib/python3.8/site-packages/lightgbm/basic.py:2068: UserWarning: categorical_feature in Dataset is overridden.\n",
      "New categorical_feature is ['biggenre', 'end', 'genre', 'isbl', 'isgl', 'isr15', 'isstop', 'istenni', 'istensei', 'iszankoku', 'novel_type', 'userid']\n",
      "  _log_warning('categorical_feature in Dataset is overridden.\\n'\n",
      "/home/wsato/work/venv/lib/python3.8/site-packages/lightgbm/engine.py:240: UserWarning: 'verbose_eval' argument is deprecated and will be removed in a future release of LightGBM. Pass 'log_evaluation()' callback via 'callbacks' argument instead.\n",
      "  _log_warning(\"'verbose_eval' argument is deprecated and will be removed in a future release of LightGBM. \"\n",
      "/home/wsato/work/venv/lib/python3.8/site-packages/lightgbm/basic.py:1780: UserWarning: Overriding the parameters from Reference Dataset.\n",
      "  _log_warning('Overriding the parameters from Reference Dataset.')\n",
      "/home/wsato/work/venv/lib/python3.8/site-packages/lightgbm/basic.py:1513: UserWarning: categorical_column in param dict is overridden.\n",
      "  _log_warning(f'{cat_alias} in param dict is overridden.')\n"
     ]
    },
    {
     "name": "stdout",
     "output_type": "stream",
     "text": [
      "Training until validation scores don't improve for 100 rounds\n",
      "[100]\ttrain's multi_logloss: 0.920829\tvalid's multi_logloss: 0.90429\n",
      "[200]\ttrain's multi_logloss: 0.839343\tvalid's multi_logloss: 0.846904\n",
      "[300]\ttrain's multi_logloss: 0.800125\tvalid's multi_logloss: 0.824676\n",
      "[400]\ttrain's multi_logloss: 0.776134\tvalid's multi_logloss: 0.813683\n",
      "[500]\ttrain's multi_logloss: 0.75934\tvalid's multi_logloss: 0.807562\n",
      "[600]\ttrain's multi_logloss: 0.745849\tvalid's multi_logloss: 0.804211\n",
      "[700]\ttrain's multi_logloss: 0.734512\tvalid's multi_logloss: 0.802301\n",
      "[800]\ttrain's multi_logloss: 0.724301\tvalid's multi_logloss: 0.801105\n",
      "[900]\ttrain's multi_logloss: 0.71474\tvalid's multi_logloss: 0.800381\n",
      "[1000]\ttrain's multi_logloss: 0.706002\tvalid's multi_logloss: 0.799795\n",
      "[1100]\ttrain's multi_logloss: 0.698021\tvalid's multi_logloss: 0.799544\n",
      "[1200]\ttrain's multi_logloss: 0.69045\tvalid's multi_logloss: 0.799511\n",
      "Early stopping, best iteration is:\n",
      "[1172]\ttrain's multi_logloss: 0.692575\tvalid's multi_logloss: 0.799303\n"
     ]
    }
   ],
   "source": [
    "\n",
    "SEED = 0\n",
    "\n",
    "params = {\n",
    "    'objective': 'multiclass',\n",
    "    'num_classes': 5,\n",
    "    'metric': 'multi_logloss',\n",
    "    'num_leaves': 42,\n",
    "    'max_depth': 7,\n",
    "    \"feature_fraction\": 0.8,\n",
    "    'subsample_freq': 1,\n",
    "    \"bagging_fraction\": 0.95,\n",
    "    'min_data_in_leaf': 2,\n",
    "    'learning_rate': 0.01,\n",
    "    \"boosting\": \"gbdt\",\n",
    "    \"lambda_l1\": 0.1,\n",
    "    \"lambda_l2\": 10,\n",
    "    \"verbosity\": -1,\n",
    "    \"random_state\": 42,\n",
    "    \"num_boost_round\": 5000,\n",
    "    \"early_stopping_rounds\": 100\n",
    "}\n",
    "\n",
    "train_data = lgbm.Dataset(train_x, label=train_y)\n",
    "val_data = lgbm.Dataset(val_x, label=val_y)\n",
    "\n",
    "model = lgbm.train(\n",
    "    params,\n",
    "    train_data, \n",
    "    categorical_feature = cat_cols,\n",
    "    valid_names = ['train', 'valid'],\n",
    "    valid_sets =[train_data, val_data], \n",
    "    verbose_eval = 100,\n",
    ")\n",
    "\n",
    "val_pred = model.predict(val_x, num_iteration=model.best_iteration)\n",
    "\n",
    "pred_df = pd.DataFrame(sorted(zip(val_x.index, val_pred, val_y)), columns=['index', 'predict', 'actual'])\n",
    "\n",
    "feature_imp = pd.DataFrame(sorted(zip(model.feature_importance(), train_x.columns)), columns=['importance', 'feature'])"
   ]
  },
  {
   "cell_type": "code",
   "execution_count": 24,
   "id": "43b40ac1",
   "metadata": {},
   "outputs": [
    {
     "data": {
      "text/plain": [
       "array([[5.24113819e-01, 4.44273044e-01, 2.40200683e-02, 6.49761068e-03,\n",
       "        1.09545808e-03],\n",
       "       [7.44046683e-02, 5.22984026e-01, 2.06628708e-01, 1.49927161e-01,\n",
       "        4.60554365e-02],\n",
       "       [4.98142702e-01, 3.72812809e-01, 1.03118699e-01, 2.44148872e-02,\n",
       "        1.51090283e-03],\n",
       "       ...,\n",
       "       [6.30992945e-01, 2.81334833e-01, 7.40254826e-02, 1.26544986e-02,\n",
       "        9.92240745e-04],\n",
       "       [6.72085004e-01, 2.83467573e-01, 3.58564854e-02, 7.51054253e-03,\n",
       "        1.08039531e-03],\n",
       "       [7.99925897e-01, 1.86794453e-01, 9.37653495e-03, 3.30213226e-03,\n",
       "        6.00982370e-04]])"
      ]
     },
     "execution_count": 24,
     "metadata": {},
     "output_type": "execute_result"
    }
   ],
   "source": [
    "val_pred"
   ]
  },
  {
   "cell_type": "code",
   "execution_count": 22,
   "id": "878dc12a",
   "metadata": {},
   "outputs": [
    {
     "name": "stdout",
     "output_type": "stream",
     "text": [
      "0.6436\n"
     ]
    }
   ],
   "source": [
    "val_pred = model.predict(val_x, num_iteration=model.best_iteration)\n",
    "val_pred_max = np.argmax(val_pred, axis=1)  # 最尤と判断したクラスの値にする\n",
    "accuracy = sum(val_y == val_pred_max) / len(val_y)\n",
    "print(accuracy)"
   ]
  },
  {
   "cell_type": "code",
   "execution_count": 26,
   "id": "4f6b42a8",
   "metadata": {},
   "outputs": [
    {
     "data": {
      "image/png": "[encoded data removed]",
      "text/plain": [
       "<Figure size 864x576 with 1 Axes>"
      ]
     },
     "metadata": {
      "needs_background": "light"
     },
     "output_type": "display_data"
    }
   ],
   "source": [
    "lgbm.plot_importance(model, figsize=(12,8), max_num_features=50, importance_type='gain')\n",
    "plt.tight_layout()\n",
    "plt.show()"
   ]
  },
  {
   "cell_type": "code",
   "execution_count": 23,
   "id": "9f6f5d5e",
   "metadata": {},
   "outputs": [
    {
     "data": {
      "text/plain": [
       "(array([[2498.,    0., 1741.,    0.,    0.,  491.,    0.,  223.,    0.,\n",
       "           47.],\n",
       "        [3122.,    0., 1379.,    0.,    0.,  365.,    0.,  118.,    0.,\n",
       "           16.]]),\n",
       " array([0. , 0.4, 0.8, 1.2, 1.6, 2. , 2.4, 2.8, 3.2, 3.6, 4. ]),\n",
       " <a list of 2 BarContainer objects>)"
      ]
     },
     "execution_count": 23,
     "metadata": {},
     "output_type": "execute_result"
    },
    {
     "data": {
      "image/png": "[encoded data removed]",
      "text/plain": [
       "<Figure size 432x288 with 1 Axes>"
      ]
     },
     "metadata": {
      "needs_background": "light"
     },
     "output_type": "display_data"
    }
   ],
   "source": [
    "plt.hist([val_y, val_pred_max])"
   ]
  },
  {
   "cell_type": "code",
   "execution_count": 27,
   "id": "a3f01673",
   "metadata": {},
   "outputs": [],
   "source": [
    "test_pred = model.predict(test_x, num_iteration=model.best_iteration)\n",
    "sub_df.iloc[:, 1:] = test_pred\n",
    "sub_df.to_csv(f'../output/test_submission_{file_num}.csv', index=False)"
   ]
  }
 ],
 "metadata": {
  "kernelspec": {
   "display_name": "venv",
   "language": "python",
   "name": "venv"
  },
  "language_info": {
   "codemirror_mode": {
    "name": "ipython",
    "version": 3
   },
   "file_extension": ".py",
   "mimetype": "text/x-python",
   "name": "python",
   "nbconvert_exporter": "python",
   "pygments_lexer": "ipython3",
   "version": "3.8.10"
  }
 },
 "nbformat": 4,
 "nbformat_minor": 5
}
